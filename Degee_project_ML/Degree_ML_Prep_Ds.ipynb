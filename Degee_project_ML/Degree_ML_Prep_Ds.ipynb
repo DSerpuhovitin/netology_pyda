{
 "cells": [
  {
   "cell_type": "code",
   "execution_count": 162,
   "metadata": {},
   "outputs": [],
   "source": [
    "import os\n",
    "import pandas as pd\n",
    "import numpy as np\n",
    "import re\n",
    "#определение региона по страны\n",
    "from countryinfo import CountryInfo #https://github.com/porimol/countryinfo"
   ]
  },
  {
   "cell_type": "markdown",
   "metadata": {},
   "source": [
    "# Гипотеза:  \n",
    "___Экономика государств с развитой государственной поддержкой инновационных предприятий (инновационной системы) растёт интенсивнее.___\n",
    "\n",
    "Для этого, выбираю следующие показатели:  \n",
    "\n",
    "___1.1.\tPolitical environment (интегральный покозатель)___  \n",
    "1.1.1.\tPolitical stability and absence of violence/terrorism  \n",
    "1.1.2.\tGovernment effectiveness  \n",
    "1.1.3.\tPress freedom  \n",
    "\n",
    "___1.2.\tRegulatory environment (интегральный покозатель)___  \n",
    "1.2.1.\tRegulatory quality  \n",
    "1.2.2.\tRule of law  \n",
    "1.2.3.\tCost of redundancy dismissal  \n",
    "\n",
    "___1.3.\tBusiness environment (интегральный покозатель)___  \n",
    "1.3.1.\tEase of starting a business  \n",
    "1.3.2.\tEase of resolving insolvency  \n",
    "1.3.3.\tEase of paying taxes  \n",
    "\n",
    "2.1.1.\tExpenditure on education  \n",
    "2.1.2.\tPublic expenditure on education per pupil  \n",
    "\n",
    "2.1.5.\tPupil-teacher ratio, secondary  \n",
    "\n",
    "2.2.1.\tTertiary enrolment  \n",
    "2.2.2.\tGraduates in science and engineering  \n",
    "\n",
    "2.3.1.\tResearchers  \n",
    "2.3.2.\tGross expenditure on R&D (GERD)  \n",
    "\n",
    "3.1.3.\tGovernment's online service  \n",
    "\n",
    "3.2.1.\tElectricity output  \n",
    "3.2.3.\tLogistics performance  \n",
    "\n",
    "3.3.2.\tEnvironmental performance  \n",
    "\n",
    "\n",
    "___4.1.\tCredit (интегральный покозатель)___  \n",
    "4.1.1.\tEase of getting credit  \n",
    "4.1.2.\tDomestic credit to private sector  \n",
    "4.1.3.\tMicrofinance institutions' gross loan portfolio  \n",
    "\n",
    "4.2.1.\tEase of protecting investors  \n",
    "\n",
    "4.2.4.\tVenture capital deals  \n",
    "\n",
    "4.3.2.\tMarket access for non-agricultural exports  \n",
    "4.3.3.\tIntensity of local competition  \n",
    "\n",
    "5.1.2.\tFirms offering formal training  \n",
    "\n",
    "___5.2.\tInnovation linkages (интегральный покозатель)___   \n",
    "5.2.1.\tUniversity/industry research collaboration  \n",
    "5.2.2.\tState of cluster development  \n",
    "5.2.3.\tGERD financed by abroad  \n",
    "5.2.4.\tJoint venture/strategic alliance deals  \n",
    "5.2.5.\tPatent families filed in at least three offices  \n",
    "\n",
    "5.3.1.\tRoyalties and license fees payments (% of service imports)  \n",
    "5.3.4.\tForeign direct investment net inflows  \n",
    "\n",
    "6.1.2.\tPatent Cooperation Treaty resident applications  \n",
    "\n",
    "6.3.4.\tForeign direct investment net outflows\n",
    "\n",
    "Я выбрал 37 показателей, которые могут характеризовать государственную поддержку и 5 интегральных позателей (вероятно они могут быть полезны для свёртки)"
   ]
  },
  {
   "cell_type": "code",
   "execution_count": 163,
   "metadata": {},
   "outputs": [],
   "source": [
    "list_fe = ['Political stability and absence of violence/terrorism',\n",
    "           'Government effectiveness',\n",
    "           'Press freedom','Regulatory quality',\n",
    "           'Rule of law', 'Cost of redundancy dismissal',\n",
    "           'Ease of starting a business',\n",
    "           'Ease of resolving insolvency',\n",
    "           'Ease of paying taxes',\n",
    "           'Expenditure on education',\n",
    "           'Public expenditure on education per pupil',\n",
    "           'Pupil-teacher ratio, secondary',\n",
    "           'Tertiary enrolment',\n",
    "           'Graduates in science and engineering','Researchers',\n",
    "           'Gross expenditure on R&D (GERD)',\n",
    "           \"Government's online service\",\n",
    "           'Electricity output',\n",
    "           'Logistics performance',\n",
    "           'Environmental performance',\n",
    "           'Ease of getting credit',\n",
    "           'Domestic credit to private sector',\n",
    "           \"Microfinance institutions' gross loan portfolio\",\n",
    "           'Ease of protecting investors',\n",
    "           'Venture capital deals',\n",
    "           'Market access for non-agricultural exports',\n",
    "           'Intensity of local competition',\n",
    "           'Firms offering formal training',\n",
    "           'University/industry research collaboration',\n",
    "           'State of cluster development',\n",
    "           'GERD financed by abroad',\n",
    "           'Joint venture/strategic alliance deals',\n",
    "           'Patent families filed in at least three offices',\n",
    "           'Royalties and license fees payments (% of service imports)',\n",
    "           'Foreign direct investment net inflows',\n",
    "           'Patent Cooperation Treaty resident applications',\n",
    "           'Foreign direct investment net outflows']\n",
    "#интегральные показатели\n",
    "list_intfe = ['Political environment', 'Regulatory environment', 'Business environment', 'Credit']"
   ]
  },
  {
   "cell_type": "code",
   "execution_count": 164,
   "metadata": {},
   "outputs": [],
   "source": [
    "data_dir = 'C:\\\\Users\\\\dserp\\\\ML\\\\Degree_ML\\\\full'\n",
    "file_list = os.listdir(data_dir)"
   ]
  },
  {
   "cell_type": "markdown",
   "metadata": {},
   "source": [
    "## Формирую датасет"
   ]
  },
  {
   "cell_type": "code",
   "execution_count": 165,
   "metadata": {},
   "outputs": [],
   "source": [
    "data = {} #словарь датасетов с показателми без интегральных"
   ]
  },
  {
   "cell_type": "markdown",
   "metadata": {},
   "source": [
    "Предобработка"
   ]
  },
  {
   "cell_type": "markdown",
   "metadata": {},
   "source": [
    "### Переименоваю названия стран, для дальнейшего распознования региона"
   ]
  },
  {
   "cell_type": "code",
   "execution_count": 166,
   "metadata": {},
   "outputs": [],
   "source": [
    "rename_dict = {\n",
    "    'Bolivia (Plurinational State of)' : 'Bolivia',\n",
    "    'Bolivia, Plurinational St.' : 'Bolivia',\n",
    "    'Bolivia, Plurinational State of' : 'Bolivia',\n",
    "    'Bahamas' : 'Commonwealth of The Bahamas',\n",
    "    'Bahamas, Commonwealth of the' : 'Commonwealth of The Bahamas',\n",
    "    'Bahamas, Commonwealth of' : 'Commonwealth of The Bahamas',\n",
    "    'Brunei Darussalam' : 'Nation of Brunei',\n",
    "    'Brunei' : 'Nation of Brunei',\n",
    "    'Cabo Verde' : 'Cape Verde',\n",
    "    'Congo, Democratic Republic of the': 'Republic of the Congo',\n",
    "    'Congo' : 'Republic of the Congo',\n",
    "    \"Cote d'Ivoire\" : 'Ivory Coast',\n",
    "    \"Côte d'Ivoire\" : 'Ivory Coast',\n",
    "    'Cote dIvoire' : 'Ivory Coast',\n",
    "    'Czech Republic (the)' : 'Czech Republic',\n",
    "    'Dominican Republic (the)' : 'Dominican Republic',\n",
    "    'Iran (Islamic Republic of)' : 'Iran',\n",
    "    'Iran, Islamic Rep.' : 'Iran',\n",
    "    'Iran, Islamic Republic of' : 'Iran',\n",
    "    'Gambia' : 'Republic of The Gambia',\n",
    "    'Guinea-Bissau' : 'Republic of Guinea-Bissau',\n",
    "    'Guinea Bissau' : 'Republic of Guinea-Bissau',\n",
    "    'Guinea-Bissau, Republic of': 'Republic of Guinea-Bissau',\n",
    "    'Holy See (Vatican City State)' : 'Vatican',\n",
    "    'Hong Kong (China)' : 'Hong Kong',\n",
    "    'Hong Kong, China' : 'Hong Kong',\n",
    "    \"Korea, Democratic People's Republic of\" : \"Democratic People's Republic of Korea\",\n",
    "    'Korea, Rep.' : 'Republic of Korea',\n",
    "    'Republic of Korea (the)' : 'Republic of Korea',\n",
    "    'Korea, Republic of' : 'Republic of Korea',\n",
    "    'Moldova, Rep.' : 'Moldova',\n",
    "    'Moldova, Republic of' : 'Moldova',\n",
    "    'Micronesia, Federated States of' : 'Federated States of Micronesia',\n",
    "    'Micronesia' : 'Federated States of Micronesia',\n",
    "    'Republic of Moldova (the)' : 'Moldova',\n",
    "    'North Macedonia' : 'Republic of Macedonia',\n",
    "    'TFYR Macedonia' : 'Republic of Macedonia',\n",
    "    'The Former Yugoslav Republic (FYR) of Macedonia' : 'Republic of Macedonia',\n",
    "    'Timor-Leste' : 'Democratic Republic of Timor-Leste',\n",
    "    'Netherlands (the)' : 'Netherlands',\n",
    "    'Niger (the)' : 'Niger',\n",
    "    'Russian Federation (the)' : 'Russian Federation',\n",
    "    'Sudan (pre-secession)' : 'Sudan',\n",
    "    'Sao Tome and Principe' : \"Democratic Republic of São Tomé and Príncipe\",\n",
    "    'Tanzania, United Rep.' : 'Tanzania',\n",
    "    'Tanzania, United Republic of' : 'Tanzania',\n",
    "    'United Republic of Tanzania (the)' : 'Tanzania',\n",
    "    'Taiwan, Province of China' : 'Taiwan',\n",
    "    'United Arab Emirates (the)' : 'United States of America',\n",
    "    'United States of America (the)' : 'United States of America',\n",
    "    'United Kingdom (the)' : 'United Kingdom',\n",
    "    'Venezuela, Bolivarian Rep.' : 'Venezuela',\n",
    "    'Venezuela, Bolivarian Republic of' : 'Venezuela',\n",
    "    'Viet Nam' : 'VietNam'}"
   ]
  },
  {
   "cell_type": "code",
   "execution_count": 167,
   "metadata": {},
   "outputs": [],
   "source": [
    "for file in file_list:\n",
    "    df_temp = pd.read_csv(os.path.join(data_dir, file))\n",
    "        \n",
    "    #Переименовываю столбцы \n",
    "    df_temp.rename(columns = {list(df_temp.iloc[:, [0]])[0] : re.sub('\\D','', file), \n",
    "                            list(df_temp.iloc[:, [1]])[0] : 'Indicator'},\n",
    "                   inplace = True)\n",
    "                   \n",
    "    #переименование стран\n",
    "    df_temp.rename(columns = rename_dict, inplace = True)\n",
    "    \n",
    "    #удаляю дупликаты\n",
    "    df_temp = df_temp.loc[:,~df_temp.columns.duplicated()]\n",
    "    \n",
    "    #удаляю строку 'Indicator' (индекс 0) и 'Index' (индекс 4 или 5) - они содержат только Nan (видимо для красоты таблички, для открытия в Excel)\n",
    "    a = df_temp.loc[df_temp[list(df_temp.iloc[:, [0]])[0]] == 'Index'].index\n",
    "    df_temp.drop([0, a[0]], inplace = True)\n",
    "\n",
    "    #в датафрейме есть значения '  '(и не числовые значения) - несколько пробелов, заменяю их на None\n",
    "    df_temp.iloc[:,3:] = df_temp.iloc[:,3:].replace(to_replace = '[\\D]', value = np.nan, regex = True)\n",
    "    \n",
    "    #заполняю пропуски нулями\n",
    "    df_temp.fillna(0, inplace = True)\n",
    "    \n",
    "    #отсекаю всё лишнее\n",
    "    df_temp = df_temp.loc[:, :'Zimbabwe']\n",
    "                \n",
    "    indicators_temp = pd.DataFrame(data = None, columns = list(df_temp))\n",
    "    for i in list_fe:\n",
    "        indicators_temp = pd.concat([indicators_temp, df_temp.loc[df_temp['Indicator']== i]])\n",
    "    indicators_temp.drop(list(df_temp.iloc[:, [2]])[0], axis = 1, inplace = True)\n",
    "    \n",
    "    #добавляю показатели в датасет\n",
    "    data[re.sub('\\D','', file)] = indicators_temp"
   ]
  },
  {
   "cell_type": "code",
   "execution_count": 168,
   "metadata": {},
   "outputs": [
    {
     "name": "stdout",
     "output_type": "stream",
     "text": [
      "Кличество стран 2013 : 149\n",
      "Кличество стран 2014 : 229\n",
      "Кличество стран 2015 : 229\n",
      "Кличество стран 2016 : 229\n",
      "Кличество стран 2017 : 127\n",
      "Кличество стран 2018 : 126\n",
      "Кличество стран 2019 : 128\n"
     ]
    }
   ],
   "source": [
    "count_country = {}\n",
    "for i in data.keys():\n",
    "    count_country[i] = len(list(data[i])) -2\n",
    "    print('Кличество стран', i, ':', len(list(data[i])) -2)"
   ]
  },
  {
   "cell_type": "code",
   "execution_count": 169,
   "metadata": {},
   "outputs": [
    {
     "name": "stdout",
     "output_type": "stream",
     "text": [
      "{'2014': 229}\n"
     ]
    }
   ],
   "source": [
    "max_country = {}\n",
    "for key in data.keys():\n",
    "    if count_country[key] == max(count_country.values()):\n",
    "        max_country[key] = max(count_country.values())\n",
    "        break\n",
    "print(max_country)"
   ]
  },
  {
   "cell_type": "code",
   "execution_count": 170,
   "metadata": {},
   "outputs": [
    {
     "name": "stdout",
     "output_type": "stream",
     "text": [
      "Andorra\n",
      "Channel Islands\n",
      "Curaçao\n",
      "Vatican\n",
      "Kosovo\n",
      "Macao\n",
      "Montenegro\n",
      "Myanmar\n",
      "Netherlands Antilles\n",
      "Palestinian Territory, Occupied\n",
      "Saint Martin (French part)\n",
      "Sint Maarten (Dutch part)\n",
      "Turks and Caicos Islands\n",
      "Virgin Islands, British\n",
      "Virgin Islands, U.S.\n",
      "Количество нераспознанных стран: 15\n"
     ]
    }
   ],
   "source": [
    "err_country = []\n",
    "region = pd.DataFrame({'country': list(data[list(max_country.keys())[0]])[3:], 'region': None})\n",
    "for i in range(len(region.country)):\n",
    "    try:\n",
    "        region.region[i] = CountryInfo(region.country[i]).subregion()\n",
    "    except:\n",
    "        err_country.append(region.country[i])\n",
    "region.drop_duplicates(inplace = True)\n",
    "\n",
    "for i in err_country:\n",
    "    print(i)\n",
    "print('Количество нераспознанных стран:', len(err_country))"
   ]
  },
  {
   "cell_type": "code",
   "execution_count": 171,
   "metadata": {},
   "outputs": [],
   "source": [
    "#Заполняю в ручную\n",
    "region.loc[region.country == err_country[0],['region']] = 'Western Europe' #Andorra\n",
    "region.loc[region.country == err_country[1],['region']] = 'Western Europe' #Channel Islands\n",
    "region.loc[region.country == err_country[2],['region']] = 'Caribbean' #Curaçao\n",
    "region.loc[region.country == err_country[3],['region']] = 'Southern Europe' #Holy See (Vatican City State)\n",
    "region.loc[region.country == err_country[4],['region']] = 'Eastern Europe' #Kosovo (used: Republic of Serbia)\n",
    "region.loc[region.country == err_country[5],['region']] = 'Eastern Asia' #Macao (used: China)\n",
    "region.loc[region.country == err_country[6],['region']] = 'Southern Europe' #Montenegro (used: Bosnia-Herzegovina)\n",
    "region.loc[region.country == err_country[7],['region']] = 'Southern Asia' #Myanmar (used: Bangladesh)\n",
    "region.loc[region.country == err_country[8],['region']] = 'South America' #Netherlands Antilles (used: Venezuela)\n",
    "region.loc[region.country == err_country[9],['region']] = 'Western Asia' #Palestinian Territory, Occupied (used: Israel)\n",
    "region.loc[region.country == err_country[10],['region']] = 'Caribbean' #Saint Martin (French part)\n",
    "region.loc[region.country == err_country[11],['region']] = 'Caribbean' #Sint Maarten (Dutch part)\n",
    "region.loc[region.country == err_country[12],['region']] = 'South America' #Turks and Caicos Islands (used: Cuba)\n",
    "region.loc[region.country == err_country[13],['region']] = 'Caribbean' #Virgin Islands, British\n",
    "region.loc[region.country == err_country[14],['region']] = 'Caribbean' #Virgin Islands, U.S."
   ]
  },
  {
   "cell_type": "code",
   "execution_count": 172,
   "metadata": {},
   "outputs": [],
   "source": [
    "data['region'] = region"
   ]
  },
  {
   "cell_type": "code",
   "execution_count": 173,
   "metadata": {},
   "outputs": [],
   "source": [
    "gii = pd.DataFrame(data = None, columns = list(region['country']))\n",
    "\n",
    "for file in file_list:\n",
    "    gii_temp = pd.read_csv(os.path.join(data_dir, file))    \n",
    "    gii_temp = gii_temp.loc[:1, 'Albania':'Zimbabwe']    \n",
    "    gii_temp.drop([0], inplace = True)    \n",
    "    gii_temp.rename(columns = rename_dict, inplace = True)    \n",
    "    gii_temp = gii_temp.loc[:,~gii_temp.columns.duplicated()]    \n",
    "    gii_temp.index.values[0] = re.sub('\\D','',file)    \n",
    "    gii = pd.concat([gii, gii_temp], sort=False)\n",
    "    gii.fillna(gii.mean(), inplace = True)\n",
    "    gii.fillna(0, inplace = True)\n",
    "\n",
    "data['GII'] = gii"
   ]
  },
  {
   "cell_type": "code",
   "execution_count": 174,
   "metadata": {},
   "outputs": [],
   "source": [
    "# освобождаю память\n",
    "del gii, gii_temp, region, max_country, count_country, indicators_temp, df_temp, err_country,  "
   ]
  },
  {
   "cell_type": "markdown",
   "metadata": {},
   "source": [
    "## Сохраяю датасет в pickle"
   ]
  },
  {
   "cell_type": "code",
   "execution_count": 175,
   "metadata": {},
   "outputs": [],
   "source": [
    "import pickle\n",
    "from datetime import datetime"
   ]
  },
  {
   "cell_type": "code",
   "execution_count": 176,
   "metadata": {},
   "outputs": [
    {
     "name": "stdout",
     "output_type": "stream",
     "text": [
      "Датасет сохранён: 2020-06-21 14:32:56\n",
      "Размер датасета: 368.62 Кб\n"
     ]
    }
   ],
   "source": [
    "#cохраняю датасет в файл\n",
    "with open(\"C://Users//dserp//ML//Degree_ML//dataset_GW.pickle\", 'wb') as f:\n",
    "    pickle.dump(data, f)\n",
    "print(\"Датасет сохранён:\", datetime.fromtimestamp(os.path.getctime('C://Users//dserp//ML//Degree_ML//dataset_GW.pickle')).strftime('%Y-%m-%d %H:%M:%S'))\n",
    "print('Размер датасета:', round(os.path.getsize('C://Users//dserp//ML//Degree_ML//dataset_GW.pickle')/1024, 2), 'Кб')\n",
    "f.close()"
   ]
  },
  {
   "cell_type": "code",
   "execution_count": null,
   "metadata": {},
   "outputs": [],
   "source": [
    "del data"
   ]
  }
 ],
 "metadata": {
  "kernelspec": {
   "display_name": "Python 3",
   "language": "python",
   "name": "python3"
  },
  "language_info": {
   "codemirror_mode": {
    "name": "ipython",
    "version": 3
   },
   "file_extension": ".py",
   "mimetype": "text/x-python",
   "name": "python",
   "nbconvert_exporter": "python",
   "pygments_lexer": "ipython3",
   "version": "3.7.4"
  }
 },
 "nbformat": 4,
 "nbformat_minor": 2
}
