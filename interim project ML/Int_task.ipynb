{
 "cells": [
  {
   "cell_type": "markdown",
   "metadata": {},
   "source": [
    "# Задание\n",
    "Мы владеем сетью магазинов, в которых продаются различные товары. Наши сотрудники собрали датасет из 8523 продаж товаров в различных магазинах нашей сети. Наша задача построить модель, предсказывающую продажи каждого продукта в конкретном магазине. Используя эту модель, попробовать выявить факторы, больше всего влияющие на увеличение продаж."
   ]
  },
  {
   "cell_type": "code",
   "execution_count": 1,
   "metadata": {},
   "outputs": [],
   "source": [
    "import pandas as pd\n",
    "import numpy as np\n",
    "from termcolor import colored"
   ]
  },
  {
   "cell_type": "code",
   "execution_count": 2,
   "metadata": {},
   "outputs": [
    {
     "data": {
      "text/html": [
       "<div>\n",
       "<style scoped>\n",
       "    .dataframe tbody tr th:only-of-type {\n",
       "        vertical-align: middle;\n",
       "    }\n",
       "\n",
       "    .dataframe tbody tr th {\n",
       "        vertical-align: top;\n",
       "    }\n",
       "\n",
       "    .dataframe thead th {\n",
       "        text-align: right;\n",
       "    }\n",
       "</style>\n",
       "<table border=\"1\" class=\"dataframe\">\n",
       "  <thead>\n",
       "    <tr style=\"text-align: right;\">\n",
       "      <th></th>\n",
       "      <th>Item_Identifier</th>\n",
       "      <th>Item_Weight</th>\n",
       "      <th>Item_Fat_Content</th>\n",
       "      <th>Item_Visibility</th>\n",
       "      <th>Item_Type</th>\n",
       "      <th>Item_MRP</th>\n",
       "      <th>Outlet_Identifier</th>\n",
       "      <th>Outlet_Establishment_Year</th>\n",
       "      <th>Outlet_Size</th>\n",
       "      <th>Outlet_Location_Type</th>\n",
       "      <th>Outlet_Type</th>\n",
       "      <th>Item_Outlet_Sales</th>\n",
       "    </tr>\n",
       "  </thead>\n",
       "  <tbody>\n",
       "    <tr>\n",
       "      <th>0</th>\n",
       "      <td>FDA15</td>\n",
       "      <td>9.30</td>\n",
       "      <td>Low Fat</td>\n",
       "      <td>0.016047</td>\n",
       "      <td>Dairy</td>\n",
       "      <td>249.8092</td>\n",
       "      <td>OUT049</td>\n",
       "      <td>1999</td>\n",
       "      <td>Medium</td>\n",
       "      <td>Tier 1</td>\n",
       "      <td>Supermarket Type1</td>\n",
       "      <td>3735.1380</td>\n",
       "    </tr>\n",
       "    <tr>\n",
       "      <th>1</th>\n",
       "      <td>DRC01</td>\n",
       "      <td>5.92</td>\n",
       "      <td>Regular</td>\n",
       "      <td>0.019278</td>\n",
       "      <td>Soft Drinks</td>\n",
       "      <td>48.2692</td>\n",
       "      <td>OUT018</td>\n",
       "      <td>2009</td>\n",
       "      <td>Medium</td>\n",
       "      <td>Tier 3</td>\n",
       "      <td>Supermarket Type2</td>\n",
       "      <td>443.4228</td>\n",
       "    </tr>\n",
       "    <tr>\n",
       "      <th>2</th>\n",
       "      <td>FDN15</td>\n",
       "      <td>17.50</td>\n",
       "      <td>Low Fat</td>\n",
       "      <td>0.016760</td>\n",
       "      <td>Meat</td>\n",
       "      <td>141.6180</td>\n",
       "      <td>OUT049</td>\n",
       "      <td>1999</td>\n",
       "      <td>Medium</td>\n",
       "      <td>Tier 1</td>\n",
       "      <td>Supermarket Type1</td>\n",
       "      <td>2097.2700</td>\n",
       "    </tr>\n",
       "    <tr>\n",
       "      <th>3</th>\n",
       "      <td>FDX07</td>\n",
       "      <td>19.20</td>\n",
       "      <td>Regular</td>\n",
       "      <td>0.000000</td>\n",
       "      <td>Fruits and Vegetables</td>\n",
       "      <td>182.0950</td>\n",
       "      <td>OUT010</td>\n",
       "      <td>1998</td>\n",
       "      <td>NaN</td>\n",
       "      <td>Tier 3</td>\n",
       "      <td>Grocery Store</td>\n",
       "      <td>732.3800</td>\n",
       "    </tr>\n",
       "    <tr>\n",
       "      <th>4</th>\n",
       "      <td>NCD19</td>\n",
       "      <td>8.93</td>\n",
       "      <td>Low Fat</td>\n",
       "      <td>0.000000</td>\n",
       "      <td>Household</td>\n",
       "      <td>53.8614</td>\n",
       "      <td>OUT013</td>\n",
       "      <td>1987</td>\n",
       "      <td>High</td>\n",
       "      <td>Tier 3</td>\n",
       "      <td>Supermarket Type1</td>\n",
       "      <td>994.7052</td>\n",
       "    </tr>\n",
       "  </tbody>\n",
       "</table>\n",
       "</div>"
      ],
      "text/plain": [
       "  Item_Identifier  Item_Weight Item_Fat_Content  Item_Visibility  \\\n",
       "0           FDA15         9.30          Low Fat         0.016047   \n",
       "1           DRC01         5.92          Regular         0.019278   \n",
       "2           FDN15        17.50          Low Fat         0.016760   \n",
       "3           FDX07        19.20          Regular         0.000000   \n",
       "4           NCD19         8.93          Low Fat         0.000000   \n",
       "\n",
       "               Item_Type  Item_MRP Outlet_Identifier  \\\n",
       "0                  Dairy  249.8092            OUT049   \n",
       "1            Soft Drinks   48.2692            OUT018   \n",
       "2                   Meat  141.6180            OUT049   \n",
       "3  Fruits and Vegetables  182.0950            OUT010   \n",
       "4              Household   53.8614            OUT013   \n",
       "\n",
       "   Outlet_Establishment_Year Outlet_Size Outlet_Location_Type  \\\n",
       "0                       1999      Medium               Tier 1   \n",
       "1                       2009      Medium               Tier 3   \n",
       "2                       1999      Medium               Tier 1   \n",
       "3                       1998         NaN               Tier 3   \n",
       "4                       1987        High               Tier 3   \n",
       "\n",
       "         Outlet_Type  Item_Outlet_Sales  \n",
       "0  Supermarket Type1          3735.1380  \n",
       "1  Supermarket Type2           443.4228  \n",
       "2  Supermarket Type1          2097.2700  \n",
       "3      Grocery Store           732.3800  \n",
       "4  Supermarket Type1           994.7052  "
      ]
     },
     "execution_count": 2,
     "metadata": {},
     "output_type": "execute_result"
    }
   ],
   "source": [
    "#загружаю датасет\n",
    "data = pd.read_csv('data.csv')\n",
    "data.head()"
   ]
  },
  {
   "cell_type": "code",
   "execution_count": 3,
   "metadata": {},
   "outputs": [
    {
     "data": {
      "text/html": [
       "<div>\n",
       "<style scoped>\n",
       "    .dataframe tbody tr th:only-of-type {\n",
       "        vertical-align: middle;\n",
       "    }\n",
       "\n",
       "    .dataframe tbody tr th {\n",
       "        vertical-align: top;\n",
       "    }\n",
       "\n",
       "    .dataframe thead th {\n",
       "        text-align: right;\n",
       "    }\n",
       "</style>\n",
       "<table border=\"1\" class=\"dataframe\">\n",
       "  <thead>\n",
       "    <tr style=\"text-align: right;\">\n",
       "      <th></th>\n",
       "      <th>count</th>\n",
       "      <th>mean</th>\n",
       "      <th>std</th>\n",
       "      <th>min</th>\n",
       "      <th>25%</th>\n",
       "      <th>50%</th>\n",
       "      <th>75%</th>\n",
       "      <th>max</th>\n",
       "    </tr>\n",
       "  </thead>\n",
       "  <tbody>\n",
       "    <tr>\n",
       "      <th>Item_Weight</th>\n",
       "      <td>7060.0</td>\n",
       "      <td>12.857645</td>\n",
       "      <td>4.643456</td>\n",
       "      <td>4.555</td>\n",
       "      <td>8.773750</td>\n",
       "      <td>12.600000</td>\n",
       "      <td>16.850000</td>\n",
       "      <td>21.350000</td>\n",
       "    </tr>\n",
       "    <tr>\n",
       "      <th>Item_Visibility</th>\n",
       "      <td>8523.0</td>\n",
       "      <td>0.066132</td>\n",
       "      <td>0.051598</td>\n",
       "      <td>0.000</td>\n",
       "      <td>0.026989</td>\n",
       "      <td>0.053931</td>\n",
       "      <td>0.094585</td>\n",
       "      <td>0.328391</td>\n",
       "    </tr>\n",
       "    <tr>\n",
       "      <th>Item_MRP</th>\n",
       "      <td>8523.0</td>\n",
       "      <td>140.992782</td>\n",
       "      <td>62.275067</td>\n",
       "      <td>31.290</td>\n",
       "      <td>93.826500</td>\n",
       "      <td>143.012800</td>\n",
       "      <td>185.643700</td>\n",
       "      <td>266.888400</td>\n",
       "    </tr>\n",
       "    <tr>\n",
       "      <th>Outlet_Establishment_Year</th>\n",
       "      <td>8523.0</td>\n",
       "      <td>1997.831867</td>\n",
       "      <td>8.371760</td>\n",
       "      <td>1985.000</td>\n",
       "      <td>1987.000000</td>\n",
       "      <td>1999.000000</td>\n",
       "      <td>2004.000000</td>\n",
       "      <td>2009.000000</td>\n",
       "    </tr>\n",
       "    <tr>\n",
       "      <th>Item_Outlet_Sales</th>\n",
       "      <td>8523.0</td>\n",
       "      <td>2181.288914</td>\n",
       "      <td>1706.499616</td>\n",
       "      <td>33.290</td>\n",
       "      <td>834.247400</td>\n",
       "      <td>1794.331000</td>\n",
       "      <td>3101.296400</td>\n",
       "      <td>13086.964800</td>\n",
       "    </tr>\n",
       "  </tbody>\n",
       "</table>\n",
       "</div>"
      ],
      "text/plain": [
       "                            count         mean          std       min  \\\n",
       "Item_Weight                7060.0    12.857645     4.643456     4.555   \n",
       "Item_Visibility            8523.0     0.066132     0.051598     0.000   \n",
       "Item_MRP                   8523.0   140.992782    62.275067    31.290   \n",
       "Outlet_Establishment_Year  8523.0  1997.831867     8.371760  1985.000   \n",
       "Item_Outlet_Sales          8523.0  2181.288914  1706.499616    33.290   \n",
       "\n",
       "                                   25%          50%          75%           max  \n",
       "Item_Weight                   8.773750    12.600000    16.850000     21.350000  \n",
       "Item_Visibility               0.026989     0.053931     0.094585      0.328391  \n",
       "Item_MRP                     93.826500   143.012800   185.643700    266.888400  \n",
       "Outlet_Establishment_Year  1987.000000  1999.000000  2004.000000   2009.000000  \n",
       "Item_Outlet_Sales           834.247400  1794.331000  3101.296400  13086.964800  "
      ]
     },
     "execution_count": 3,
     "metadata": {},
     "output_type": "execute_result"
    }
   ],
   "source": [
    "data.describe().T"
   ]
  },
  {
   "cell_type": "code",
   "execution_count": 4,
   "metadata": {},
   "outputs": [
    {
     "name": "stdout",
     "output_type": "stream",
     "text": [
      "<class 'pandas.core.frame.DataFrame'>\n",
      "RangeIndex: 8523 entries, 0 to 8522\n",
      "Data columns (total 12 columns):\n",
      "Item_Identifier              8523 non-null object\n",
      "Item_Weight                  7060 non-null float64\n",
      "Item_Fat_Content             8523 non-null object\n",
      "Item_Visibility              8523 non-null float64\n",
      "Item_Type                    8523 non-null object\n",
      "Item_MRP                     8523 non-null float64\n",
      "Outlet_Identifier            8523 non-null object\n",
      "Outlet_Establishment_Year    8523 non-null int64\n",
      "Outlet_Size                  6113 non-null object\n",
      "Outlet_Location_Type         8523 non-null object\n",
      "Outlet_Type                  8523 non-null object\n",
      "Item_Outlet_Sales            8523 non-null float64\n",
      "dtypes: float64(4), int64(1), object(7)\n",
      "memory usage: 799.2+ KB\n"
     ]
    }
   ],
   "source": [
    "data.info()"
   ]
  },
  {
   "cell_type": "code",
   "execution_count": 5,
   "metadata": {},
   "outputs": [
    {
     "data": {
      "text/plain": [
       "Item_Identifier                              FDZ20\n",
       "Item_Weight                                    NaN\n",
       "Item_Fat_Content                           Low Fat\n",
       "Item_Visibility                                  0\n",
       "Item_Type                    Fruits and Vegetables\n",
       "Item_MRP                                   253.036\n",
       "Outlet_Identifier                           OUT027\n",
       "Outlet_Establishment_Year                     1985\n",
       "Outlet_Size                                 Medium\n",
       "Outlet_Location_Type                        Tier 3\n",
       "Outlet_Type                      Supermarket Type3\n",
       "Item_Outlet_Sales                          11445.1\n",
       "Name: 1450, dtype: object"
      ]
     },
     "execution_count": 5,
     "metadata": {},
     "output_type": "execute_result"
    }
   ],
   "source": [
    "data.iloc[1450]"
   ]
  },
  {
   "cell_type": "code",
   "execution_count": 6,
   "metadata": {},
   "outputs": [
    {
     "data": {
      "text/plain": [
       "Item_Identifier                 0\n",
       "Item_Weight                  1463\n",
       "Item_Fat_Content                0\n",
       "Item_Visibility                 0\n",
       "Item_Type                       0\n",
       "Item_MRP                        0\n",
       "Outlet_Identifier               0\n",
       "Outlet_Establishment_Year       0\n",
       "Outlet_Size                  2410\n",
       "Outlet_Location_Type            0\n",
       "Outlet_Type                     0\n",
       "Item_Outlet_Sales               0\n",
       "dtype: int64"
      ]
     },
     "execution_count": 6,
     "metadata": {},
     "output_type": "execute_result"
    }
   ],
   "source": [
    "data.isnull().sum()"
   ]
  },
  {
   "cell_type": "code",
   "execution_count": 7,
   "metadata": {},
   "outputs": [
    {
     "name": "stdout",
     "output_type": "stream",
     "text": [
      "Item_Identifier : ['FDA15' 'DRC01' 'FDN15' ... 'NCF55' 'NCW30' 'NCW05'] : 1559 \n",
      "\n",
      "Item_Fat_Content : ['Low Fat' 'Regular' 'low fat' 'LF' 'reg'] : 5 \n",
      "\n",
      "Item_Type : ['Dairy' 'Soft Drinks' 'Meat' 'Fruits and Vegetables' 'Household'\n",
      " 'Baking Goods' 'Snack Foods' 'Frozen Foods' 'Breakfast'\n",
      " 'Health and Hygiene' 'Hard Drinks' 'Canned' 'Breads' 'Starchy Foods'\n",
      " 'Others' 'Seafood'] : 16 \n",
      "\n",
      "Outlet_Identifier : ['OUT049' 'OUT018' 'OUT010' 'OUT013' 'OUT027' 'OUT045' 'OUT017' 'OUT046'\n",
      " 'OUT035' 'OUT019'] : 10 \n",
      "\n",
      "Outlet_Size : ['Medium' nan 'High' 'Small'] : 4 \n",
      "\n",
      "Outlet_Location_Type : ['Tier 1' 'Tier 3' 'Tier 2'] : 3 \n",
      "\n",
      "Outlet_Type : ['Supermarket Type1' 'Supermarket Type2' 'Grocery Store'\n",
      " 'Supermarket Type3'] : 4 \n",
      "\n"
     ]
    }
   ],
   "source": [
    "for i in data.select_dtypes(include = ['object']):\n",
    "    print (i, ':', data[i].unique(),':', len(list(data[i].unique())), '\\n')"
   ]
  },
  {
   "cell_type": "markdown",
   "metadata": {},
   "source": [
    "Item_Fat_Content:\n",
    "Очевидно, что 'Low Fat' = 'low fat' = 'LF', а 'Regular' = 'reg'.\n",
    "\n",
    "Outlet_Size:\n",
    "есть пропуски, которые можно легко заполнить."
   ]
  },
  {
   "cell_type": "code",
   "execution_count": 8,
   "metadata": {},
   "outputs": [
    {
     "data": {
      "text/html": [
       "<div>\n",
       "<style scoped>\n",
       "    .dataframe tbody tr th:only-of-type {\n",
       "        vertical-align: middle;\n",
       "    }\n",
       "\n",
       "    .dataframe tbody tr th {\n",
       "        vertical-align: top;\n",
       "    }\n",
       "\n",
       "    .dataframe thead th {\n",
       "        text-align: right;\n",
       "    }\n",
       "</style>\n",
       "<table border=\"1\" class=\"dataframe\">\n",
       "  <thead>\n",
       "    <tr style=\"text-align: right;\">\n",
       "      <th></th>\n",
       "      <th>Item_Identifier</th>\n",
       "      <th>Item_Weight</th>\n",
       "      <th>Item_Fat_Content</th>\n",
       "      <th>Item_Visibility</th>\n",
       "      <th>Item_Type</th>\n",
       "      <th>Item_MRP</th>\n",
       "      <th>Outlet_Identifier</th>\n",
       "      <th>Outlet_Establishment_Year</th>\n",
       "      <th>Outlet_Size</th>\n",
       "      <th>Outlet_Location_Type</th>\n",
       "      <th>Outlet_Type</th>\n",
       "      <th>Item_Outlet_Sales</th>\n",
       "    </tr>\n",
       "  </thead>\n",
       "  <tbody>\n",
       "    <tr>\n",
       "      <th>7</th>\n",
       "      <td>FDP10</td>\n",
       "      <td>NaN</td>\n",
       "      <td>Low Fat</td>\n",
       "      <td>0.127470</td>\n",
       "      <td>Snack Foods</td>\n",
       "      <td>107.7622</td>\n",
       "      <td>OUT027</td>\n",
       "      <td>1985</td>\n",
       "      <td>Medium</td>\n",
       "      <td>Tier 3</td>\n",
       "      <td>Supermarket Type3</td>\n",
       "      <td>4022.7636</td>\n",
       "    </tr>\n",
       "    <tr>\n",
       "      <th>18</th>\n",
       "      <td>DRI11</td>\n",
       "      <td>NaN</td>\n",
       "      <td>Low Fat</td>\n",
       "      <td>0.034238</td>\n",
       "      <td>Hard Drinks</td>\n",
       "      <td>113.2834</td>\n",
       "      <td>OUT027</td>\n",
       "      <td>1985</td>\n",
       "      <td>Medium</td>\n",
       "      <td>Tier 3</td>\n",
       "      <td>Supermarket Type3</td>\n",
       "      <td>2303.6680</td>\n",
       "    </tr>\n",
       "    <tr>\n",
       "      <th>21</th>\n",
       "      <td>FDW12</td>\n",
       "      <td>NaN</td>\n",
       "      <td>Regular</td>\n",
       "      <td>0.035400</td>\n",
       "      <td>Baking Goods</td>\n",
       "      <td>144.5444</td>\n",
       "      <td>OUT027</td>\n",
       "      <td>1985</td>\n",
       "      <td>Medium</td>\n",
       "      <td>Tier 3</td>\n",
       "      <td>Supermarket Type3</td>\n",
       "      <td>4064.0432</td>\n",
       "    </tr>\n",
       "    <tr>\n",
       "      <th>23</th>\n",
       "      <td>FDC37</td>\n",
       "      <td>NaN</td>\n",
       "      <td>Low Fat</td>\n",
       "      <td>0.057557</td>\n",
       "      <td>Baking Goods</td>\n",
       "      <td>107.6938</td>\n",
       "      <td>OUT019</td>\n",
       "      <td>1985</td>\n",
       "      <td>Small</td>\n",
       "      <td>Tier 1</td>\n",
       "      <td>Grocery Store</td>\n",
       "      <td>214.3876</td>\n",
       "    </tr>\n",
       "    <tr>\n",
       "      <th>29</th>\n",
       "      <td>FDC14</td>\n",
       "      <td>NaN</td>\n",
       "      <td>Regular</td>\n",
       "      <td>0.072222</td>\n",
       "      <td>Canned</td>\n",
       "      <td>43.6454</td>\n",
       "      <td>OUT019</td>\n",
       "      <td>1985</td>\n",
       "      <td>Small</td>\n",
       "      <td>Tier 1</td>\n",
       "      <td>Grocery Store</td>\n",
       "      <td>125.8362</td>\n",
       "    </tr>\n",
       "  </tbody>\n",
       "</table>\n",
       "</div>"
      ],
      "text/plain": [
       "   Item_Identifier  Item_Weight Item_Fat_Content  Item_Visibility  \\\n",
       "7            FDP10          NaN          Low Fat         0.127470   \n",
       "18           DRI11          NaN          Low Fat         0.034238   \n",
       "21           FDW12          NaN          Regular         0.035400   \n",
       "23           FDC37          NaN          Low Fat         0.057557   \n",
       "29           FDC14          NaN          Regular         0.072222   \n",
       "\n",
       "       Item_Type  Item_MRP Outlet_Identifier  Outlet_Establishment_Year  \\\n",
       "7    Snack Foods  107.7622            OUT027                       1985   \n",
       "18   Hard Drinks  113.2834            OUT027                       1985   \n",
       "21  Baking Goods  144.5444            OUT027                       1985   \n",
       "23  Baking Goods  107.6938            OUT019                       1985   \n",
       "29        Canned   43.6454            OUT019                       1985   \n",
       "\n",
       "   Outlet_Size Outlet_Location_Type        Outlet_Type  Item_Outlet_Sales  \n",
       "7       Medium               Tier 3  Supermarket Type3          4022.7636  \n",
       "18      Medium               Tier 3  Supermarket Type3          2303.6680  \n",
       "21      Medium               Tier 3  Supermarket Type3          4064.0432  \n",
       "23       Small               Tier 1      Grocery Store           214.3876  \n",
       "29       Small               Tier 1      Grocery Store           125.8362  "
      ]
     },
     "execution_count": 8,
     "metadata": {},
     "output_type": "execute_result"
    }
   ],
   "source": [
    "data.loc[data['Item_Weight'].isnull()].head()"
   ]
  },
  {
   "cell_type": "code",
   "execution_count": 9,
   "metadata": {},
   "outputs": [
    {
     "data": {
      "text/html": [
       "<div>\n",
       "<style scoped>\n",
       "    .dataframe tbody tr th:only-of-type {\n",
       "        vertical-align: middle;\n",
       "    }\n",
       "\n",
       "    .dataframe tbody tr th {\n",
       "        vertical-align: top;\n",
       "    }\n",
       "\n",
       "    .dataframe thead th {\n",
       "        text-align: right;\n",
       "    }\n",
       "</style>\n",
       "<table border=\"1\" class=\"dataframe\">\n",
       "  <thead>\n",
       "    <tr style=\"text-align: right;\">\n",
       "      <th></th>\n",
       "      <th>Item_Identifier</th>\n",
       "      <th>Item_Weight</th>\n",
       "      <th>Item_Fat_Content</th>\n",
       "      <th>Item_Visibility</th>\n",
       "      <th>Item_Type</th>\n",
       "      <th>Item_MRP</th>\n",
       "      <th>Outlet_Identifier</th>\n",
       "      <th>Outlet_Establishment_Year</th>\n",
       "      <th>Outlet_Size</th>\n",
       "      <th>Outlet_Location_Type</th>\n",
       "      <th>Outlet_Type</th>\n",
       "      <th>Item_Outlet_Sales</th>\n",
       "    </tr>\n",
       "  </thead>\n",
       "  <tbody>\n",
       "    <tr>\n",
       "      <th>3</th>\n",
       "      <td>FDX07</td>\n",
       "      <td>19.200</td>\n",
       "      <td>Regular</td>\n",
       "      <td>0.000000</td>\n",
       "      <td>Fruits and Vegetables</td>\n",
       "      <td>182.0950</td>\n",
       "      <td>OUT010</td>\n",
       "      <td>1998</td>\n",
       "      <td>NaN</td>\n",
       "      <td>Tier 3</td>\n",
       "      <td>Grocery Store</td>\n",
       "      <td>732.3800</td>\n",
       "    </tr>\n",
       "    <tr>\n",
       "      <th>8</th>\n",
       "      <td>FDH17</td>\n",
       "      <td>16.200</td>\n",
       "      <td>Regular</td>\n",
       "      <td>0.016687</td>\n",
       "      <td>Frozen Foods</td>\n",
       "      <td>96.9726</td>\n",
       "      <td>OUT045</td>\n",
       "      <td>2002</td>\n",
       "      <td>NaN</td>\n",
       "      <td>Tier 2</td>\n",
       "      <td>Supermarket Type1</td>\n",
       "      <td>1076.5986</td>\n",
       "    </tr>\n",
       "    <tr>\n",
       "      <th>9</th>\n",
       "      <td>FDU28</td>\n",
       "      <td>19.200</td>\n",
       "      <td>Regular</td>\n",
       "      <td>0.094450</td>\n",
       "      <td>Frozen Foods</td>\n",
       "      <td>187.8214</td>\n",
       "      <td>OUT017</td>\n",
       "      <td>2007</td>\n",
       "      <td>NaN</td>\n",
       "      <td>Tier 2</td>\n",
       "      <td>Supermarket Type1</td>\n",
       "      <td>4710.5350</td>\n",
       "    </tr>\n",
       "    <tr>\n",
       "      <th>25</th>\n",
       "      <td>NCD06</td>\n",
       "      <td>13.000</td>\n",
       "      <td>Low Fat</td>\n",
       "      <td>0.099887</td>\n",
       "      <td>Household</td>\n",
       "      <td>45.9060</td>\n",
       "      <td>OUT017</td>\n",
       "      <td>2007</td>\n",
       "      <td>NaN</td>\n",
       "      <td>Tier 2</td>\n",
       "      <td>Supermarket Type1</td>\n",
       "      <td>838.9080</td>\n",
       "    </tr>\n",
       "    <tr>\n",
       "      <th>28</th>\n",
       "      <td>FDE51</td>\n",
       "      <td>5.925</td>\n",
       "      <td>Regular</td>\n",
       "      <td>0.161467</td>\n",
       "      <td>Dairy</td>\n",
       "      <td>45.5086</td>\n",
       "      <td>OUT010</td>\n",
       "      <td>1998</td>\n",
       "      <td>NaN</td>\n",
       "      <td>Tier 3</td>\n",
       "      <td>Grocery Store</td>\n",
       "      <td>178.4344</td>\n",
       "    </tr>\n",
       "  </tbody>\n",
       "</table>\n",
       "</div>"
      ],
      "text/plain": [
       "   Item_Identifier  Item_Weight Item_Fat_Content  Item_Visibility  \\\n",
       "3            FDX07       19.200          Regular         0.000000   \n",
       "8            FDH17       16.200          Regular         0.016687   \n",
       "9            FDU28       19.200          Regular         0.094450   \n",
       "25           NCD06       13.000          Low Fat         0.099887   \n",
       "28           FDE51        5.925          Regular         0.161467   \n",
       "\n",
       "                Item_Type  Item_MRP Outlet_Identifier  \\\n",
       "3   Fruits and Vegetables  182.0950            OUT010   \n",
       "8            Frozen Foods   96.9726            OUT045   \n",
       "9            Frozen Foods  187.8214            OUT017   \n",
       "25              Household   45.9060            OUT017   \n",
       "28                  Dairy   45.5086            OUT010   \n",
       "\n",
       "    Outlet_Establishment_Year Outlet_Size Outlet_Location_Type  \\\n",
       "3                        1998         NaN               Tier 3   \n",
       "8                        2002         NaN               Tier 2   \n",
       "9                        2007         NaN               Tier 2   \n",
       "25                       2007         NaN               Tier 2   \n",
       "28                       1998         NaN               Tier 3   \n",
       "\n",
       "          Outlet_Type  Item_Outlet_Sales  \n",
       "3       Grocery Store           732.3800  \n",
       "8   Supermarket Type1          1076.5986  \n",
       "9   Supermarket Type1          4710.5350  \n",
       "25  Supermarket Type1           838.9080  \n",
       "28      Grocery Store           178.4344  "
      ]
     },
     "execution_count": 9,
     "metadata": {},
     "output_type": "execute_result"
    }
   ],
   "source": [
    "data.loc[data['Outlet_Size'].isnull()].head()"
   ]
  },
  {
   "cell_type": "code",
   "execution_count": 10,
   "metadata": {},
   "outputs": [
    {
     "data": {
      "text/plain": [
       "array(['Grocery Store', 'Supermarket Type1'], dtype=object)"
      ]
     },
     "execution_count": 10,
     "metadata": {},
     "output_type": "execute_result"
    }
   ],
   "source": [
    "data.loc[data['Outlet_Size'].isnull()]['Outlet_Type'].unique()"
   ]
  },
  {
   "cell_type": "code",
   "execution_count": 11,
   "metadata": {},
   "outputs": [
    {
     "data": {
      "text/plain": [
       "array(['Tier 3', 'Tier 2'], dtype=object)"
      ]
     },
     "execution_count": 11,
     "metadata": {},
     "output_type": "execute_result"
    }
   ],
   "source": [
    "data.loc[data['Outlet_Size'].isnull()]['Outlet_Location_Type'].unique()"
   ]
  },
  {
   "cell_type": "code",
   "execution_count": 12,
   "metadata": {},
   "outputs": [
    {
     "data": {
      "text/plain": [
       "MultiIndex([(    'Grocery Store', 'Tier 1',  'Small'),\n",
       "            ('Supermarket Type1', 'Tier 1', 'Medium'),\n",
       "            ('Supermarket Type1', 'Tier 1',  'Small'),\n",
       "            ('Supermarket Type1', 'Tier 2',  'Small'),\n",
       "            ('Supermarket Type1', 'Tier 3',   'High'),\n",
       "            ('Supermarket Type2', 'Tier 3', 'Medium'),\n",
       "            ('Supermarket Type3', 'Tier 3', 'Medium')],\n",
       "           names=['Outlet_Type', 'Outlet_Location_Type', 'Outlet_Size'])"
      ]
     },
     "execution_count": 12,
     "metadata": {},
     "output_type": "execute_result"
    }
   ],
   "source": [
    "#Группирую 'Outlet_Type', 'Outlet_Size', 'Outlet_Location_Type' что бы узнать, где и какие магазины расположены\n",
    "#для заполнения пропусков\n",
    "data.groupby(['Outlet_Type', 'Outlet_Location_Type', 'Outlet_Size']).agg('sum').index"
   ]
  },
  {
   "cell_type": "code",
   "execution_count": 13,
   "metadata": {},
   "outputs": [
    {
     "data": {
      "text/html": [
       "<div>\n",
       "<style scoped>\n",
       "    .dataframe tbody tr th:only-of-type {\n",
       "        vertical-align: middle;\n",
       "    }\n",
       "\n",
       "    .dataframe tbody tr th {\n",
       "        vertical-align: top;\n",
       "    }\n",
       "\n",
       "    .dataframe thead th {\n",
       "        text-align: right;\n",
       "    }\n",
       "</style>\n",
       "<table border=\"1\" class=\"dataframe\">\n",
       "  <thead>\n",
       "    <tr style=\"text-align: right;\">\n",
       "      <th></th>\n",
       "      <th>Outlet_Size</th>\n",
       "    </tr>\n",
       "  </thead>\n",
       "  <tbody>\n",
       "    <tr>\n",
       "      <th>3</th>\n",
       "      <td>NaN</td>\n",
       "    </tr>\n",
       "    <tr>\n",
       "      <th>23</th>\n",
       "      <td>Small</td>\n",
       "    </tr>\n",
       "    <tr>\n",
       "      <th>28</th>\n",
       "      <td>NaN</td>\n",
       "    </tr>\n",
       "    <tr>\n",
       "      <th>29</th>\n",
       "      <td>Small</td>\n",
       "    </tr>\n",
       "    <tr>\n",
       "      <th>30</th>\n",
       "      <td>NaN</td>\n",
       "    </tr>\n",
       "  </tbody>\n",
       "</table>\n",
       "</div>"
      ],
      "text/plain": [
       "   Outlet_Size\n",
       "3          NaN\n",
       "23       Small\n",
       "28         NaN\n",
       "29       Small\n",
       "30         NaN"
      ]
     },
     "execution_count": 13,
     "metadata": {},
     "output_type": "execute_result"
    }
   ],
   "source": [
    "data.loc[(data['Outlet_Type'] == 'Grocery Store') ,['Outlet_Size']].head()"
   ]
  },
  {
   "cell_type": "code",
   "execution_count": 14,
   "metadata": {},
   "outputs": [
    {
     "data": {
      "text/html": [
       "<div>\n",
       "<style scoped>\n",
       "    .dataframe tbody tr th:only-of-type {\n",
       "        vertical-align: middle;\n",
       "    }\n",
       "\n",
       "    .dataframe tbody tr th {\n",
       "        vertical-align: top;\n",
       "    }\n",
       "\n",
       "    .dataframe thead th {\n",
       "        text-align: right;\n",
       "    }\n",
       "</style>\n",
       "<table border=\"1\" class=\"dataframe\">\n",
       "  <thead>\n",
       "    <tr style=\"text-align: right;\">\n",
       "      <th></th>\n",
       "      <th>Outlet_Size</th>\n",
       "    </tr>\n",
       "  </thead>\n",
       "  <tbody>\n",
       "    <tr>\n",
       "      <th>8</th>\n",
       "      <td>NaN</td>\n",
       "    </tr>\n",
       "    <tr>\n",
       "      <th>9</th>\n",
       "      <td>NaN</td>\n",
       "    </tr>\n",
       "    <tr>\n",
       "      <th>19</th>\n",
       "      <td>Small</td>\n",
       "    </tr>\n",
       "    <tr>\n",
       "      <th>22</th>\n",
       "      <td>Small</td>\n",
       "    </tr>\n",
       "    <tr>\n",
       "      <th>25</th>\n",
       "      <td>NaN</td>\n",
       "    </tr>\n",
       "  </tbody>\n",
       "</table>\n",
       "</div>"
      ],
      "text/plain": [
       "   Outlet_Size\n",
       "8          NaN\n",
       "9          NaN\n",
       "19       Small\n",
       "22       Small\n",
       "25         NaN"
      ]
     },
     "execution_count": 14,
     "metadata": {},
     "output_type": "execute_result"
    }
   ],
   "source": [
    "data.loc[((data['Outlet_Type'] == 'Supermarket Type1') & (data['Outlet_Location_Type'] == 'Tier 2')), ['Outlet_Size']].head()"
   ]
  },
  {
   "cell_type": "code",
   "execution_count": 15,
   "metadata": {},
   "outputs": [
    {
     "data": {
      "text/html": [
       "<div>\n",
       "<style scoped>\n",
       "    .dataframe tbody tr th:only-of-type {\n",
       "        vertical-align: middle;\n",
       "    }\n",
       "\n",
       "    .dataframe tbody tr th {\n",
       "        vertical-align: top;\n",
       "    }\n",
       "\n",
       "    .dataframe thead th {\n",
       "        text-align: right;\n",
       "    }\n",
       "</style>\n",
       "<table border=\"1\" class=\"dataframe\">\n",
       "  <thead>\n",
       "    <tr style=\"text-align: right;\">\n",
       "      <th></th>\n",
       "      <th>Outlet_Size</th>\n",
       "    </tr>\n",
       "  </thead>\n",
       "  <tbody>\n",
       "    <tr>\n",
       "      <th>4</th>\n",
       "      <td>High</td>\n",
       "    </tr>\n",
       "    <tr>\n",
       "      <th>6</th>\n",
       "      <td>High</td>\n",
       "    </tr>\n",
       "    <tr>\n",
       "      <th>14</th>\n",
       "      <td>High</td>\n",
       "    </tr>\n",
       "    <tr>\n",
       "      <th>20</th>\n",
       "      <td>High</td>\n",
       "    </tr>\n",
       "    <tr>\n",
       "      <th>27</th>\n",
       "      <td>High</td>\n",
       "    </tr>\n",
       "  </tbody>\n",
       "</table>\n",
       "</div>"
      ],
      "text/plain": [
       "   Outlet_Size\n",
       "4         High\n",
       "6         High\n",
       "14        High\n",
       "20        High\n",
       "27        High"
      ]
     },
     "execution_count": 15,
     "metadata": {},
     "output_type": "execute_result"
    }
   ],
   "source": [
    "data.loc[((data['Outlet_Type'] == 'Supermarket Type1') & (data['Outlet_Location_Type'] == 'Tier 3')), ['Outlet_Size']].head()"
   ]
  },
  {
   "cell_type": "markdown",
   "metadata": {},
   "source": [
    "Видно, что:\n",
    "* 'Grocery Store' = 'Small'\n",
    "* 'Supermarket Type1' ('Tier 2') = 'Small'\n",
    "* 'Supermarket Type1' ('Tier 3') = 'High' (не смотря на то, что пропуски отсусвуют, проще и быстрее, я считаю, будет просто заменить все значения на 'High', чем искать пропуски)"
   ]
  },
  {
   "cell_type": "markdown",
   "metadata": {},
   "source": [
    "Подозрение вызывает MAX ('Item_Outlet_Sales', 'Item_Weigh't и 'Item_MRP'), а так же\n",
    "'Item_Visibility', так как MIN = 0, если товар не выставлен, то и не продаётся, но цена продажи есть."
   ]
  },
  {
   "cell_type": "code",
   "execution_count": 16,
   "metadata": {},
   "outputs": [
    {
     "data": {
      "text/html": [
       "<div>\n",
       "<style scoped>\n",
       "    .dataframe tbody tr th:only-of-type {\n",
       "        vertical-align: middle;\n",
       "    }\n",
       "\n",
       "    .dataframe tbody tr th {\n",
       "        vertical-align: top;\n",
       "    }\n",
       "\n",
       "    .dataframe thead th {\n",
       "        text-align: right;\n",
       "    }\n",
       "</style>\n",
       "<table border=\"1\" class=\"dataframe\">\n",
       "  <thead>\n",
       "    <tr style=\"text-align: right;\">\n",
       "      <th></th>\n",
       "      <th>Item_Identifier</th>\n",
       "      <th>Item_Weight</th>\n",
       "      <th>Item_Fat_Content</th>\n",
       "      <th>Item_Visibility</th>\n",
       "      <th>Item_Type</th>\n",
       "      <th>Item_MRP</th>\n",
       "      <th>Outlet_Identifier</th>\n",
       "      <th>Outlet_Establishment_Year</th>\n",
       "      <th>Outlet_Size</th>\n",
       "      <th>Outlet_Location_Type</th>\n",
       "      <th>Outlet_Type</th>\n",
       "      <th>Item_Outlet_Sales</th>\n",
       "    </tr>\n",
       "  </thead>\n",
       "  <tbody>\n",
       "    <tr>\n",
       "      <th>3</th>\n",
       "      <td>FDX07</td>\n",
       "      <td>19.200</td>\n",
       "      <td>Regular</td>\n",
       "      <td>0.0</td>\n",
       "      <td>Fruits and Vegetables</td>\n",
       "      <td>182.0950</td>\n",
       "      <td>OUT010</td>\n",
       "      <td>1998</td>\n",
       "      <td>NaN</td>\n",
       "      <td>Tier 3</td>\n",
       "      <td>Grocery Store</td>\n",
       "      <td>732.3800</td>\n",
       "    </tr>\n",
       "    <tr>\n",
       "      <th>4</th>\n",
       "      <td>NCD19</td>\n",
       "      <td>8.930</td>\n",
       "      <td>Low Fat</td>\n",
       "      <td>0.0</td>\n",
       "      <td>Household</td>\n",
       "      <td>53.8614</td>\n",
       "      <td>OUT013</td>\n",
       "      <td>1987</td>\n",
       "      <td>High</td>\n",
       "      <td>Tier 3</td>\n",
       "      <td>Supermarket Type1</td>\n",
       "      <td>994.7052</td>\n",
       "    </tr>\n",
       "    <tr>\n",
       "      <th>5</th>\n",
       "      <td>FDP36</td>\n",
       "      <td>10.395</td>\n",
       "      <td>Regular</td>\n",
       "      <td>0.0</td>\n",
       "      <td>Baking Goods</td>\n",
       "      <td>51.4008</td>\n",
       "      <td>OUT018</td>\n",
       "      <td>2009</td>\n",
       "      <td>Medium</td>\n",
       "      <td>Tier 3</td>\n",
       "      <td>Supermarket Type2</td>\n",
       "      <td>556.6088</td>\n",
       "    </tr>\n",
       "    <tr>\n",
       "      <th>10</th>\n",
       "      <td>FDY07</td>\n",
       "      <td>11.800</td>\n",
       "      <td>Low Fat</td>\n",
       "      <td>0.0</td>\n",
       "      <td>Fruits and Vegetables</td>\n",
       "      <td>45.5402</td>\n",
       "      <td>OUT049</td>\n",
       "      <td>1999</td>\n",
       "      <td>Medium</td>\n",
       "      <td>Tier 1</td>\n",
       "      <td>Supermarket Type1</td>\n",
       "      <td>1516.0266</td>\n",
       "    </tr>\n",
       "    <tr>\n",
       "      <th>32</th>\n",
       "      <td>FDP33</td>\n",
       "      <td>18.700</td>\n",
       "      <td>Low Fat</td>\n",
       "      <td>0.0</td>\n",
       "      <td>Snack Foods</td>\n",
       "      <td>256.6672</td>\n",
       "      <td>OUT018</td>\n",
       "      <td>2009</td>\n",
       "      <td>Medium</td>\n",
       "      <td>Tier 3</td>\n",
       "      <td>Supermarket Type2</td>\n",
       "      <td>3068.0064</td>\n",
       "    </tr>\n",
       "    <tr>\n",
       "      <th>...</th>\n",
       "      <td>...</td>\n",
       "      <td>...</td>\n",
       "      <td>...</td>\n",
       "      <td>...</td>\n",
       "      <td>...</td>\n",
       "      <td>...</td>\n",
       "      <td>...</td>\n",
       "      <td>...</td>\n",
       "      <td>...</td>\n",
       "      <td>...</td>\n",
       "      <td>...</td>\n",
       "      <td>...</td>\n",
       "    </tr>\n",
       "    <tr>\n",
       "      <th>8480</th>\n",
       "      <td>FDQ58</td>\n",
       "      <td>NaN</td>\n",
       "      <td>Low Fat</td>\n",
       "      <td>0.0</td>\n",
       "      <td>Snack Foods</td>\n",
       "      <td>154.5340</td>\n",
       "      <td>OUT019</td>\n",
       "      <td>1985</td>\n",
       "      <td>Small</td>\n",
       "      <td>Tier 1</td>\n",
       "      <td>Grocery Store</td>\n",
       "      <td>459.4020</td>\n",
       "    </tr>\n",
       "    <tr>\n",
       "      <th>8484</th>\n",
       "      <td>DRJ49</td>\n",
       "      <td>6.865</td>\n",
       "      <td>Low Fat</td>\n",
       "      <td>0.0</td>\n",
       "      <td>Soft Drinks</td>\n",
       "      <td>129.9652</td>\n",
       "      <td>OUT013</td>\n",
       "      <td>1987</td>\n",
       "      <td>High</td>\n",
       "      <td>Tier 3</td>\n",
       "      <td>Supermarket Type1</td>\n",
       "      <td>2324.9736</td>\n",
       "    </tr>\n",
       "    <tr>\n",
       "      <th>8486</th>\n",
       "      <td>FDR20</td>\n",
       "      <td>20.000</td>\n",
       "      <td>Regular</td>\n",
       "      <td>0.0</td>\n",
       "      <td>Fruits and Vegetables</td>\n",
       "      <td>46.4744</td>\n",
       "      <td>OUT010</td>\n",
       "      <td>1998</td>\n",
       "      <td>NaN</td>\n",
       "      <td>Tier 3</td>\n",
       "      <td>Grocery Store</td>\n",
       "      <td>45.2744</td>\n",
       "    </tr>\n",
       "    <tr>\n",
       "      <th>8494</th>\n",
       "      <td>NCI54</td>\n",
       "      <td>15.200</td>\n",
       "      <td>Low Fat</td>\n",
       "      <td>0.0</td>\n",
       "      <td>Household</td>\n",
       "      <td>110.4912</td>\n",
       "      <td>OUT017</td>\n",
       "      <td>2007</td>\n",
       "      <td>NaN</td>\n",
       "      <td>Tier 2</td>\n",
       "      <td>Supermarket Type1</td>\n",
       "      <td>1637.8680</td>\n",
       "    </tr>\n",
       "    <tr>\n",
       "      <th>8500</th>\n",
       "      <td>NCQ42</td>\n",
       "      <td>20.350</td>\n",
       "      <td>Low Fat</td>\n",
       "      <td>0.0</td>\n",
       "      <td>Household</td>\n",
       "      <td>125.1678</td>\n",
       "      <td>OUT017</td>\n",
       "      <td>2007</td>\n",
       "      <td>NaN</td>\n",
       "      <td>Tier 2</td>\n",
       "      <td>Supermarket Type1</td>\n",
       "      <td>1907.5170</td>\n",
       "    </tr>\n",
       "  </tbody>\n",
       "</table>\n",
       "<p>526 rows × 12 columns</p>\n",
       "</div>"
      ],
      "text/plain": [
       "     Item_Identifier  Item_Weight Item_Fat_Content  Item_Visibility  \\\n",
       "3              FDX07       19.200          Regular              0.0   \n",
       "4              NCD19        8.930          Low Fat              0.0   \n",
       "5              FDP36       10.395          Regular              0.0   \n",
       "10             FDY07       11.800          Low Fat              0.0   \n",
       "32             FDP33       18.700          Low Fat              0.0   \n",
       "...              ...          ...              ...              ...   \n",
       "8480           FDQ58          NaN          Low Fat              0.0   \n",
       "8484           DRJ49        6.865          Low Fat              0.0   \n",
       "8486           FDR20       20.000          Regular              0.0   \n",
       "8494           NCI54       15.200          Low Fat              0.0   \n",
       "8500           NCQ42       20.350          Low Fat              0.0   \n",
       "\n",
       "                  Item_Type  Item_MRP Outlet_Identifier  \\\n",
       "3     Fruits and Vegetables  182.0950            OUT010   \n",
       "4                 Household   53.8614            OUT013   \n",
       "5              Baking Goods   51.4008            OUT018   \n",
       "10    Fruits and Vegetables   45.5402            OUT049   \n",
       "32              Snack Foods  256.6672            OUT018   \n",
       "...                     ...       ...               ...   \n",
       "8480            Snack Foods  154.5340            OUT019   \n",
       "8484            Soft Drinks  129.9652            OUT013   \n",
       "8486  Fruits and Vegetables   46.4744            OUT010   \n",
       "8494              Household  110.4912            OUT017   \n",
       "8500              Household  125.1678            OUT017   \n",
       "\n",
       "      Outlet_Establishment_Year Outlet_Size Outlet_Location_Type  \\\n",
       "3                          1998         NaN               Tier 3   \n",
       "4                          1987        High               Tier 3   \n",
       "5                          2009      Medium               Tier 3   \n",
       "10                         1999      Medium               Tier 1   \n",
       "32                         2009      Medium               Tier 3   \n",
       "...                         ...         ...                  ...   \n",
       "8480                       1985       Small               Tier 1   \n",
       "8484                       1987        High               Tier 3   \n",
       "8486                       1998         NaN               Tier 3   \n",
       "8494                       2007         NaN               Tier 2   \n",
       "8500                       2007         NaN               Tier 2   \n",
       "\n",
       "            Outlet_Type  Item_Outlet_Sales  \n",
       "3         Grocery Store           732.3800  \n",
       "4     Supermarket Type1           994.7052  \n",
       "5     Supermarket Type2           556.6088  \n",
       "10    Supermarket Type1          1516.0266  \n",
       "32    Supermarket Type2          3068.0064  \n",
       "...                 ...                ...  \n",
       "8480      Grocery Store           459.4020  \n",
       "8484  Supermarket Type1          2324.9736  \n",
       "8486      Grocery Store            45.2744  \n",
       "8494  Supermarket Type1          1637.8680  \n",
       "8500  Supermarket Type1          1907.5170  \n",
       "\n",
       "[526 rows x 12 columns]"
      ]
     },
     "execution_count": 16,
     "metadata": {},
     "output_type": "execute_result"
    }
   ],
   "source": [
    "data.loc[data['Item_Visibility'] == 0]"
   ]
  },
  {
   "cell_type": "code",
   "execution_count": 17,
   "metadata": {},
   "outputs": [
    {
     "data": {
      "text/plain": [
       "51.61328170831867"
      ]
     },
     "execution_count": 17,
     "metadata": {},
     "output_type": "execute_result"
    }
   ],
   "source": [
    "# процент строк с пропущенными данными\n",
    "(1463+2410+526)*100/len(data)"
   ]
  },
  {
   "cell_type": "code",
   "execution_count": 18,
   "metadata": {},
   "outputs": [
    {
     "data": {
      "image/png": "[encoded data removed]",
      "text/plain": [
       "<Figure size 1152x432 with 1 Axes>"
      ]
     },
     "metadata": {
      "needs_background": "light"
     },
     "output_type": "display_data"
    }
   ],
   "source": [
    "import matplotlib.pyplot as plt\n",
    "%matplotlib inline\n",
    "plt.figure(figsize = (16, 6))\n",
    "data['Item_Outlet_Sales'].plot()\n",
    "plt.show()"
   ]
  },
  {
   "cell_type": "code",
   "execution_count": 19,
   "metadata": {},
   "outputs": [
    {
     "data": {
      "image/png": "[encoded data removed]",
      "text/plain": [
       "<Figure size 864x432 with 1 Axes>"
      ]
     },
     "metadata": {
      "needs_background": "light"
     },
     "output_type": "display_data"
    }
   ],
   "source": [
    "y = data['Outlet_Identifier']\n",
    "x = data['Item_Outlet_Sales']\n",
    "plt.figure(figsize=(12,6))\n",
    "plt.scatter(x,y)\n",
    "plt.show()"
   ]
  },
  {
   "cell_type": "markdown",
   "metadata": {},
   "source": [
    "Похоже на выбросы в:\n",
    "* out035 - 1 выброс\n",
    "* out046 - 5 выброса\n",
    "* out017 - 4 выброса\n",
    "* out027 - 4 выброса\n",
    "* out013 - 3 выброса"
   ]
  },
  {
   "cell_type": "markdown",
   "metadata": {},
   "source": [
    "#### Проверка выбросов"
   ]
  },
  {
   "cell_type": "code",
   "execution_count": 20,
   "metadata": {},
   "outputs": [],
   "source": [
    "\"\"\"\"\"\n",
    "Удобнее проверять используюя функцию\n",
    "Вход: \n",
    "    df - датафрейм составленный по Outlet_Type и Item_Outlet_Sales, содержит выбросы;\n",
    "    n - потенциальное количество выбросов.\n",
    "\n",
    "Выход. Печатает информацию о выбросе:\n",
    "    Item_Identifier;\n",
    "    Тип магазина;\n",
    "    Стоимость продажи;\n",
    "    Разница между стоимостью продажи товара-выброса и ближайшим товаром;\n",
    "    Стандартное оклонение стоимости продажи товара-выброса в типt магазина без учёта выброса\n",
    "\"\"\"\"\"\n",
    "\n",
    "def stats (df, n):\n",
    "    if n  < 1 or n >10:\n",
    "        return print (colored('ERROR! ''n'' - out of range', 'red'))\n",
    "    \n",
    "    item = list(df['Item_Identifier'].iloc[:n]) #товары (item) выбросов\n",
    "    items_dict = dict.fromkeys(item)\n",
    "\n",
    "    for it in item:\n",
    "        it_outlet = df.loc[(df['Item_Identifier'] == it), ['Outlet_Type']].values #магазин \n",
    "        it_sale = it_sale = df.loc[(df['Item_Identifier'] == it), ['Item_Outlet_Sales']].values #стоимость продажи\n",
    "        try: #обработчик исклчений добавил, поскольку попадаются неимеющие ближайшей стоимости продажи выбросы\n",
    "            near_it_sale = near_it_sale = df['Item_Outlet_Sales'].iloc[n].item() #ближайшее значени стоимости продажи\n",
    "        except IndexError:\n",
    "            near_it_sale = -1\n",
    "        std = data.loc[(data['Item_Identifier'] == it) &\n",
    "                        (data['Outlet_Type'] == it_outlet.item()) &\n",
    "                        (data['Item_Outlet_Sales'] != it_sale.item()), ['Item_Outlet_Sales']].std() # стандартное отклонение\n",
    "                  \n",
    "        print(it)\n",
    "        print('Тип магазина:', it_outlet.item())\n",
    "        print ('Стоимость продажи:', it_sale.item())\n",
    "        if near_it_sale == -1:\n",
    "            print (colored('Ближайшая стоимость не обнаружена!', 'red'))\n",
    "        else:\n",
    "            print('Разница между стоимостью продажи товара-выброса и ближайшим товаром:', it_sale.item() - near_it_sale) \n",
    "        print('Стандартное оклонение стоимости продажи', it, 'в магазинах типа', it_outlet.item(), 'без учёта выброса:', round(std.item(), 4), '\\n')"
   ]
  },
  {
   "cell_type": "markdown",
   "metadata": {},
   "source": [
    "##### OUT035 - 1 выброс"
   ]
  },
  {
   "cell_type": "code",
   "execution_count": 21,
   "metadata": {},
   "outputs": [
    {
     "data": {
      "text/html": [
       "<div>\n",
       "<style scoped>\n",
       "    .dataframe tbody tr th:only-of-type {\n",
       "        vertical-align: middle;\n",
       "    }\n",
       "\n",
       "    .dataframe tbody tr th {\n",
       "        vertical-align: top;\n",
       "    }\n",
       "\n",
       "    .dataframe thead th {\n",
       "        text-align: right;\n",
       "    }\n",
       "</style>\n",
       "<table border=\"1\" class=\"dataframe\">\n",
       "  <thead>\n",
       "    <tr style=\"text-align: right;\">\n",
       "      <th></th>\n",
       "      <th>Item_Identifier</th>\n",
       "      <th>Item_Weight</th>\n",
       "      <th>Item_Fat_Content</th>\n",
       "      <th>Item_Visibility</th>\n",
       "      <th>Item_Type</th>\n",
       "      <th>Item_MRP</th>\n",
       "      <th>Outlet_Identifier</th>\n",
       "      <th>Outlet_Establishment_Year</th>\n",
       "      <th>Outlet_Size</th>\n",
       "      <th>Outlet_Location_Type</th>\n",
       "      <th>Outlet_Type</th>\n",
       "      <th>Item_Outlet_Sales</th>\n",
       "    </tr>\n",
       "  </thead>\n",
       "  <tbody>\n",
       "    <tr>\n",
       "      <th>5752</th>\n",
       "      <td>FDI15</td>\n",
       "      <td>13.800</td>\n",
       "      <td>Low Fat</td>\n",
       "      <td>0.141326</td>\n",
       "      <td>Dairy</td>\n",
       "      <td>265.0884</td>\n",
       "      <td>OUT035</td>\n",
       "      <td>2004</td>\n",
       "      <td>Small</td>\n",
       "      <td>Tier 2</td>\n",
       "      <td>Supermarket Type1</td>\n",
       "      <td>8479.6288</td>\n",
       "    </tr>\n",
       "    <tr>\n",
       "      <th>2776</th>\n",
       "      <td>FDB37</td>\n",
       "      <td>20.250</td>\n",
       "      <td>Regular</td>\n",
       "      <td>0.022936</td>\n",
       "      <td>Baking Goods</td>\n",
       "      <td>240.8538</td>\n",
       "      <td>OUT035</td>\n",
       "      <td>2004</td>\n",
       "      <td>Small</td>\n",
       "      <td>Tier 2</td>\n",
       "      <td>Supermarket Type1</td>\n",
       "      <td>7931.6754</td>\n",
       "    </tr>\n",
       "    <tr>\n",
       "      <th>373</th>\n",
       "      <td>FDX09</td>\n",
       "      <td>9.000</td>\n",
       "      <td>Low Fat</td>\n",
       "      <td>0.065237</td>\n",
       "      <td>Snack Foods</td>\n",
       "      <td>176.4370</td>\n",
       "      <td>OUT035</td>\n",
       "      <td>2004</td>\n",
       "      <td>Small</td>\n",
       "      <td>Tier 2</td>\n",
       "      <td>Supermarket Type1</td>\n",
       "      <td>7763.2280</td>\n",
       "    </tr>\n",
       "    <tr>\n",
       "      <th>3083</th>\n",
       "      <td>FDJ15</td>\n",
       "      <td>11.350</td>\n",
       "      <td>Regular</td>\n",
       "      <td>0.023318</td>\n",
       "      <td>Dairy</td>\n",
       "      <td>182.4608</td>\n",
       "      <td>OUT035</td>\n",
       "      <td>2004</td>\n",
       "      <td>Small</td>\n",
       "      <td>Tier 2</td>\n",
       "      <td>Supermarket Type1</td>\n",
       "      <td>7534.1928</td>\n",
       "    </tr>\n",
       "    <tr>\n",
       "      <th>7967</th>\n",
       "      <td>FDR16</td>\n",
       "      <td>5.845</td>\n",
       "      <td>Regular</td>\n",
       "      <td>0.104998</td>\n",
       "      <td>Frozen Foods</td>\n",
       "      <td>213.2218</td>\n",
       "      <td>OUT035</td>\n",
       "      <td>2004</td>\n",
       "      <td>Small</td>\n",
       "      <td>Tier 2</td>\n",
       "      <td>Supermarket Type1</td>\n",
       "      <td>7266.5412</td>\n",
       "    </tr>\n",
       "  </tbody>\n",
       "</table>\n",
       "</div>"
      ],
      "text/plain": [
       "     Item_Identifier  Item_Weight Item_Fat_Content  Item_Visibility  \\\n",
       "5752           FDI15       13.800          Low Fat         0.141326   \n",
       "2776           FDB37       20.250          Regular         0.022936   \n",
       "373            FDX09        9.000          Low Fat         0.065237   \n",
       "3083           FDJ15       11.350          Regular         0.023318   \n",
       "7967           FDR16        5.845          Regular         0.104998   \n",
       "\n",
       "         Item_Type  Item_MRP Outlet_Identifier  Outlet_Establishment_Year  \\\n",
       "5752         Dairy  265.0884            OUT035                       2004   \n",
       "2776  Baking Goods  240.8538            OUT035                       2004   \n",
       "373    Snack Foods  176.4370            OUT035                       2004   \n",
       "3083         Dairy  182.4608            OUT035                       2004   \n",
       "7967  Frozen Foods  213.2218            OUT035                       2004   \n",
       "\n",
       "     Outlet_Size Outlet_Location_Type        Outlet_Type  Item_Outlet_Sales  \n",
       "5752       Small               Tier 2  Supermarket Type1          8479.6288  \n",
       "2776       Small               Tier 2  Supermarket Type1          7931.6754  \n",
       "373        Small               Tier 2  Supermarket Type1          7763.2280  \n",
       "3083       Small               Tier 2  Supermarket Type1          7534.1928  \n",
       "7967       Small               Tier 2  Supermarket Type1          7266.5412  "
      ]
     },
     "execution_count": 21,
     "metadata": {},
     "output_type": "execute_result"
    }
   ],
   "source": [
    "out035 = data.loc[data['Outlet_Identifier'] == 'OUT035'].sort_values(by = ['Item_Outlet_Sales'], ascending = False)\n",
    "out035.iloc[:5]"
   ]
  },
  {
   "cell_type": "code",
   "execution_count": 22,
   "metadata": {},
   "outputs": [
    {
     "name": "stdout",
     "output_type": "stream",
     "text": [
      "FDI15\n",
      "Тип магазина: Supermarket Type1\n",
      "Стоимость продажи: 8479.6288\n",
      "Разница между стоимостью продажи товара-выброса и ближайшим товаром: 547.9534000000003\n",
      "Стандартное оклонение стоимости продажи FDI15 в магазинах типа Supermarket Type1 без учёта выброса: 1351.181 \n",
      "\n"
     ]
    },
    {
     "name": "stderr",
     "output_type": "stream",
     "text": [
      "D:\\Program_Files\\Anaconda\\lib\\site-packages\\ipykernel_launcher.py:40: FutureWarning: `item` has been deprecated and will be removed in a future version\n"
     ]
    }
   ],
   "source": [
    "stats (out035, 1)"
   ]
  },
  {
   "cell_type": "markdown",
   "metadata": {},
   "source": [
    "##### OUT046 - 5 выбросов"
   ]
  },
  {
   "cell_type": "code",
   "execution_count": 23,
   "metadata": {},
   "outputs": [
    {
     "data": {
      "text/html": [
       "<div>\n",
       "<style scoped>\n",
       "    .dataframe tbody tr th:only-of-type {\n",
       "        vertical-align: middle;\n",
       "    }\n",
       "\n",
       "    .dataframe tbody tr th {\n",
       "        vertical-align: top;\n",
       "    }\n",
       "\n",
       "    .dataframe thead th {\n",
       "        text-align: right;\n",
       "    }\n",
       "</style>\n",
       "<table border=\"1\" class=\"dataframe\">\n",
       "  <thead>\n",
       "    <tr style=\"text-align: right;\">\n",
       "      <th></th>\n",
       "      <th>Item_Identifier</th>\n",
       "      <th>Item_Weight</th>\n",
       "      <th>Item_Fat_Content</th>\n",
       "      <th>Item_Visibility</th>\n",
       "      <th>Item_Type</th>\n",
       "      <th>Item_MRP</th>\n",
       "      <th>Outlet_Identifier</th>\n",
       "      <th>Outlet_Establishment_Year</th>\n",
       "      <th>Outlet_Size</th>\n",
       "      <th>Outlet_Location_Type</th>\n",
       "      <th>Outlet_Type</th>\n",
       "      <th>Item_Outlet_Sales</th>\n",
       "    </tr>\n",
       "  </thead>\n",
       "  <tbody>\n",
       "    <tr>\n",
       "      <th>4289</th>\n",
       "      <td>NCM05</td>\n",
       "      <td>6.825</td>\n",
       "      <td>Low Fat</td>\n",
       "      <td>0.059847</td>\n",
       "      <td>Health and Hygiene</td>\n",
       "      <td>262.5226</td>\n",
       "      <td>OUT046</td>\n",
       "      <td>1997</td>\n",
       "      <td>Small</td>\n",
       "      <td>Tier 1</td>\n",
       "      <td>Supermarket Type1</td>\n",
       "      <td>9779.9362</td>\n",
       "    </tr>\n",
       "    <tr>\n",
       "      <th>4991</th>\n",
       "      <td>NCQ53</td>\n",
       "      <td>17.600</td>\n",
       "      <td>Low Fat</td>\n",
       "      <td>0.018905</td>\n",
       "      <td>Health and Hygiene</td>\n",
       "      <td>234.6590</td>\n",
       "      <td>OUT046</td>\n",
       "      <td>1997</td>\n",
       "      <td>Small</td>\n",
       "      <td>Tier 1</td>\n",
       "      <td>Supermarket Type1</td>\n",
       "      <td>8508.9240</td>\n",
       "    </tr>\n",
       "    <tr>\n",
       "      <th>1254</th>\n",
       "      <td>FDG47</td>\n",
       "      <td>12.800</td>\n",
       "      <td>Low Fat</td>\n",
       "      <td>0.069619</td>\n",
       "      <td>Starchy Foods</td>\n",
       "      <td>260.3252</td>\n",
       "      <td>OUT046</td>\n",
       "      <td>1997</td>\n",
       "      <td>Small</td>\n",
       "      <td>Tier 1</td>\n",
       "      <td>Supermarket Type1</td>\n",
       "      <td>8132.0812</td>\n",
       "    </tr>\n",
       "    <tr>\n",
       "      <th>753</th>\n",
       "      <td>FDY26</td>\n",
       "      <td>20.600</td>\n",
       "      <td>reg</td>\n",
       "      <td>0.030511</td>\n",
       "      <td>Dairy</td>\n",
       "      <td>211.4244</td>\n",
       "      <td>OUT046</td>\n",
       "      <td>1997</td>\n",
       "      <td>Small</td>\n",
       "      <td>Tier 1</td>\n",
       "      <td>Supermarket Type1</td>\n",
       "      <td>7833.8028</td>\n",
       "    </tr>\n",
       "    <tr>\n",
       "      <th>2516</th>\n",
       "      <td>FDJ38</td>\n",
       "      <td>8.600</td>\n",
       "      <td>Regular</td>\n",
       "      <td>0.040206</td>\n",
       "      <td>Canned</td>\n",
       "      <td>188.7530</td>\n",
       "      <td>OUT046</td>\n",
       "      <td>1997</td>\n",
       "      <td>Small</td>\n",
       "      <td>Tier 1</td>\n",
       "      <td>Supermarket Type1</td>\n",
       "      <td>7590.1200</td>\n",
       "    </tr>\n",
       "    <tr>\n",
       "      <th>7118</th>\n",
       "      <td>NCV53</td>\n",
       "      <td>8.270</td>\n",
       "      <td>Low Fat</td>\n",
       "      <td>0.018814</td>\n",
       "      <td>Health and Hygiene</td>\n",
       "      <td>237.9880</td>\n",
       "      <td>OUT046</td>\n",
       "      <td>1997</td>\n",
       "      <td>Small</td>\n",
       "      <td>Tier 1</td>\n",
       "      <td>Supermarket Type1</td>\n",
       "      <td>7190.6400</td>\n",
       "    </tr>\n",
       "    <tr>\n",
       "      <th>4468</th>\n",
       "      <td>FDC02</td>\n",
       "      <td>21.350</td>\n",
       "      <td>Low Fat</td>\n",
       "      <td>0.068822</td>\n",
       "      <td>Canned</td>\n",
       "      <td>258.3278</td>\n",
       "      <td>OUT046</td>\n",
       "      <td>1997</td>\n",
       "      <td>Small</td>\n",
       "      <td>Tier 1</td>\n",
       "      <td>Supermarket Type1</td>\n",
       "      <td>7028.8506</td>\n",
       "    </tr>\n",
       "    <tr>\n",
       "      <th>3073</th>\n",
       "      <td>FDD17</td>\n",
       "      <td>7.500</td>\n",
       "      <td>LF</td>\n",
       "      <td>0.032627</td>\n",
       "      <td>Frozen Foods</td>\n",
       "      <td>235.9906</td>\n",
       "      <td>OUT046</td>\n",
       "      <td>1997</td>\n",
       "      <td>Small</td>\n",
       "      <td>Tier 1</td>\n",
       "      <td>Supermarket Type1</td>\n",
       "      <td>6893.0274</td>\n",
       "    </tr>\n",
       "    <tr>\n",
       "      <th>5292</th>\n",
       "      <td>FDO11</td>\n",
       "      <td>8.000</td>\n",
       "      <td>Regular</td>\n",
       "      <td>0.030265</td>\n",
       "      <td>Breads</td>\n",
       "      <td>250.3092</td>\n",
       "      <td>OUT046</td>\n",
       "      <td>1997</td>\n",
       "      <td>Small</td>\n",
       "      <td>Tier 1</td>\n",
       "      <td>Supermarket Type1</td>\n",
       "      <td>6723.2484</td>\n",
       "    </tr>\n",
       "    <tr>\n",
       "      <th>2528</th>\n",
       "      <td>FDI57</td>\n",
       "      <td>19.850</td>\n",
       "      <td>Low Fat</td>\n",
       "      <td>0.054026</td>\n",
       "      <td>Seafood</td>\n",
       "      <td>197.2768</td>\n",
       "      <td>OUT046</td>\n",
       "      <td>1997</td>\n",
       "      <td>Small</td>\n",
       "      <td>Tier 1</td>\n",
       "      <td>Supermarket Type1</td>\n",
       "      <td>6503.5344</td>\n",
       "    </tr>\n",
       "  </tbody>\n",
       "</table>\n",
       "</div>"
      ],
      "text/plain": [
       "     Item_Identifier  Item_Weight Item_Fat_Content  Item_Visibility  \\\n",
       "4289           NCM05        6.825          Low Fat         0.059847   \n",
       "4991           NCQ53       17.600          Low Fat         0.018905   \n",
       "1254           FDG47       12.800          Low Fat         0.069619   \n",
       "753            FDY26       20.600              reg         0.030511   \n",
       "2516           FDJ38        8.600          Regular         0.040206   \n",
       "7118           NCV53        8.270          Low Fat         0.018814   \n",
       "4468           FDC02       21.350          Low Fat         0.068822   \n",
       "3073           FDD17        7.500               LF         0.032627   \n",
       "5292           FDO11        8.000          Regular         0.030265   \n",
       "2528           FDI57       19.850          Low Fat         0.054026   \n",
       "\n",
       "               Item_Type  Item_MRP Outlet_Identifier  \\\n",
       "4289  Health and Hygiene  262.5226            OUT046   \n",
       "4991  Health and Hygiene  234.6590            OUT046   \n",
       "1254       Starchy Foods  260.3252            OUT046   \n",
       "753                Dairy  211.4244            OUT046   \n",
       "2516              Canned  188.7530            OUT046   \n",
       "7118  Health and Hygiene  237.9880            OUT046   \n",
       "4468              Canned  258.3278            OUT046   \n",
       "3073        Frozen Foods  235.9906            OUT046   \n",
       "5292              Breads  250.3092            OUT046   \n",
       "2528             Seafood  197.2768            OUT046   \n",
       "\n",
       "      Outlet_Establishment_Year Outlet_Size Outlet_Location_Type  \\\n",
       "4289                       1997       Small               Tier 1   \n",
       "4991                       1997       Small               Tier 1   \n",
       "1254                       1997       Small               Tier 1   \n",
       "753                        1997       Small               Tier 1   \n",
       "2516                       1997       Small               Tier 1   \n",
       "7118                       1997       Small               Tier 1   \n",
       "4468                       1997       Small               Tier 1   \n",
       "3073                       1997       Small               Tier 1   \n",
       "5292                       1997       Small               Tier 1   \n",
       "2528                       1997       Small               Tier 1   \n",
       "\n",
       "            Outlet_Type  Item_Outlet_Sales  \n",
       "4289  Supermarket Type1          9779.9362  \n",
       "4991  Supermarket Type1          8508.9240  \n",
       "1254  Supermarket Type1          8132.0812  \n",
       "753   Supermarket Type1          7833.8028  \n",
       "2516  Supermarket Type1          7590.1200  \n",
       "7118  Supermarket Type1          7190.6400  \n",
       "4468  Supermarket Type1          7028.8506  \n",
       "3073  Supermarket Type1          6893.0274  \n",
       "5292  Supermarket Type1          6723.2484  \n",
       "2528  Supermarket Type1          6503.5344  "
      ]
     },
     "execution_count": 23,
     "metadata": {},
     "output_type": "execute_result"
    }
   ],
   "source": [
    "out046 = data.loc[data['Outlet_Identifier'] == 'OUT046'].sort_values(by = ['Item_Outlet_Sales'], ascending = False)\n",
    "out046.head(10)"
   ]
  },
  {
   "cell_type": "code",
   "execution_count": 24,
   "metadata": {},
   "outputs": [
    {
     "name": "stdout",
     "output_type": "stream",
     "text": [
      "NCM05\n",
      "Тип магазина: Supermarket Type1\n",
      "Стоимость продажи: 9779.9362\n",
      "Разница между стоимостью продажи товара-выброса и ближайшим товаром: 2589.2961999999998\n",
      "Стандартное оклонение стоимости продажи NCM05 в магазинах типа Supermarket Type1 без учёта выброса: 186.9043 \n",
      "\n",
      "NCQ53\n",
      "Тип магазина: Supermarket Type1\n",
      "Стоимость продажи: 8508.924\n",
      "Разница между стоимостью продажи товара-выброса и ближайшим товаром: 1318.2840000000006\n",
      "Стандартное оклонение стоимости продажи NCQ53 в магазинах типа Supermarket Type1 без учёта выброса: 1371.4254 \n",
      "\n",
      "FDG47\n",
      "Тип магазина: Supermarket Type1\n",
      "Стоимость продажи: 8132.0812\n",
      "Разница между стоимостью продажи товара-выброса и ближайшим товаром: 941.4411999999993\n",
      "Стандартное оклонение стоимости продажи FDG47 в магазинах типа Supermarket Type1 без учёта выброса: 1211.6282 \n",
      "\n",
      "FDY26\n",
      "Тип магазина: Supermarket Type1\n",
      "Стоимость продажи: 7833.8028\n",
      "Разница между стоимостью продажи товара-выброса и ближайшим товаром: 643.1628000000001\n",
      "Стандартное оклонение стоимости продажи FDY26 в магазинах типа Supermarket Type1 без учёта выброса: nan \n",
      "\n",
      "FDJ38\n",
      "Тип магазина: Supermarket Type1\n",
      "Стоимость продажи: 7590.12\n",
      "Разница между стоимостью продажи товара-выброса и ближайшим товаром: 399.47999999999956\n",
      "Стандартное оклонение стоимости продажи FDJ38 в магазинах типа Supermarket Type1 без учёта выброса: 984.4628 \n",
      "\n"
     ]
    },
    {
     "name": "stderr",
     "output_type": "stream",
     "text": [
      "D:\\Program_Files\\Anaconda\\lib\\site-packages\\ipykernel_launcher.py:40: FutureWarning: `item` has been deprecated and will be removed in a future version\n"
     ]
    }
   ],
   "source": [
    "stats(out046, 5)"
   ]
  },
  {
   "cell_type": "markdown",
   "metadata": {},
   "source": [
    "##### OUT017 - 4 выброса"
   ]
  },
  {
   "cell_type": "code",
   "execution_count": 25,
   "metadata": {},
   "outputs": [
    {
     "data": {
      "text/html": [
       "<div>\n",
       "<style scoped>\n",
       "    .dataframe tbody tr th:only-of-type {\n",
       "        vertical-align: middle;\n",
       "    }\n",
       "\n",
       "    .dataframe tbody tr th {\n",
       "        vertical-align: top;\n",
       "    }\n",
       "\n",
       "    .dataframe thead th {\n",
       "        text-align: right;\n",
       "    }\n",
       "</style>\n",
       "<table border=\"1\" class=\"dataframe\">\n",
       "  <thead>\n",
       "    <tr style=\"text-align: right;\">\n",
       "      <th></th>\n",
       "      <th>Item_Identifier</th>\n",
       "      <th>Item_Weight</th>\n",
       "      <th>Item_Fat_Content</th>\n",
       "      <th>Item_Visibility</th>\n",
       "      <th>Item_Type</th>\n",
       "      <th>Item_MRP</th>\n",
       "      <th>Outlet_Identifier</th>\n",
       "      <th>Outlet_Establishment_Year</th>\n",
       "      <th>Outlet_Size</th>\n",
       "      <th>Outlet_Location_Type</th>\n",
       "      <th>Outlet_Type</th>\n",
       "      <th>Item_Outlet_Sales</th>\n",
       "    </tr>\n",
       "  </thead>\n",
       "  <tbody>\n",
       "    <tr>\n",
       "      <th>4961</th>\n",
       "      <td>FDK03</td>\n",
       "      <td>12.600</td>\n",
       "      <td>Regular</td>\n",
       "      <td>0.074339</td>\n",
       "      <td>Dairy</td>\n",
       "      <td>255.5356</td>\n",
       "      <td>OUT017</td>\n",
       "      <td>2007</td>\n",
       "      <td>NaN</td>\n",
       "      <td>Tier 2</td>\n",
       "      <td>Supermarket Type1</td>\n",
       "      <td>9664.7528</td>\n",
       "    </tr>\n",
       "    <tr>\n",
       "      <th>997</th>\n",
       "      <td>FDK28</td>\n",
       "      <td>5.695</td>\n",
       "      <td>Low Fat</td>\n",
       "      <td>0.065961</td>\n",
       "      <td>Frozen Foods</td>\n",
       "      <td>259.2646</td>\n",
       "      <td>OUT017</td>\n",
       "      <td>2007</td>\n",
       "      <td>NaN</td>\n",
       "      <td>Tier 2</td>\n",
       "      <td>Supermarket Type1</td>\n",
       "      <td>9275.9256</td>\n",
       "    </tr>\n",
       "    <tr>\n",
       "      <th>2535</th>\n",
       "      <td>FDD44</td>\n",
       "      <td>8.050</td>\n",
       "      <td>Regular</td>\n",
       "      <td>0.078844</td>\n",
       "      <td>Fruits and Vegetables</td>\n",
       "      <td>257.0646</td>\n",
       "      <td>OUT017</td>\n",
       "      <td>2007</td>\n",
       "      <td>NaN</td>\n",
       "      <td>Tier 2</td>\n",
       "      <td>Supermarket Type1</td>\n",
       "      <td>8760.5964</td>\n",
       "    </tr>\n",
       "    <tr>\n",
       "      <th>7076</th>\n",
       "      <td>FDR34</td>\n",
       "      <td>17.000</td>\n",
       "      <td>Regular</td>\n",
       "      <td>0.016056</td>\n",
       "      <td>Snack Foods</td>\n",
       "      <td>228.4352</td>\n",
       "      <td>OUT017</td>\n",
       "      <td>2007</td>\n",
       "      <td>NaN</td>\n",
       "      <td>Tier 2</td>\n",
       "      <td>Supermarket Type1</td>\n",
       "      <td>8245.2672</td>\n",
       "    </tr>\n",
       "    <tr>\n",
       "      <th>6993</th>\n",
       "      <td>FDT21</td>\n",
       "      <td>7.420</td>\n",
       "      <td>Low Fat</td>\n",
       "      <td>0.020507</td>\n",
       "      <td>Snack Foods</td>\n",
       "      <td>249.7092</td>\n",
       "      <td>OUT017</td>\n",
       "      <td>2007</td>\n",
       "      <td>NaN</td>\n",
       "      <td>Tier 2</td>\n",
       "      <td>Supermarket Type1</td>\n",
       "      <td>7719.2852</td>\n",
       "    </tr>\n",
       "  </tbody>\n",
       "</table>\n",
       "</div>"
      ],
      "text/plain": [
       "     Item_Identifier  Item_Weight Item_Fat_Content  Item_Visibility  \\\n",
       "4961           FDK03       12.600          Regular         0.074339   \n",
       "997            FDK28        5.695          Low Fat         0.065961   \n",
       "2535           FDD44        8.050          Regular         0.078844   \n",
       "7076           FDR34       17.000          Regular         0.016056   \n",
       "6993           FDT21        7.420          Low Fat         0.020507   \n",
       "\n",
       "                  Item_Type  Item_MRP Outlet_Identifier  \\\n",
       "4961                  Dairy  255.5356            OUT017   \n",
       "997            Frozen Foods  259.2646            OUT017   \n",
       "2535  Fruits and Vegetables  257.0646            OUT017   \n",
       "7076            Snack Foods  228.4352            OUT017   \n",
       "6993            Snack Foods  249.7092            OUT017   \n",
       "\n",
       "      Outlet_Establishment_Year Outlet_Size Outlet_Location_Type  \\\n",
       "4961                       2007         NaN               Tier 2   \n",
       "997                        2007         NaN               Tier 2   \n",
       "2535                       2007         NaN               Tier 2   \n",
       "7076                       2007         NaN               Tier 2   \n",
       "6993                       2007         NaN               Tier 2   \n",
       "\n",
       "            Outlet_Type  Item_Outlet_Sales  \n",
       "4961  Supermarket Type1          9664.7528  \n",
       "997   Supermarket Type1          9275.9256  \n",
       "2535  Supermarket Type1          8760.5964  \n",
       "7076  Supermarket Type1          8245.2672  \n",
       "6993  Supermarket Type1          7719.2852  "
      ]
     },
     "execution_count": 25,
     "metadata": {},
     "output_type": "execute_result"
    }
   ],
   "source": [
    "out017 = data.loc[data['Outlet_Identifier'] == 'OUT017'].sort_values(by = ['Item_Outlet_Sales'], ascending = False)\n",
    "out017.head()"
   ]
  },
  {
   "cell_type": "code",
   "execution_count": 26,
   "metadata": {},
   "outputs": [
    {
     "name": "stdout",
     "output_type": "stream",
     "text": [
      "FDK03\n",
      "Тип магазина: Supermarket Type1\n",
      "Стоимость продажи: 9664.7528\n",
      "Разница между стоимостью продажи товара-выброса и ближайшим товаром: 1945.4676\n",
      "Стандартное оклонение стоимости продажи FDK03 в магазинах типа Supermarket Type1 без учёта выброса: 1027.8851 \n",
      "\n",
      "FDK28\n",
      "Тип магазина: Supermarket Type1\n",
      "Стоимость продажи: 9275.9256\n",
      "Разница между стоимостью продажи товара-выброса и ближайшим товаром: 1556.6404000000002\n",
      "Стандартное оклонение стоимости продажи FDK28 в магазинах типа Supermarket Type1 без учёта выброса: nan \n",
      "\n",
      "FDD44\n",
      "Тип магазина: Supermarket Type1\n",
      "Стоимость продажи: 8760.5964\n",
      "Разница между стоимостью продажи товара-выброса и ближайшим товаром: 1041.3112\n",
      "Стандартное оклонение стоимости продажи FDD44 в магазинах типа Supermarket Type1 без учёта выброса: 740.0852 \n",
      "\n",
      "FDR34\n",
      "Тип магазина: Supermarket Type1\n",
      "Стоимость продажи: 8245.2672\n",
      "Разница между стоимостью продажи товара-выброса и ближайшим товаром: 525.982\n",
      "Стандартное оклонение стоимости продажи FDR34 в магазинах типа Supermarket Type1 без учёта выброса: 229.0352 \n",
      "\n"
     ]
    },
    {
     "name": "stderr",
     "output_type": "stream",
     "text": [
      "D:\\Program_Files\\Anaconda\\lib\\site-packages\\ipykernel_launcher.py:40: FutureWarning: `item` has been deprecated and will be removed in a future version\n"
     ]
    }
   ],
   "source": [
    "stats (out017, 4)"
   ]
  },
  {
   "cell_type": "markdown",
   "metadata": {},
   "source": [
    "##### OUT027 - 4 выброса"
   ]
  },
  {
   "cell_type": "code",
   "execution_count": 27,
   "metadata": {},
   "outputs": [
    {
     "data": {
      "text/html": [
       "<div>\n",
       "<style scoped>\n",
       "    .dataframe tbody tr th:only-of-type {\n",
       "        vertical-align: middle;\n",
       "    }\n",
       "\n",
       "    .dataframe tbody tr th {\n",
       "        vertical-align: top;\n",
       "    }\n",
       "\n",
       "    .dataframe thead th {\n",
       "        text-align: right;\n",
       "    }\n",
       "</style>\n",
       "<table border=\"1\" class=\"dataframe\">\n",
       "  <thead>\n",
       "    <tr style=\"text-align: right;\">\n",
       "      <th></th>\n",
       "      <th>Item_Identifier</th>\n",
       "      <th>Item_Weight</th>\n",
       "      <th>Item_Fat_Content</th>\n",
       "      <th>Item_Visibility</th>\n",
       "      <th>Item_Type</th>\n",
       "      <th>Item_MRP</th>\n",
       "      <th>Outlet_Identifier</th>\n",
       "      <th>Outlet_Establishment_Year</th>\n",
       "      <th>Outlet_Size</th>\n",
       "      <th>Outlet_Location_Type</th>\n",
       "      <th>Outlet_Type</th>\n",
       "      <th>Item_Outlet_Sales</th>\n",
       "    </tr>\n",
       "  </thead>\n",
       "  <tbody>\n",
       "    <tr>\n",
       "      <th>7188</th>\n",
       "      <td>NCE42</td>\n",
       "      <td>NaN</td>\n",
       "      <td>Low Fat</td>\n",
       "      <td>0.010551</td>\n",
       "      <td>Household</td>\n",
       "      <td>234.9958</td>\n",
       "      <td>OUT027</td>\n",
       "      <td>1985</td>\n",
       "      <td>Medium</td>\n",
       "      <td>Tier 3</td>\n",
       "      <td>Supermarket Type3</td>\n",
       "      <td>13086.9648</td>\n",
       "    </tr>\n",
       "    <tr>\n",
       "      <th>5223</th>\n",
       "      <td>FDQ19</td>\n",
       "      <td>NaN</td>\n",
       "      <td>Regular</td>\n",
       "      <td>0.014296</td>\n",
       "      <td>Fruits and Vegetables</td>\n",
       "      <td>242.6512</td>\n",
       "      <td>OUT027</td>\n",
       "      <td>1985</td>\n",
       "      <td>Medium</td>\n",
       "      <td>Tier 3</td>\n",
       "      <td>Supermarket Type3</td>\n",
       "      <td>12117.5600</td>\n",
       "    </tr>\n",
       "    <tr>\n",
       "      <th>1450</th>\n",
       "      <td>FDZ20</td>\n",
       "      <td>NaN</td>\n",
       "      <td>Low Fat</td>\n",
       "      <td>0.000000</td>\n",
       "      <td>Fruits and Vegetables</td>\n",
       "      <td>253.0356</td>\n",
       "      <td>OUT027</td>\n",
       "      <td>1985</td>\n",
       "      <td>Medium</td>\n",
       "      <td>Tier 3</td>\n",
       "      <td>Supermarket Type3</td>\n",
       "      <td>11445.1020</td>\n",
       "    </tr>\n",
       "    <tr>\n",
       "      <th>4349</th>\n",
       "      <td>FDP33</td>\n",
       "      <td>NaN</td>\n",
       "      <td>Low Fat</td>\n",
       "      <td>0.088840</td>\n",
       "      <td>Snack Foods</td>\n",
       "      <td>254.2672</td>\n",
       "      <td>OUT027</td>\n",
       "      <td>1985</td>\n",
       "      <td>Medium</td>\n",
       "      <td>Tier 3</td>\n",
       "      <td>Supermarket Type3</td>\n",
       "      <td>10993.6896</td>\n",
       "    </tr>\n",
       "    <tr>\n",
       "      <th>6541</th>\n",
       "      <td>FDI50</td>\n",
       "      <td>NaN</td>\n",
       "      <td>Regular</td>\n",
       "      <td>0.030693</td>\n",
       "      <td>Canned</td>\n",
       "      <td>228.0352</td>\n",
       "      <td>OUT027</td>\n",
       "      <td>1985</td>\n",
       "      <td>Medium</td>\n",
       "      <td>Tier 3</td>\n",
       "      <td>Supermarket Type3</td>\n",
       "      <td>10306.5840</td>\n",
       "    </tr>\n",
       "  </tbody>\n",
       "</table>\n",
       "</div>"
      ],
      "text/plain": [
       "     Item_Identifier  Item_Weight Item_Fat_Content  Item_Visibility  \\\n",
       "7188           NCE42          NaN          Low Fat         0.010551   \n",
       "5223           FDQ19          NaN          Regular         0.014296   \n",
       "1450           FDZ20          NaN          Low Fat         0.000000   \n",
       "4349           FDP33          NaN          Low Fat         0.088840   \n",
       "6541           FDI50          NaN          Regular         0.030693   \n",
       "\n",
       "                  Item_Type  Item_MRP Outlet_Identifier  \\\n",
       "7188              Household  234.9958            OUT027   \n",
       "5223  Fruits and Vegetables  242.6512            OUT027   \n",
       "1450  Fruits and Vegetables  253.0356            OUT027   \n",
       "4349            Snack Foods  254.2672            OUT027   \n",
       "6541                 Canned  228.0352            OUT027   \n",
       "\n",
       "      Outlet_Establishment_Year Outlet_Size Outlet_Location_Type  \\\n",
       "7188                       1985      Medium               Tier 3   \n",
       "5223                       1985      Medium               Tier 3   \n",
       "1450                       1985      Medium               Tier 3   \n",
       "4349                       1985      Medium               Tier 3   \n",
       "6541                       1985      Medium               Tier 3   \n",
       "\n",
       "            Outlet_Type  Item_Outlet_Sales  \n",
       "7188  Supermarket Type3         13086.9648  \n",
       "5223  Supermarket Type3         12117.5600  \n",
       "1450  Supermarket Type3         11445.1020  \n",
       "4349  Supermarket Type3         10993.6896  \n",
       "6541  Supermarket Type3         10306.5840  "
      ]
     },
     "execution_count": 27,
     "metadata": {},
     "output_type": "execute_result"
    }
   ],
   "source": [
    "out027 = data.loc[data['Outlet_Identifier'] == 'OUT027'].sort_values(by = ['Item_Outlet_Sales'], ascending = False)\n",
    "out027.head()"
   ]
  },
  {
   "cell_type": "code",
   "execution_count": 28,
   "metadata": {},
   "outputs": [
    {
     "name": "stdout",
     "output_type": "stream",
     "text": [
      "NCE42\n",
      "Тип магазина: Supermarket Type3\n",
      "Стоимость продажи: 13086.9648\n",
      "Разница между стоимостью продажи товара-выброса и ближайшим товаром: 2780.380799999999\n",
      "Стандартное оклонение стоимости продажи NCE42 в магазинах типа Supermarket Type3 без учёта выброса: nan \n",
      "\n"
     ]
    },
    {
     "name": "stderr",
     "output_type": "stream",
     "text": [
      "D:\\Program_Files\\Anaconda\\lib\\site-packages\\ipykernel_launcher.py:40: FutureWarning: `item` has been deprecated and will be removed in a future version\n"
     ]
    },
    {
     "name": "stdout",
     "output_type": "stream",
     "text": [
      "FDQ19\n",
      "Тип магазина: Supermarket Type3\n",
      "Стоимость продажи: 12117.56\n",
      "Разница между стоимостью продажи товара-выброса и ближайшим товаром: 1810.9759999999987\n",
      "Стандартное оклонение стоимости продажи FDQ19 в магазинах типа Supermarket Type3 без учёта выброса: nan \n",
      "\n",
      "FDZ20\n",
      "Тип магазина: Supermarket Type3\n",
      "Стоимость продажи: 11445.101999999999\n",
      "Разница между стоимостью продажи товара-выброса и ближайшим товаром: 1138.5179999999982\n",
      "Стандартное оклонение стоимости продажи FDZ20 в магазинах типа Supermarket Type3 без учёта выброса: nan \n",
      "\n",
      "FDP33\n",
      "Тип магазина: Supermarket Type3\n",
      "Стоимость продажи: 10993.6896\n",
      "Разница между стоимостью продажи товара-выброса и ближайшим товаром: 687.105599999999\n",
      "Стандартное оклонение стоимости продажи FDP33 в магазинах типа Supermarket Type3 без учёта выброса: nan \n",
      "\n"
     ]
    }
   ],
   "source": [
    "stats (out027, 4)"
   ]
  },
  {
   "cell_type": "markdown",
   "metadata": {},
   "source": [
    "##### OUT013 - 3 выброса"
   ]
  },
  {
   "cell_type": "code",
   "execution_count": 29,
   "metadata": {},
   "outputs": [
    {
     "data": {
      "text/html": [
       "<div>\n",
       "<style scoped>\n",
       "    .dataframe tbody tr th:only-of-type {\n",
       "        vertical-align: middle;\n",
       "    }\n",
       "\n",
       "    .dataframe tbody tr th {\n",
       "        vertical-align: top;\n",
       "    }\n",
       "\n",
       "    .dataframe thead th {\n",
       "        text-align: right;\n",
       "    }\n",
       "</style>\n",
       "<table border=\"1\" class=\"dataframe\">\n",
       "  <thead>\n",
       "    <tr style=\"text-align: right;\">\n",
       "      <th></th>\n",
       "      <th>Item_Identifier</th>\n",
       "      <th>Item_Weight</th>\n",
       "      <th>Item_Fat_Content</th>\n",
       "      <th>Item_Visibility</th>\n",
       "      <th>Item_Type</th>\n",
       "      <th>Item_MRP</th>\n",
       "      <th>Outlet_Identifier</th>\n",
       "      <th>Outlet_Establishment_Year</th>\n",
       "      <th>Outlet_Size</th>\n",
       "      <th>Outlet_Location_Type</th>\n",
       "      <th>Outlet_Type</th>\n",
       "      <th>Item_Outlet_Sales</th>\n",
       "    </tr>\n",
       "  </thead>\n",
       "  <tbody>\n",
       "    <tr>\n",
       "      <th>4888</th>\n",
       "      <td>FDF39</td>\n",
       "      <td>14.850</td>\n",
       "      <td>Regular</td>\n",
       "      <td>0.019495</td>\n",
       "      <td>Dairy</td>\n",
       "      <td>261.2910</td>\n",
       "      <td>OUT013</td>\n",
       "      <td>1987</td>\n",
       "      <td>High</td>\n",
       "      <td>Tier 3</td>\n",
       "      <td>Supermarket Type1</td>\n",
       "      <td>10256.6490</td>\n",
       "    </tr>\n",
       "    <tr>\n",
       "      <th>6409</th>\n",
       "      <td>FDA21</td>\n",
       "      <td>13.650</td>\n",
       "      <td>Low Fat</td>\n",
       "      <td>0.035931</td>\n",
       "      <td>Snack Foods</td>\n",
       "      <td>184.4924</td>\n",
       "      <td>OUT013</td>\n",
       "      <td>1987</td>\n",
       "      <td>High</td>\n",
       "      <td>Tier 3</td>\n",
       "      <td>Supermarket Type1</td>\n",
       "      <td>9069.5276</td>\n",
       "    </tr>\n",
       "    <tr>\n",
       "      <th>3087</th>\n",
       "      <td>DRK23</td>\n",
       "      <td>8.395</td>\n",
       "      <td>Low Fat</td>\n",
       "      <td>0.071917</td>\n",
       "      <td>Hard Drinks</td>\n",
       "      <td>254.8040</td>\n",
       "      <td>OUT013</td>\n",
       "      <td>1987</td>\n",
       "      <td>High</td>\n",
       "      <td>Tier 3</td>\n",
       "      <td>Supermarket Type1</td>\n",
       "      <td>7843.1240</td>\n",
       "    </tr>\n",
       "    <tr>\n",
       "      <th>276</th>\n",
       "      <td>FDY55</td>\n",
       "      <td>16.750</td>\n",
       "      <td>Low Fat</td>\n",
       "      <td>0.081253</td>\n",
       "      <td>Fruits and Vegetables</td>\n",
       "      <td>256.4988</td>\n",
       "      <td>OUT013</td>\n",
       "      <td>1987</td>\n",
       "      <td>High</td>\n",
       "      <td>Tier 3</td>\n",
       "      <td>Supermarket Type1</td>\n",
       "      <td>7452.9652</td>\n",
       "    </tr>\n",
       "    <tr>\n",
       "      <th>7560</th>\n",
       "      <td>FDB56</td>\n",
       "      <td>8.750</td>\n",
       "      <td>Regular</td>\n",
       "      <td>0.074565</td>\n",
       "      <td>Fruits and Vegetables</td>\n",
       "      <td>186.8556</td>\n",
       "      <td>OUT013</td>\n",
       "      <td>1987</td>\n",
       "      <td>High</td>\n",
       "      <td>Tier 3</td>\n",
       "      <td>Supermarket Type1</td>\n",
       "      <td>7322.4684</td>\n",
       "    </tr>\n",
       "  </tbody>\n",
       "</table>\n",
       "</div>"
      ],
      "text/plain": [
       "     Item_Identifier  Item_Weight Item_Fat_Content  Item_Visibility  \\\n",
       "4888           FDF39       14.850          Regular         0.019495   \n",
       "6409           FDA21       13.650          Low Fat         0.035931   \n",
       "3087           DRK23        8.395          Low Fat         0.071917   \n",
       "276            FDY55       16.750          Low Fat         0.081253   \n",
       "7560           FDB56        8.750          Regular         0.074565   \n",
       "\n",
       "                  Item_Type  Item_MRP Outlet_Identifier  \\\n",
       "4888                  Dairy  261.2910            OUT013   \n",
       "6409            Snack Foods  184.4924            OUT013   \n",
       "3087            Hard Drinks  254.8040            OUT013   \n",
       "276   Fruits and Vegetables  256.4988            OUT013   \n",
       "7560  Fruits and Vegetables  186.8556            OUT013   \n",
       "\n",
       "      Outlet_Establishment_Year Outlet_Size Outlet_Location_Type  \\\n",
       "4888                       1987        High               Tier 3   \n",
       "6409                       1987        High               Tier 3   \n",
       "3087                       1987        High               Tier 3   \n",
       "276                        1987        High               Tier 3   \n",
       "7560                       1987        High               Tier 3   \n",
       "\n",
       "            Outlet_Type  Item_Outlet_Sales  \n",
       "4888  Supermarket Type1         10256.6490  \n",
       "6409  Supermarket Type1          9069.5276  \n",
       "3087  Supermarket Type1          7843.1240  \n",
       "276   Supermarket Type1          7452.9652  \n",
       "7560  Supermarket Type1          7322.4684  "
      ]
     },
     "execution_count": 29,
     "metadata": {},
     "output_type": "execute_result"
    }
   ],
   "source": [
    "out013 = data.loc[data['Outlet_Identifier'] == 'OUT013'].sort_values(by = ['Item_Outlet_Sales'], ascending = False)\n",
    "out013.head()"
   ]
  },
  {
   "cell_type": "code",
   "execution_count": 30,
   "metadata": {},
   "outputs": [
    {
     "name": "stdout",
     "output_type": "stream",
     "text": [
      "FDF39\n",
      "Тип магазина: Supermarket Type1\n",
      "Стоимость продажи: 10256.649\n",
      "Разница между стоимостью продажи товара-выброса и ближайшим товаром: 2934.1805999999997\n",
      "Стандартное оклонение стоимости продажи FDF39 в магазинах типа Supermarket Type1 без учёта выброса: 557.8882 \n",
      "\n",
      "FDA21\n",
      "Тип магазина: Supermarket Type1\n",
      "Стоимость продажи: 9069.5276\n",
      "Разница между стоимостью продажи товара-выброса и ближайшим товаром: 1747.0591999999997\n",
      "Стандартное оклонение стоимости продажи FDA21 в магазинах типа Supermarket Type1 без учёта выброса: 846.5153 \n",
      "\n",
      "DRK23\n",
      "Тип магазина: Supermarket Type1\n",
      "Стоимость продажи: 7843.124\n",
      "Разница между стоимостью продажи товара-выброса и ближайшим товаром: 520.6556\n",
      "Стандартное оклонение стоимости продажи DRK23 в магазинах типа Supermarket Type1 без учёта выброса: 1789.0084 \n",
      "\n",
      "FDY55\n",
      "Тип магазина: Supermarket Type1\n",
      "Стоимость продажи: 7452.9652\n",
      "Разница между стоимостью продажи товара-выброса и ближайшим товаром: 130.4967999999999\n",
      "Стандартное оклонение стоимости продажи FDY55 в магазинах типа Supermarket Type1 без учёта выброса: 2205.8024 \n",
      "\n"
     ]
    },
    {
     "name": "stderr",
     "output_type": "stream",
     "text": [
      "D:\\Program_Files\\Anaconda\\lib\\site-packages\\ipykernel_launcher.py:40: FutureWarning: `item` has been deprecated and will be removed in a future version\n"
     ]
    }
   ],
   "source": [
    "stats (out013, 4)"
   ]
  },
  {
   "cell_type": "markdown",
   "metadata": {},
   "source": [
    "* out035: \n",
    "    FDI15 - рассстояние между выбросом и ближайшей стоимостью меньше стандартного отклонения, вероятно, это не выброс а какой-то локальный максимум потребления. Оставляю как есть.\n",
    "        \n",
    "    \n",
    "* out046:\n",
    "    - **NCM05 - рассстояние между выбросом и ближайшей стоимостью больше стандартного отклонения, вероятно, это похоже на ошибку. Значение скорректиру на величину стандартного оклонения.**\n",
    "    - NCQ53 - рассстояние между выбросом и ближайшей стоимостью меньше стандартного отклонения, вероятно, это не выброс а какой-то локальный максимум потребления. Оставляю как есть.\n",
    "    - FDG47 - рассстояние между выбросом и ближайшей стоимостью меньше стандартного отклонения, вероятно, это не выброс а какой-то локальный максимум потребления. Оставляю как есть.\n",
    "    - FDY26 - стандартное оклоненение прибыли для этого типа товаров рассчитать не удалось, вероятно, этот тип товара продаёт только в одном магазине. Удалять эту позицию рисковано - она может вытаскивать магазин. Оставляю как есть.\n",
    "    - FDJ38 - рассстояние между выбросом и ближайшей стоимостью меньше стандартного отклонения, вероятно, это не выброс а какой-то локальный максимум потребления. Оставляю как есть.\n",
    "    \n",
    "    \n",
    "* out017 - выбросы разспределены равномер, вероятно, это локальные максимумы покупок в этом магазине. Оставляю как есть.\n",
    "\n",
    "\n",
    "* out027 - **все выбросы удаляю. Магазин продаёт большое количество товаров, я вижу большую вероятность ошибки при внесении этих данных в датасет, кроме того, из-за большого ассортимента исключение этих данных не должго сильно снизить прибыль магазина. Совокупная прибыль по остальным позициям значительно больше суммы 4 выбросов.**\n",
    "\n",
    "\n",
    "* out013:\n",
    "    - **FDF39 - рассстояние между выбросом и ближайшей стоимостью больше стандартного отклонения, вероятно, это похоже на ошибку. Значение скорректиру на величину стандартного оклонения.**\n",
    "    - **FDA21 - рассстояние между выбросом и ближайшей стоимостью больше стандартного отклонения, вероятно, это похоже на ошибку. Значение скорректиру на величину стандартного оклонения.**\n",
    "    - DRK23 - рассстояние между выбросом и ближайшей стоимостью меньше стандартного отклонения, вероятно, это не выброс а какой-то локальный максимум потребления. Оставляю как есть.\n",
    "    - FDY55 - рассстояние между выбросом и ближайшей стоимостью меньше стандартного отклонения, вероятно, это не выброс а какой-то локальный максимум потребления. Оставляю как есть."
   ]
  },
  {
   "cell_type": "markdown",
   "metadata": {},
   "source": [
    "## Обрабатываю дасет"
   ]
  },
  {
   "cell_type": "markdown",
   "metadata": {},
   "source": [
    "### Сокращаю \"лишние\" признаки"
   ]
  },
  {
   "cell_type": "markdown",
   "metadata": {},
   "source": [
    "data['Item_Fat_Content'] содержит избыточное количество признаков"
   ]
  },
  {
   "cell_type": "code",
   "execution_count": 31,
   "metadata": {},
   "outputs": [
    {
     "data": {
      "text/plain": [
       "array(['Low Fat', 'Regular', 'low fat', 'LF', 'reg'], dtype=object)"
      ]
     },
     "execution_count": 31,
     "metadata": {},
     "output_type": "execute_result"
    }
   ],
   "source": [
    "data['Item_Fat_Content'].unique()"
   ]
  },
  {
   "cell_type": "code",
   "execution_count": 32,
   "metadata": {},
   "outputs": [
    {
     "data": {
      "text/plain": [
       "array(['low fat', 'regular'], dtype=object)"
      ]
     },
     "execution_count": 32,
     "metadata": {},
     "output_type": "execute_result"
    }
   ],
   "source": [
    "data.loc[data['Item_Fat_Content'] == 'Low Fat', 'Item_Fat_Content'] = 'low fat'\n",
    "data.loc[data['Item_Fat_Content'] == 'LF', 'Item_Fat_Content'] = 'low fat'\n",
    "data.loc[data['Item_Fat_Content'] == 'Regular', 'Item_Fat_Content'] = 'regular'\n",
    "data.loc[data['Item_Fat_Content'] == 'reg', 'Item_Fat_Content'] = 'regular'\n",
    "data['Item_Fat_Content'].unique()"
   ]
  },
  {
   "cell_type": "markdown",
   "metadata": {},
   "source": [
    "### Заполняю пропуски в 'Item_Weight '"
   ]
  },
  {
   "cell_type": "code",
   "execution_count": 33,
   "metadata": {},
   "outputs": [
    {
     "name": "stdout",
     "output_type": "stream",
     "text": [
      "['FDN52', 'FDK57', 'FDE52', 'FDQ60']\n"
     ]
    },
    {
     "data": {
      "text/plain": [
       "Item_Identifier                 0\n",
       "Item_Weight                     4\n",
       "Item_Fat_Content                0\n",
       "Item_Visibility                 0\n",
       "Item_Type                       0\n",
       "Item_MRP                        0\n",
       "Outlet_Identifier               0\n",
       "Outlet_Establishment_Year       0\n",
       "Outlet_Size                  2410\n",
       "Outlet_Location_Type            0\n",
       "Outlet_Type                     0\n",
       "Item_Outlet_Sales               0\n",
       "dtype: int64"
      ]
     },
     "execution_count": 33,
     "metadata": {},
     "output_type": "execute_result"
    }
   ],
   "source": [
    "null_items = data.loc[(data['Item_Weight'].isnull())]['Item_Identifier'].unique()\n",
    "item_weidht = float() # промежуточная переменная\n",
    "total_null = list()\n",
    "\n",
    "for i in null_items:\n",
    "        #могут быть такие Item_Identifier, для которых Item_Weight == Nane, для обхода ошибки делаю обработчик исключений\n",
    "        try: \n",
    "            item_weidht = data.loc[(data['Item_Identifier'] == i) & (~data['Item_Weight'].isnull())]['Item_Weight'].iloc[0]\n",
    "            data.loc[(data['Item_Identifier']== i), ['Item_Weight']] = item_weidht\n",
    "        except LookupError:\n",
    "            total_null.append(i)\n",
    "print(total_null)\n",
    "data.isnull().sum()"
   ]
  },
  {
   "cell_type": "markdown",
   "metadata": {},
   "source": [
    "### Заполняю пропуски в 'Outlet_Size'\n",
    "\n",
    "* 'Grocery Store' = 'Small'\n",
    "* 'Supermarket Type1' ('Tier 2') = 'Small'\n",
    "* 'Supermarket Type1' ('Tier 3') = 'High'"
   ]
  },
  {
   "cell_type": "code",
   "execution_count": 34,
   "metadata": {},
   "outputs": [
    {
     "data": {
      "text/plain": [
       "Item_Identifier              0\n",
       "Item_Weight                  4\n",
       "Item_Fat_Content             0\n",
       "Item_Visibility              0\n",
       "Item_Type                    0\n",
       "Item_MRP                     0\n",
       "Outlet_Identifier            0\n",
       "Outlet_Establishment_Year    0\n",
       "Outlet_Size                  0\n",
       "Outlet_Location_Type         0\n",
       "Outlet_Type                  0\n",
       "Item_Outlet_Sales            0\n",
       "dtype: int64"
      ]
     },
     "execution_count": 34,
     "metadata": {},
     "output_type": "execute_result"
    }
   ],
   "source": [
    "#'Grocery Store' = 'Small'\n",
    "data.loc[(data['Outlet_Type'] == 'Grocery Store') ,['Outlet_Size']] = 'Small'\n",
    "\n",
    "#'Supermarket Type1' ('Tier 2') = 'Small'\n",
    "data.loc[((data['Outlet_Type'] == 'Supermarket Type1') & (data['Outlet_Location_Type'] == 'Tier 2')), ['Outlet_Size']] = 'Small'\n",
    "\n",
    "# 'Supermarket Type1' ('Tier 3') = 'High'\n",
    "data.loc[((data['Outlet_Type'] == 'Supermarket Type1') & (data['Outlet_Location_Type'] == 'Tier 3')), ['Outlet_Size']] = 'High'\n",
    "\n",
    "data.isnull().sum()"
   ]
  },
  {
   "cell_type": "markdown",
   "metadata": {},
   "source": [
    "### Заполняю пропуски в Item_Visibility\n",
    "\n",
    "Предпологаю, что товар в магазинах одного типа размещаются на одних и тех же полках, то есть можно заполнить пропуски среднем значением."
   ]
  },
  {
   "cell_type": "code",
   "execution_count": 35,
   "metadata": {},
   "outputs": [
    {
     "name": "stdout",
     "output_type": "stream",
     "text": [
      "['FDX07' 'NCD19' 'FDP36' 'FDY07' 'FDP33' 'FDO23' 'NCP05' 'FDM20' 'FDH35'\n",
      " 'FDV25']\n",
      "Количество товаров с пропусками в [Item_Visibility]: 446\n"
     ]
    }
   ],
   "source": [
    "#перечень товаров с нулевым значением 'Item_Visibility'\n",
    "item_vis_0 = data.loc[data['Item_Visibility'] == 0]['Item_Identifier'].unique()\n",
    "print(item_vis_0[:10])\n",
    "print('Количество товаров с пропусками в [Item_Visibility]:',len(item_vis_0))"
   ]
  },
  {
   "cell_type": "code",
   "execution_count": 36,
   "metadata": {},
   "outputs": [],
   "source": [
    "#mean_vis = float() #переменная для хранения средненго значения видимости Item_Identifier для 'Outlet_Type'\n",
    "#outlet_vis = str() #переменная для хранения типа магазина при data['Item_Visibility'] == 0\n",
    "count_nan_mean = 0\n",
    "\n",
    "for item in item_vis_0:\n",
    "    #нахожу 'Outlet_Type'\n",
    "    outlet_vis = data.loc[(data['Item_Visibility'] == 0) &\n",
    "                          (data['Item_Identifier'] == item),\n",
    "                          ['Outlet_Type']].iloc[0]\n",
    "    #считаю среднее значение ['Item_Visibility']\n",
    "    mean_vis = data.loc[(data['Item_Visibility'] != 0) &\n",
    "                            (data['Item_Identifier'] == item) &\n",
    "                            (data['Outlet_Type'] == outlet_vis[0]),\n",
    "                            ['Item_Visibility']].mean()\n",
    "    #проверяю, на среднее значение Item_Visibility не None - такое может быть,\n",
    "    #если тройка Item_Identifier, и Outlet_Type уникальны\n",
    "    if pd.isnull(mean_vis[0]) == False:\n",
    "        count_nan_mean += 1\n",
    "        data.loc[(data['Item_Visibility'] == 0) & \n",
    "                 (data['Item_Identifier'] == item) &\n",
    "                 (data['Outlet_Type'] == outlet_vis[0]), \n",
    "                 ['Item_Visibility']] = mean_vis[0]"
   ]
  },
  {
   "cell_type": "markdown",
   "metadata": {},
   "source": [
    "### Оценка влияния оставшихся пропусков."
   ]
  },
  {
   "cell_type": "markdown",
   "metadata": {},
   "source": [
    "Большенство пропусков исключено, однако остались ещё пропуски.\n",
    "Необходимо оценить насколько критичным будет удаление оставшихся."
   ]
  },
  {
   "cell_type": "code",
   "execution_count": 37,
   "metadata": {},
   "outputs": [
    {
     "name": "stdout",
     "output_type": "stream",
     "text": [
      "Оценка % убытков на 1 магазин, если товарами items_0 перенебречь\n",
      "2.23 %\n"
     ]
    }
   ],
   "source": [
    "#стоимость товаров 'Item_Visibility' == 0, приходящейся на 1 магазин\n",
    "items_0 = data.loc[(data['Item_Visibility'] == 0)].groupby(['Item_Type', 'Outlet_Type']).agg('sum')['Item_Outlet_Sales'].sum()/len(data['Outlet_Identifier'].unique())\n",
    "\n",
    "#стоимость всех товаров в датасете приходящихся на 1 магазин\n",
    "all_items = data['Item_Outlet_Sales'].sum()/len(data['Outlet_Identifier'].unique())\n",
    "\n",
    "print('Оценка % убытков на 1 магазин, если товарами items_0 перенебречь')\n",
    "print(round(items_0*100/all_items, 2), '%')"
   ]
  },
  {
   "cell_type": "code",
   "execution_count": 38,
   "metadata": {},
   "outputs": [
    {
     "name": "stdout",
     "output_type": "stream",
     "text": [
      "Процент строк и пропусками\n",
      "2.25 %\n"
     ]
    }
   ],
   "source": [
    "#Процент строк и пропусками \n",
    "data.loc[(data['Item_Visibility'] == 0), ['Item_Visibility']] = np.nan\n",
    "\n",
    "IV_nan = data['Item_Visibility'].isnull().sum()\n",
    "IW_nan = data['Item_Weight'].isnull().sum()\n",
    "\n",
    "print('Процент строк и пропусками')\n",
    "print(round(((IV_nan + IW_nan)*100)/len(data),2), '%')"
   ]
  },
  {
   "cell_type": "markdown",
   "metadata": {},
   "source": [
    "### Выбросы"
   ]
  },
  {
   "cell_type": "markdown",
   "metadata": {},
   "source": [
    "* out046:\n",
    "    - **NCM05 - рассстояние между выбросом и ближайшей стоимостью больше стандартного отклонения, вероятно, это похоже на ошибку. Значение скорректиру на величину стандартного оклонения.**\n",
    " \n",
    "* out027 - **все выбросы удаляю. Магазин продаёт большое количество товаров, я вижу большую вероятность ошибки при внесении этих данных в датасет, кроме того, из-за большого ассортимента исключение этих данных не должго сильно снизить прибыль магазина. Совокупная прибыль по остальным позициям значительно больше суммы 4 выбросов.**\n",
    "\n",
    "* out013:\n",
    "    - **FDF39 - рассстояние между выбросом и ближайшей стоимостью больше стандартного отклонения, вероятно, это похоже на ошибку. Значение скорректиру на величину стандартного оклонения.**\n",
    "    - **FDA21 - рассстояние между выбросом и ближайшей стоимостью больше стандартного отклонения, вероятно, это похоже на ошибку. Значение скорректиру на величину стандартного оклонения.**"
   ]
  },
  {
   "cell_type": "code",
   "execution_count": 39,
   "metadata": {},
   "outputs": [
    {
     "name": "stderr",
     "output_type": "stream",
     "text": [
      "D:\\Program_Files\\Anaconda\\lib\\site-packages\\ipykernel_launcher.py:2: SettingWithCopyWarning: \n",
      "A value is trying to be set on a copy of a slice from a DataFrame\n",
      "\n",
      "See the caveats in the documentation: http://pandas.pydata.org/pandas-docs/stable/user_guide/indexing.html#returning-a-view-versus-a-copy\n",
      "  \n"
     ]
    }
   ],
   "source": [
    "# out046['Item_Identifier'] == NCM05\n",
    "data['Item_Outlet_Sales'][out046.index[0]] -= 1351.181\n",
    "\n",
    "#out027['Item_Identifier] == NCE42, FDQ19, FDZ20, FDP33\n",
    "items027 = out027.iloc[:4].index\n",
    "data.drop(items027, inplace = True)\n",
    "\n",
    "#out013['Item_Identifier'] == FDF39, FDA21\n",
    "data.loc[(data['Item_Identifier'] == 'FDF39') & (data['Outlet_Identifier'] == 'OUT013'), ['Item_Outlet_Sales']] -= 557.8882\n",
    "data.loc[(data['Item_Identifier'] == 'FDA21') & (data['Outlet_Identifier'] == 'OUT013'), ['Item_Outlet_Sales']] -= 846.5153"
   ]
  },
  {
   "cell_type": "markdown",
   "metadata": {},
   "source": [
    "### Удаляю данные"
   ]
  },
  {
   "cell_type": "code",
   "execution_count": 40,
   "metadata": {},
   "outputs": [
    {
     "name": "stdout",
     "output_type": "stream",
     "text": [
      "<class 'pandas.core.frame.DataFrame'>\n",
      "Int64Index: 8328 entries, 0 to 8522\n",
      "Data columns (total 12 columns):\n",
      "Item_Identifier              8328 non-null object\n",
      "Item_Weight                  8328 non-null float64\n",
      "Item_Fat_Content             8328 non-null object\n",
      "Item_Visibility              8328 non-null float64\n",
      "Item_Type                    8328 non-null object\n",
      "Item_MRP                     8328 non-null float64\n",
      "Outlet_Identifier            8328 non-null object\n",
      "Outlet_Establishment_Year    8328 non-null int64\n",
      "Outlet_Size                  8328 non-null object\n",
      "Outlet_Location_Type         8328 non-null object\n",
      "Outlet_Type                  8328 non-null object\n",
      "Item_Outlet_Sales            8328 non-null float64\n",
      "dtypes: float64(4), int64(1), object(7)\n",
      "memory usage: 845.8+ KB\n"
     ]
    }
   ],
   "source": [
    "data.dropna(inplace = True)\n",
    "data.info()"
   ]
  },
  {
   "cell_type": "code",
   "execution_count": 41,
   "metadata": {},
   "outputs": [
    {
     "data": {
      "image/png": "[encoded data removed]",
      "text/plain": [
       "<Figure size 864x432 with 1 Axes>"
      ]
     },
     "metadata": {
      "needs_background": "light"
     },
     "output_type": "display_data"
    }
   ],
   "source": [
    "y = data['Outlet_Identifier']\n",
    "x = data['Item_Outlet_Sales']\n",
    "plt.figure(figsize=(12,6))\n",
    "plt.scatter(x,y)\n",
    "plt.show()"
   ]
  },
  {
   "cell_type": "markdown",
   "metadata": {},
   "source": [
    "### Создаю признаки"
   ]
  },
  {
   "cell_type": "code",
   "execution_count": 42,
   "metadata": {},
   "outputs": [
    {
     "name": "stderr",
     "output_type": "stream",
     "text": [
      "D:\\Program_Files\\Anaconda\\lib\\site-packages\\ipykernel_launcher.py:21: FutureWarning: `item` has been deprecated and will be removed in a future version\n"
     ]
    },
    {
     "name": "stdout",
     "output_type": "stream",
     "text": [
      "Wall time: 48.8 s\n"
     ]
    },
    {
     "data": {
      "text/html": [
       "<div>\n",
       "<style scoped>\n",
       "    .dataframe tbody tr th:only-of-type {\n",
       "        vertical-align: middle;\n",
       "    }\n",
       "\n",
       "    .dataframe tbody tr th {\n",
       "        vertical-align: top;\n",
       "    }\n",
       "\n",
       "    .dataframe thead th {\n",
       "        text-align: right;\n",
       "    }\n",
       "</style>\n",
       "<table border=\"1\" class=\"dataframe\">\n",
       "  <thead>\n",
       "    <tr style=\"text-align: right;\">\n",
       "      <th></th>\n",
       "      <th>Item_Identifier</th>\n",
       "      <th>Item_Weight</th>\n",
       "      <th>Item_Fat_Content</th>\n",
       "      <th>Item_Visibility</th>\n",
       "      <th>Item_Type</th>\n",
       "      <th>Item_MRP</th>\n",
       "      <th>Outlet_Identifier</th>\n",
       "      <th>Outlet_Establishment_Year</th>\n",
       "      <th>Outlet_Size</th>\n",
       "      <th>Outlet_Location_Type</th>\n",
       "      <th>Outlet_Type</th>\n",
       "      <th>Item_Outlet_Sales</th>\n",
       "      <th>Item_Quantity</th>\n",
       "      <th>Visibility_Revenue</th>\n",
       "      <th>Revenue_Item</th>\n",
       "    </tr>\n",
       "  </thead>\n",
       "  <tbody>\n",
       "    <tr>\n",
       "      <th>0</th>\n",
       "      <td>FDA15</td>\n",
       "      <td>9.30</td>\n",
       "      <td>low fat</td>\n",
       "      <td>0.016047</td>\n",
       "      <td>Dairy</td>\n",
       "      <td>249.8092</td>\n",
       "      <td>OUT049</td>\n",
       "      <td>1999</td>\n",
       "      <td>Medium</td>\n",
       "      <td>Tier 1</td>\n",
       "      <td>Supermarket Type1</td>\n",
       "      <td>3735.1380</td>\n",
       "      <td>15</td>\n",
       "      <td>59.9389</td>\n",
       "      <td>0.171245</td>\n",
       "    </tr>\n",
       "    <tr>\n",
       "      <th>1</th>\n",
       "      <td>DRC01</td>\n",
       "      <td>5.92</td>\n",
       "      <td>regular</td>\n",
       "      <td>0.019278</td>\n",
       "      <td>Soft Drinks</td>\n",
       "      <td>48.2692</td>\n",
       "      <td>OUT018</td>\n",
       "      <td>2009</td>\n",
       "      <td>Medium</td>\n",
       "      <td>Tier 3</td>\n",
       "      <td>Supermarket Type2</td>\n",
       "      <td>443.4228</td>\n",
       "      <td>9</td>\n",
       "      <td>8.5484</td>\n",
       "      <td>0.025777</td>\n",
       "    </tr>\n",
       "    <tr>\n",
       "      <th>2</th>\n",
       "      <td>FDN15</td>\n",
       "      <td>17.50</td>\n",
       "      <td>low fat</td>\n",
       "      <td>0.016760</td>\n",
       "      <td>Meat</td>\n",
       "      <td>141.6180</td>\n",
       "      <td>OUT049</td>\n",
       "      <td>1999</td>\n",
       "      <td>Medium</td>\n",
       "      <td>Tier 1</td>\n",
       "      <td>Supermarket Type1</td>\n",
       "      <td>2097.2700</td>\n",
       "      <td>15</td>\n",
       "      <td>35.1504</td>\n",
       "      <td>0.096154</td>\n",
       "    </tr>\n",
       "    <tr>\n",
       "      <th>4</th>\n",
       "      <td>NCD19</td>\n",
       "      <td>8.93</td>\n",
       "      <td>low fat</td>\n",
       "      <td>0.013217</td>\n",
       "      <td>Household</td>\n",
       "      <td>53.8614</td>\n",
       "      <td>OUT013</td>\n",
       "      <td>1987</td>\n",
       "      <td>High</td>\n",
       "      <td>Tier 3</td>\n",
       "      <td>Supermarket Type1</td>\n",
       "      <td>994.7052</td>\n",
       "      <td>18</td>\n",
       "      <td>13.1467</td>\n",
       "      <td>0.046662</td>\n",
       "    </tr>\n",
       "    <tr>\n",
       "      <th>6</th>\n",
       "      <td>FDO10</td>\n",
       "      <td>13.65</td>\n",
       "      <td>regular</td>\n",
       "      <td>0.012741</td>\n",
       "      <td>Snack Foods</td>\n",
       "      <td>57.6588</td>\n",
       "      <td>OUT013</td>\n",
       "      <td>1987</td>\n",
       "      <td>High</td>\n",
       "      <td>Tier 3</td>\n",
       "      <td>Supermarket Type1</td>\n",
       "      <td>343.5528</td>\n",
       "      <td>6</td>\n",
       "      <td>4.3772</td>\n",
       "      <td>0.016116</td>\n",
       "    </tr>\n",
       "  </tbody>\n",
       "</table>\n",
       "</div>"
      ],
      "text/plain": [
       "  Item_Identifier  Item_Weight Item_Fat_Content  Item_Visibility    Item_Type  \\\n",
       "0           FDA15         9.30          low fat         0.016047        Dairy   \n",
       "1           DRC01         5.92          regular         0.019278  Soft Drinks   \n",
       "2           FDN15        17.50          low fat         0.016760         Meat   \n",
       "4           NCD19         8.93          low fat         0.013217    Household   \n",
       "6           FDO10        13.65          regular         0.012741  Snack Foods   \n",
       "\n",
       "   Item_MRP Outlet_Identifier  Outlet_Establishment_Year Outlet_Size  \\\n",
       "0  249.8092            OUT049                       1999      Medium   \n",
       "1   48.2692            OUT018                       2009      Medium   \n",
       "2  141.6180            OUT049                       1999      Medium   \n",
       "4   53.8614            OUT013                       1987        High   \n",
       "6   57.6588            OUT013                       1987        High   \n",
       "\n",
       "  Outlet_Location_Type        Outlet_Type  Item_Outlet_Sales  Item_Quantity  \\\n",
       "0               Tier 1  Supermarket Type1          3735.1380             15   \n",
       "1               Tier 3  Supermarket Type2           443.4228              9   \n",
       "2               Tier 1  Supermarket Type1          2097.2700             15   \n",
       "4               Tier 3  Supermarket Type1           994.7052             18   \n",
       "6               Tier 3  Supermarket Type1           343.5528              6   \n",
       "\n",
       "   Visibility_Revenue  Revenue_Item  \n",
       "0             59.9389      0.171245  \n",
       "1              8.5484      0.025777  \n",
       "2             35.1504      0.096154  \n",
       "4             13.1467      0.046662  \n",
       "6              4.3772      0.016116  "
      ]
     },
     "execution_count": 42,
     "metadata": {},
     "output_type": "execute_result"
    }
   ],
   "source": [
    "%%time\n",
    "#Количество проданного типа товара\n",
    "data['Item_Quantity'] = round(data['Item_Outlet_Sales'] / data['Item_MRP']).astype('int32')\n",
    "\n",
    "#выручка за товар с процента полки\n",
    "data['Visibility_Revenue'] = round(data['Item_Visibility'] * data['Item_Outlet_Sales'], 4)\n",
    "\n",
    "#процент выручки за товар в общей выручке магазина\n",
    "data['Revenue_Item'] = 0\n",
    "outlet_list = list(data['Outlet_Identifier'].unique())\n",
    "for oi in outlet_list:\n",
    "    #прибыль магазина\n",
    "    revenue = data.loc[data['Outlet_Identifier'] == oi, ['Item_Outlet_Sales']].sum()\n",
    "    \n",
    "    #товары, продаваемые в магазине\n",
    "    items_outlet = pd.unique(data[data['Outlet_Identifier'] == oi]['Item_Identifier']).tolist()\n",
    "    \n",
    "    for item in items_outlet:\n",
    "        #прибыль с item\n",
    "        item_revenue = data.loc[(data['Outlet_Identifier'] == oi) & (data['Item_Identifier'] == item), ['Item_Outlet_Sales']]\n",
    "        #считаю % прибыли товара в общей прибыли магазна\n",
    "        data.loc[(data['Outlet_Identifier'] == oi) & (data['Item_Identifier'] == item), ['Revenue_Item']] = (item_revenue.values * 100) / revenue.item() \n",
    "\n",
    "data.head()"
   ]
  },
  {
   "cell_type": "code",
   "execution_count": 43,
   "metadata": {},
   "outputs": [
    {
     "data": {
      "text/html": [
       "<div>\n",
       "<style scoped>\n",
       "    .dataframe tbody tr th:only-of-type {\n",
       "        vertical-align: middle;\n",
       "    }\n",
       "\n",
       "    .dataframe tbody tr th {\n",
       "        vertical-align: top;\n",
       "    }\n",
       "\n",
       "    .dataframe thead th {\n",
       "        text-align: right;\n",
       "    }\n",
       "</style>\n",
       "<table border=\"1\" class=\"dataframe\">\n",
       "  <thead>\n",
       "    <tr style=\"text-align: right;\">\n",
       "      <th></th>\n",
       "      <th>count</th>\n",
       "      <th>mean</th>\n",
       "      <th>std</th>\n",
       "      <th>min</th>\n",
       "      <th>25%</th>\n",
       "      <th>50%</th>\n",
       "      <th>75%</th>\n",
       "      <th>max</th>\n",
       "    </tr>\n",
       "  </thead>\n",
       "  <tbody>\n",
       "    <tr>\n",
       "      <th>Item_Weight</th>\n",
       "      <td>8328.0</td>\n",
       "      <td>12.883432</td>\n",
       "      <td>4.643570</td>\n",
       "      <td>4.555000</td>\n",
       "      <td>8.840000</td>\n",
       "      <td>12.650000</td>\n",
       "      <td>16.850000</td>\n",
       "      <td>21.350000</td>\n",
       "    </tr>\n",
       "    <tr>\n",
       "      <th>Item_Visibility</th>\n",
       "      <td>8328.0</td>\n",
       "      <td>0.070522</td>\n",
       "      <td>0.050297</td>\n",
       "      <td>0.003575</td>\n",
       "      <td>0.031381</td>\n",
       "      <td>0.057831</td>\n",
       "      <td>0.098291</td>\n",
       "      <td>0.328391</td>\n",
       "    </tr>\n",
       "    <tr>\n",
       "      <th>Item_MRP</th>\n",
       "      <td>8328.0</td>\n",
       "      <td>141.106481</td>\n",
       "      <td>62.138046</td>\n",
       "      <td>31.290000</td>\n",
       "      <td>94.143600</td>\n",
       "      <td>143.215400</td>\n",
       "      <td>185.624650</td>\n",
       "      <td>266.888400</td>\n",
       "    </tr>\n",
       "    <tr>\n",
       "      <th>Outlet_Establishment_Year</th>\n",
       "      <td>8328.0</td>\n",
       "      <td>1997.880043</td>\n",
       "      <td>8.299292</td>\n",
       "      <td>1985.000000</td>\n",
       "      <td>1987.000000</td>\n",
       "      <td>1999.000000</td>\n",
       "      <td>2004.000000</td>\n",
       "      <td>2009.000000</td>\n",
       "    </tr>\n",
       "    <tr>\n",
       "      <th>Item_Outlet_Sales</th>\n",
       "      <td>8328.0</td>\n",
       "      <td>2176.771320</td>\n",
       "      <td>1685.844255</td>\n",
       "      <td>33.290000</td>\n",
       "      <td>838.908000</td>\n",
       "      <td>1797.660000</td>\n",
       "      <td>3095.970000</td>\n",
       "      <td>10306.584000</td>\n",
       "    </tr>\n",
       "    <tr>\n",
       "      <th>Item_Quantity</th>\n",
       "      <td>8328.0</td>\n",
       "      <td>15.390970</td>\n",
       "      <td>9.094707</td>\n",
       "      <td>1.000000</td>\n",
       "      <td>9.000000</td>\n",
       "      <td>15.000000</td>\n",
       "      <td>21.000000</td>\n",
       "      <td>57.000000</td>\n",
       "    </tr>\n",
       "    <tr>\n",
       "      <th>Visibility_Revenue</th>\n",
       "      <td>8328.0</td>\n",
       "      <td>142.143680</td>\n",
       "      <td>156.704799</td>\n",
       "      <td>0.859300</td>\n",
       "      <td>36.997725</td>\n",
       "      <td>87.952550</td>\n",
       "      <td>187.482850</td>\n",
       "      <td>1674.758300</td>\n",
       "    </tr>\n",
       "    <tr>\n",
       "      <th>Revenue_Item</th>\n",
       "      <td>8328.0</td>\n",
       "      <td>0.120077</td>\n",
       "      <td>0.088604</td>\n",
       "      <td>0.003436</td>\n",
       "      <td>0.058226</td>\n",
       "      <td>0.099738</td>\n",
       "      <td>0.157749</td>\n",
       "      <td>0.976269</td>\n",
       "    </tr>\n",
       "  </tbody>\n",
       "</table>\n",
       "</div>"
      ],
      "text/plain": [
       "                            count         mean          std          min  \\\n",
       "Item_Weight                8328.0    12.883432     4.643570     4.555000   \n",
       "Item_Visibility            8328.0     0.070522     0.050297     0.003575   \n",
       "Item_MRP                   8328.0   141.106481    62.138046    31.290000   \n",
       "Outlet_Establishment_Year  8328.0  1997.880043     8.299292  1985.000000   \n",
       "Item_Outlet_Sales          8328.0  2176.771320  1685.844255    33.290000   \n",
       "Item_Quantity              8328.0    15.390970     9.094707     1.000000   \n",
       "Visibility_Revenue         8328.0   142.143680   156.704799     0.859300   \n",
       "Revenue_Item               8328.0     0.120077     0.088604     0.003436   \n",
       "\n",
       "                                   25%          50%          75%           max  \n",
       "Item_Weight                   8.840000    12.650000    16.850000     21.350000  \n",
       "Item_Visibility               0.031381     0.057831     0.098291      0.328391  \n",
       "Item_MRP                     94.143600   143.215400   185.624650    266.888400  \n",
       "Outlet_Establishment_Year  1987.000000  1999.000000  2004.000000   2009.000000  \n",
       "Item_Outlet_Sales           838.908000  1797.660000  3095.970000  10306.584000  \n",
       "Item_Quantity                 9.000000    15.000000    21.000000     57.000000  \n",
       "Visibility_Revenue           36.997725    87.952550   187.482850   1674.758300  \n",
       "Revenue_Item                  0.058226     0.099738     0.157749      0.976269  "
      ]
     },
     "execution_count": 43,
     "metadata": {},
     "output_type": "execute_result"
    }
   ],
   "source": [
    "data.describe().T"
   ]
  },
  {
   "cell_type": "markdown",
   "metadata": {},
   "source": [
    "### Сохраняю обработанный датасет в .csv"
   ]
  },
  {
   "cell_type": "code",
   "execution_count": 44,
   "metadata": {},
   "outputs": [],
   "source": [
    "data.to_csv('ready_data.csv', index = False)"
   ]
  },
  {
   "cell_type": "markdown",
   "metadata": {},
   "source": [
    "## Прогнозирование"
   ]
  },
  {
   "cell_type": "code",
   "execution_count": 45,
   "metadata": {},
   "outputs": [
    {
     "data": {
      "text/html": [
       "<div>\n",
       "<style scoped>\n",
       "    .dataframe tbody tr th:only-of-type {\n",
       "        vertical-align: middle;\n",
       "    }\n",
       "\n",
       "    .dataframe tbody tr th {\n",
       "        vertical-align: top;\n",
       "    }\n",
       "\n",
       "    .dataframe thead th {\n",
       "        text-align: right;\n",
       "    }\n",
       "</style>\n",
       "<table border=\"1\" class=\"dataframe\">\n",
       "  <thead>\n",
       "    <tr style=\"text-align: right;\">\n",
       "      <th></th>\n",
       "      <th>Item_Identifier</th>\n",
       "      <th>Item_Weight</th>\n",
       "      <th>Item_Fat_Content</th>\n",
       "      <th>Item_Visibility</th>\n",
       "      <th>Item_Type</th>\n",
       "      <th>Item_MRP</th>\n",
       "      <th>Outlet_Identifier</th>\n",
       "      <th>Outlet_Establishment_Year</th>\n",
       "      <th>Outlet_Size</th>\n",
       "      <th>Outlet_Location_Type</th>\n",
       "      <th>Outlet_Type</th>\n",
       "      <th>Item_Outlet_Sales</th>\n",
       "      <th>Item_Quantity</th>\n",
       "      <th>Visibility_Revenue</th>\n",
       "      <th>Revenue_Item</th>\n",
       "    </tr>\n",
       "  </thead>\n",
       "  <tbody>\n",
       "    <tr>\n",
       "      <th>0</th>\n",
       "      <td>FDA15</td>\n",
       "      <td>9.30</td>\n",
       "      <td>low fat</td>\n",
       "      <td>0.016047</td>\n",
       "      <td>Dairy</td>\n",
       "      <td>249.8092</td>\n",
       "      <td>OUT049</td>\n",
       "      <td>1999</td>\n",
       "      <td>Medium</td>\n",
       "      <td>Tier 1</td>\n",
       "      <td>Supermarket Type1</td>\n",
       "      <td>3735.1380</td>\n",
       "      <td>15</td>\n",
       "      <td>59.9389</td>\n",
       "      <td>0.171245</td>\n",
       "    </tr>\n",
       "    <tr>\n",
       "      <th>1</th>\n",
       "      <td>DRC01</td>\n",
       "      <td>5.92</td>\n",
       "      <td>regular</td>\n",
       "      <td>0.019278</td>\n",
       "      <td>Soft Drinks</td>\n",
       "      <td>48.2692</td>\n",
       "      <td>OUT018</td>\n",
       "      <td>2009</td>\n",
       "      <td>Medium</td>\n",
       "      <td>Tier 3</td>\n",
       "      <td>Supermarket Type2</td>\n",
       "      <td>443.4228</td>\n",
       "      <td>9</td>\n",
       "      <td>8.5484</td>\n",
       "      <td>0.025777</td>\n",
       "    </tr>\n",
       "    <tr>\n",
       "      <th>2</th>\n",
       "      <td>FDN15</td>\n",
       "      <td>17.50</td>\n",
       "      <td>low fat</td>\n",
       "      <td>0.016760</td>\n",
       "      <td>Meat</td>\n",
       "      <td>141.6180</td>\n",
       "      <td>OUT049</td>\n",
       "      <td>1999</td>\n",
       "      <td>Medium</td>\n",
       "      <td>Tier 1</td>\n",
       "      <td>Supermarket Type1</td>\n",
       "      <td>2097.2700</td>\n",
       "      <td>15</td>\n",
       "      <td>35.1504</td>\n",
       "      <td>0.096154</td>\n",
       "    </tr>\n",
       "    <tr>\n",
       "      <th>3</th>\n",
       "      <td>NCD19</td>\n",
       "      <td>8.93</td>\n",
       "      <td>low fat</td>\n",
       "      <td>0.013217</td>\n",
       "      <td>Household</td>\n",
       "      <td>53.8614</td>\n",
       "      <td>OUT013</td>\n",
       "      <td>1987</td>\n",
       "      <td>High</td>\n",
       "      <td>Tier 3</td>\n",
       "      <td>Supermarket Type1</td>\n",
       "      <td>994.7052</td>\n",
       "      <td>18</td>\n",
       "      <td>13.1467</td>\n",
       "      <td>0.046662</td>\n",
       "    </tr>\n",
       "    <tr>\n",
       "      <th>4</th>\n",
       "      <td>FDO10</td>\n",
       "      <td>13.65</td>\n",
       "      <td>regular</td>\n",
       "      <td>0.012741</td>\n",
       "      <td>Snack Foods</td>\n",
       "      <td>57.6588</td>\n",
       "      <td>OUT013</td>\n",
       "      <td>1987</td>\n",
       "      <td>High</td>\n",
       "      <td>Tier 3</td>\n",
       "      <td>Supermarket Type1</td>\n",
       "      <td>343.5528</td>\n",
       "      <td>6</td>\n",
       "      <td>4.3772</td>\n",
       "      <td>0.016116</td>\n",
       "    </tr>\n",
       "  </tbody>\n",
       "</table>\n",
       "</div>"
      ],
      "text/plain": [
       "  Item_Identifier  Item_Weight Item_Fat_Content  Item_Visibility    Item_Type  \\\n",
       "0           FDA15         9.30          low fat         0.016047        Dairy   \n",
       "1           DRC01         5.92          regular         0.019278  Soft Drinks   \n",
       "2           FDN15        17.50          low fat         0.016760         Meat   \n",
       "3           NCD19         8.93          low fat         0.013217    Household   \n",
       "4           FDO10        13.65          regular         0.012741  Snack Foods   \n",
       "\n",
       "   Item_MRP Outlet_Identifier  Outlet_Establishment_Year Outlet_Size  \\\n",
       "0  249.8092            OUT049                       1999      Medium   \n",
       "1   48.2692            OUT018                       2009      Medium   \n",
       "2  141.6180            OUT049                       1999      Medium   \n",
       "3   53.8614            OUT013                       1987        High   \n",
       "4   57.6588            OUT013                       1987        High   \n",
       "\n",
       "  Outlet_Location_Type        Outlet_Type  Item_Outlet_Sales  Item_Quantity  \\\n",
       "0               Tier 1  Supermarket Type1          3735.1380             15   \n",
       "1               Tier 3  Supermarket Type2           443.4228              9   \n",
       "2               Tier 1  Supermarket Type1          2097.2700             15   \n",
       "3               Tier 3  Supermarket Type1           994.7052             18   \n",
       "4               Tier 3  Supermarket Type1           343.5528              6   \n",
       "\n",
       "   Visibility_Revenue  Revenue_Item  \n",
       "0             59.9389      0.171245  \n",
       "1              8.5484      0.025777  \n",
       "2             35.1504      0.096154  \n",
       "3             13.1467      0.046662  \n",
       "4              4.3772      0.016116  "
      ]
     },
     "execution_count": 45,
     "metadata": {},
     "output_type": "execute_result"
    }
   ],
   "source": [
    "df = pd.read_csv('ready_data.csv')\n",
    "df.head()"
   ]
  },
  {
   "cell_type": "code",
   "execution_count": 46,
   "metadata": {},
   "outputs": [
    {
     "data": {
      "application/vnd.jupyter.widget-view+json": {
       "model_id": "43ede386278d4c0382f034a2f09b56cb",
       "version_major": 2,
       "version_minor": 0
      },
      "text/plain": [
       "HBox(children=(FloatProgress(value=0.0, description='variables', max=15.0, style=ProgressStyle(description_wid…"
      ]
     },
     "metadata": {},
     "output_type": "display_data"
    },
    {
     "name": "stdout",
     "output_type": "stream",
     "text": [
      "\n"
     ]
    },
    {
     "data": {
      "application/vnd.jupyter.widget-view+json": {
       "model_id": "1fdf60c2a4114f348b1fe8db5ae2ff29",
       "version_major": 2,
       "version_minor": 0
      },
      "text/plain": [
       "HBox(children=(FloatProgress(value=0.0, description='correlations', max=6.0, style=ProgressStyle(description_w…"
      ]
     },
     "metadata": {},
     "output_type": "display_data"
    },
    {
     "name": "stdout",
     "output_type": "stream",
     "text": [
      "\n"
     ]
    },
    {
     "data": {
      "application/vnd.jupyter.widget-view+json": {
       "model_id": "4bcbf320db5d4b08a71a387d5db9a44e",
       "version_major": 2,
       "version_minor": 0
      },
      "text/plain": [
       "HBox(children=(FloatProgress(value=0.0, description='interactions [continuous]', max=64.0, style=ProgressStyle…"
      ]
     },
     "metadata": {},
     "output_type": "display_data"
    },
    {
     "name": "stdout",
     "output_type": "stream",
     "text": [
      "\n"
     ]
    },
    {
     "data": {
      "application/vnd.jupyter.widget-view+json": {
       "model_id": "9777e79e6e42464fb159cce9b59743a7",
       "version_major": 2,
       "version_minor": 0
      },
      "text/plain": [
       "HBox(children=(FloatProgress(value=0.0, description='table', max=1.0, style=ProgressStyle(description_width='i…"
      ]
     },
     "metadata": {},
     "output_type": "display_data"
    },
    {
     "name": "stdout",
     "output_type": "stream",
     "text": [
      "\n"
     ]
    },
    {
     "data": {
      "application/vnd.jupyter.widget-view+json": {
       "model_id": "88ad6765b360441db1125f51b11d5b7d",
       "version_major": 2,
       "version_minor": 0
      },
      "text/plain": [
       "HBox(children=(FloatProgress(value=0.0, description='missing', max=2.0, style=ProgressStyle(description_width=…"
      ]
     },
     "metadata": {},
     "output_type": "display_data"
    },
    {
     "name": "stdout",
     "output_type": "stream",
     "text": [
      "\n"
     ]
    },
    {
     "data": {
      "application/vnd.jupyter.widget-view+json": {
       "model_id": "cb0d7358450c4a27a0fce5889b74155f",
       "version_major": 2,
       "version_minor": 0
      },
      "text/plain": [
       "HBox(children=(FloatProgress(value=0.0, description='warnings', max=3.0, style=ProgressStyle(description_width…"
      ]
     },
     "metadata": {},
     "output_type": "display_data"
    },
    {
     "name": "stdout",
     "output_type": "stream",
     "text": [
      "\n"
     ]
    },
    {
     "data": {
      "application/vnd.jupyter.widget-view+json": {
       "model_id": "8fd9eb6c24df4ea68bb4a569da7aaebc",
       "version_major": 2,
       "version_minor": 0
      },
      "text/plain": [
       "HBox(children=(FloatProgress(value=0.0, description='package', max=1.0, style=ProgressStyle(description_width=…"
      ]
     },
     "metadata": {},
     "output_type": "display_data"
    },
    {
     "name": "stdout",
     "output_type": "stream",
     "text": [
      "\n"
     ]
    },
    {
     "data": {
      "application/vnd.jupyter.widget-view+json": {
       "model_id": "9da18beb8f3744bf9c9c12d9585b621e",
       "version_major": 2,
       "version_minor": 0
      },
      "text/plain": [
       "HBox(children=(FloatProgress(value=0.0, description='build report structure', max=1.0, style=ProgressStyle(des…"
      ]
     },
     "metadata": {},
     "output_type": "display_data"
    },
    {
     "name": "stdout",
     "output_type": "stream",
     "text": [
      "\n"
     ]
    },
    {
     "data": {
      "application/vnd.jupyter.widget-view+json": {
       "model_id": "7a90e97c98ec447091c2d3144ad7d613",
       "version_major": 2,
       "version_minor": 0
      },
      "text/plain": [
       "Tab(children=(Tab(children=(GridBox(children=(VBox(children=(GridspecLayout(children=(HTML(value='Number of va…"
      ]
     },
     "metadata": {},
     "output_type": "display_data"
    },
    {
     "data": {
      "text/html": [
       "Report generated with <a href=\"https://github.com/pandas-profiling/pandas-profiling\">pandas-profiling</a>."
      ],
      "text/plain": [
       "<IPython.core.display.HTML object>"
      ]
     },
     "metadata": {},
     "output_type": "display_data"
    }
   ],
   "source": [
    "from pandas_profiling import ProfileReport\n",
    "profile = ProfileReport(df, html={'style':{'full_width':True}})\n",
    "profile.to_widgets()"
   ]
  },
  {
   "cell_type": "markdown",
   "metadata": {},
   "source": [
    "### Кодирую признаки"
   ]
  },
  {
   "cell_type": "code",
   "execution_count": 47,
   "metadata": {},
   "outputs": [
    {
     "name": "stdout",
     "output_type": "stream",
     "text": [
      "['FDA15' 'DRC01' 'FDN15' ... 'NCW05' 'NCT53' 'FDP15'] \n",
      "\n",
      "['low fat' 'regular'] \n",
      "\n",
      "['Dairy' 'Soft Drinks' 'Meat' 'Household' 'Snack Foods' 'Frozen Foods'\n",
      " 'Fruits and Vegetables' 'Breakfast' 'Health and Hygiene' 'Hard Drinks'\n",
      " 'Baking Goods' 'Canned' 'Breads' 'Starchy Foods' 'Others' 'Seafood'] \n",
      "\n",
      "['OUT049' 'OUT018' 'OUT013' 'OUT027' 'OUT045' 'OUT017' 'OUT046' 'OUT035'\n",
      " 'OUT019' 'OUT010'] \n",
      "\n",
      "['Medium' 'High' 'Small'] \n",
      "\n",
      "['Tier 1' 'Tier 3' 'Tier 2'] \n",
      "\n",
      "['Supermarket Type1' 'Supermarket Type2' 'Supermarket Type3'\n",
      " 'Grocery Store'] \n",
      "\n"
     ]
    }
   ],
   "source": [
    "print(df.Item_Identifier.unique(), '\\n')\n",
    "print(df.Item_Fat_Content.unique(), '\\n')\n",
    "print(df.Item_Type.unique(), '\\n')\n",
    "print(df.Outlet_Identifier.unique(), '\\n')\n",
    "print(df.Outlet_Size.unique(), '\\n')\n",
    "print(df.Outlet_Location_Type.unique(), '\\n')\n",
    "print(df.Outlet_Type.unique(), '\\n')"
   ]
  },
  {
   "cell_type": "code",
   "execution_count": 48,
   "metadata": {},
   "outputs": [],
   "source": [
    "from sklearn.preprocessing import LabelEncoder"
   ]
  },
  {
   "cell_type": "code",
   "execution_count": 49,
   "metadata": {},
   "outputs": [],
   "source": [
    "le_II = LabelEncoder()\n",
    "le_IFC = LabelEncoder()\n",
    "le_IT = LabelEncoder()\n",
    "le_OI = LabelEncoder()\n",
    "le_OZ = LabelEncoder()\n",
    "le_OL = LabelEncoder()\n",
    "le_OT = LabelEncoder()"
   ]
  },
  {
   "cell_type": "code",
   "execution_count": 50,
   "metadata": {},
   "outputs": [],
   "source": [
    "df.Item_Identifier = le_II.fit_transform(df.Item_Identifier)\n",
    "df.Item_Fat_Content = le_IFC.fit_transform(df.Item_Fat_Content)\n",
    "df.Item_Type = le_IT.fit_transform(df.Item_Type)\n",
    "df.Outlet_Identifier = le_OI.fit_transform(df.Outlet_Identifier)\n",
    "df.Outlet_Size = le_OZ.fit_transform(df.Outlet_Size)\n",
    "df.Outlet_Location_Type = le_OL.fit_transform(df.Outlet_Location_Type)\n",
    "df.Outlet_Type = le_OT.fit_transform(df.Outlet_Type)"
   ]
  },
  {
   "cell_type": "markdown",
   "metadata": {},
   "source": [
    "### Строю матрицу корреляции с закодированными признаками"
   ]
  },
  {
   "cell_type": "code",
   "execution_count": 51,
   "metadata": {},
   "outputs": [
    {
     "data": {
      "image/png": "[encoded data removed]",
      "text/plain": [
       "<Figure size 1224x936 with 2 Axes>"
      ]
     },
     "metadata": {},
     "output_type": "display_data"
    }
   ],
   "source": [
    "f = plt.figure(figsize =(17, 13))\n",
    "plt.matshow(df.corr(), fignum = f.number)\n",
    "plt.xticks(range(df.shape[1]), df.columns, fontsize = 14, rotation = 45)\n",
    "plt.yticks(range(df.shape[1]), df.columns, fontsize = 14)\n",
    "cb = plt.colorbar()\n",
    "cb.ax.tick_params(labelsize = 14)"
   ]
  },
  {
   "cell_type": "markdown",
   "metadata": {},
   "source": [
    "### Строю модели\n",
    "\n",
    "Поскольку сейчас не извесно, какая из моделей лучше подходит для задачи прогноза, необходимо попробовать несколько моделей.\n",
    "Модели:\n",
    "* LinearRegression\n",
    "* Lasso\n",
    "* Ridge\n",
    "* ElasticNet\n",
    "\n",
    "Кроме того, я вижу, что размерности дататета может не хватить для качественного обучения модели - вероятно, данных мало. Для компенсации этого я на каждой меделе буду использовать кросс-валидацию (кроме Ridge) и определять максивальное r^2 и по ней выберу модель."
   ]
  },
  {
   "cell_type": "markdown",
   "metadata": {},
   "source": [
    "#### Загружаю метрики"
   ]
  },
  {
   "cell_type": "code",
   "execution_count": 52,
   "metadata": {},
   "outputs": [],
   "source": [
    "from sklearn.metrics import mean_absolute_error, mean_squared_error, median_absolute_error, r2_score"
   ]
  },
  {
   "cell_type": "markdown",
   "metadata": {},
   "source": [
    "#### Разделяю датасет"
   ]
  },
  {
   "cell_type": "code",
   "execution_count": 53,
   "metadata": {},
   "outputs": [],
   "source": [
    "from sklearn.model_selection import train_test_split\n",
    "\n",
    "x = df.drop(['Item_Outlet_Sales'], axis = 1)\n",
    "y = df.Item_Outlet_Sales\n",
    "\n",
    "x_train, x_test, y_train, y_test = train_test_split(x, y, test_size=0.2, random_state=42)"
   ]
  },
  {
   "cell_type": "markdown",
   "metadata": {},
   "source": [
    "### LinearRegression"
   ]
  },
  {
   "cell_type": "code",
   "execution_count": 54,
   "metadata": {},
   "outputs": [
    {
     "data": {
      "text/plain": [
       "0.9176866544655977"
      ]
     },
     "execution_count": 54,
     "metadata": {},
     "output_type": "execute_result"
    }
   ],
   "source": [
    "from sklearn.linear_model import LinearRegression\n",
    "LR = LinearRegression(n_jobs = -1)\n",
    "LR.fit(x_train, y_train)\n",
    "LR.score(x_test, y_test)"
   ]
  },
  {
   "cell_type": "code",
   "execution_count": 55,
   "metadata": {},
   "outputs": [],
   "source": [
    "from sklearn.model_selection import cross_val_score"
   ]
  },
  {
   "cell_type": "code",
   "execution_count": 56,
   "metadata": {},
   "outputs": [
    {
     "data": {
      "text/plain": [
       "0.9171051358869173"
      ]
     },
     "execution_count": 56,
     "metadata": {},
     "output_type": "execute_result"
    }
   ],
   "source": [
    "scores = cross_val_score(LR, x, y, cv = 6 , n_jobs= -1)\n",
    "scores.max()"
   ]
  },
  {
   "cell_type": "code",
   "execution_count": 57,
   "metadata": {},
   "outputs": [],
   "source": [
    "y_train_pred = LR.predict(x_train)\n",
    "y_test_pred = LR.predict(x_test)"
   ]
  },
  {
   "cell_type": "code",
   "execution_count": 58,
   "metadata": {},
   "outputs": [
    {
     "name": "stdout",
     "output_type": "stream",
     "text": [
      "MSE train: 262747.002, test: 229047.286\n",
      "R^2 train: 0.908, test: 0.918\n"
     ]
    }
   ],
   "source": [
    "print('MSE train: {:.3f}, test: {:.3f}'.format(mean_squared_error(y_train, y_train_pred),\n",
    "                                               mean_squared_error(y_test, y_test_pred)))\n",
    "print('R^2 train: {:.3f}, test: {:.3f}'.format(r2_score(y_train, y_train_pred),\n",
    "                                               r2_score(y_test, y_test_pred)))"
   ]
  },
  {
   "cell_type": "markdown",
   "metadata": {},
   "source": [
    "#### Подготавливаю данные для Lasso, Ridge и ElasticNet"
   ]
  },
  {
   "cell_type": "code",
   "execution_count": 59,
   "metadata": {},
   "outputs": [],
   "source": [
    "from sklearn.preprocessing import StandardScaler\n",
    "\n",
    "sc_x = StandardScaler()\n",
    "sc_y = StandardScaler()\n",
    "X_std = sc_x.fit_transform(x)\n",
    "y_std = sc_y.fit_transform(y.values.reshape(-1, 1)).flatten()\n",
    "X_train_scaled, X_test_scaled, y_train_scaled, y_test_scaled = train_test_split(X_std, y_std, test_size=0.2, random_state = 42)"
   ]
  },
  {
   "cell_type": "markdown",
   "metadata": {},
   "source": [
    "### Lasso"
   ]
  },
  {
   "cell_type": "code",
   "execution_count": 60,
   "metadata": {},
   "outputs": [],
   "source": [
    "from sklearn.linear_model import Lasso\n",
    "\n",
    "lasso = Lasso(alpha=0.1, random_state = 42)\n",
    "lasso.fit(X_train_scaled, y_train_scaled)\n",
    "y_train_pred = lasso.predict(X_train_scaled)\n",
    "y_test_pred = lasso.predict(X_test_scaled)"
   ]
  },
  {
   "cell_type": "code",
   "execution_count": 61,
   "metadata": {},
   "outputs": [
    {
     "data": {
      "text/plain": [
       "0.8831182506191517"
      ]
     },
     "execution_count": 61,
     "metadata": {},
     "output_type": "execute_result"
    }
   ],
   "source": [
    "scores = cross_val_score(lasso, X_std, y_std, cv = 6 , n_jobs= -1)\n",
    "scores.max()"
   ]
  },
  {
   "cell_type": "code",
   "execution_count": 62,
   "metadata": {},
   "outputs": [
    {
     "name": "stdout",
     "output_type": "stream",
     "text": [
      "MSE train: 0.124, test: 0.108\n",
      "R^2 train: 0.877, test: 0.889\n"
     ]
    }
   ],
   "source": [
    "print('MSE train: {:.3f}, test: {:.3f}'.format(\n",
    "        mean_squared_error(y_train_scaled, y_train_pred),\n",
    "        mean_squared_error(y_test_scaled, y_test_pred)))\n",
    "print('R^2 train: {:.3f}, test: {:.3f}'.format(\n",
    "        r2_score(y_train_scaled, y_train_pred),\n",
    "        r2_score(y_test_scaled, y_test_pred)))"
   ]
  },
  {
   "cell_type": "markdown",
   "metadata": {},
   "source": [
    "### Ridge"
   ]
  },
  {
   "cell_type": "code",
   "execution_count": 63,
   "metadata": {},
   "outputs": [],
   "source": [
    "from sklearn.linear_model import Ridge\n",
    "ridge = Ridge(alpha=0.1, random_state = 42)\n",
    "ridge.fit(X_train_scaled, y_train_scaled)\n",
    "y_train_pred = ridge.predict(X_train_scaled)\n",
    "y_test_pred = ridge.predict(X_test_scaled)"
   ]
  },
  {
   "cell_type": "code",
   "execution_count": 64,
   "metadata": {},
   "outputs": [
    {
     "name": "stdout",
     "output_type": "stream",
     "text": [
      "MSE train: 0.092, test: 0.081\n",
      "R^2 train: 0.908, test: 0.918\n"
     ]
    }
   ],
   "source": [
    "print('MSE train: {:.3f}, test: {:.3f}'.format(\n",
    "        mean_squared_error(y_train_scaled, y_train_pred),\n",
    "        mean_squared_error(y_test_scaled, y_test_pred)))\n",
    "print('R^2 train: {:.3f}, test: {:.3f}'.format(\n",
    "        r2_score(y_train_scaled, y_train_pred),\n",
    "        r2_score(y_test_scaled, y_test_pred)))"
   ]
  },
  {
   "cell_type": "markdown",
   "metadata": {},
   "source": [
    "### ElasticNet"
   ]
  },
  {
   "cell_type": "code",
   "execution_count": 65,
   "metadata": {},
   "outputs": [],
   "source": [
    "from sklearn.linear_model import ElasticNet\n",
    "\n",
    "EN = ElasticNet(alpha=0.1, l1_ratio=0.5, random_state = 42)\n",
    "EN.fit(X_train_scaled, y_train_scaled)\n",
    "y_train_pred = EN.predict(X_train_scaled)\n",
    "y_test_pred = EN.predict(X_test_scaled)"
   ]
  },
  {
   "cell_type": "code",
   "execution_count": 66,
   "metadata": {},
   "outputs": [
    {
     "data": {
      "text/plain": [
       "0.9009393579857082"
      ]
     },
     "execution_count": 66,
     "metadata": {},
     "output_type": "execute_result"
    }
   ],
   "source": [
    "scores = cross_val_score(EN, X_std, y_std, cv = 6 , n_jobs= -1)\n",
    "scores.max()"
   ]
  },
  {
   "cell_type": "code",
   "execution_count": 67,
   "metadata": {},
   "outputs": [
    {
     "name": "stdout",
     "output_type": "stream",
     "text": [
      "MSE train: 0.106, test: 0.091\n",
      "R^2 train: 0.895, test: 0.907\n"
     ]
    }
   ],
   "source": [
    "print('MSE train: {:.3f}, test: {:.3f}'.format(\n",
    "        mean_squared_error(y_train_scaled, y_train_pred),\n",
    "        mean_squared_error(y_test_scaled, y_test_pred)))\n",
    "print('R^2 train: {:.3f}, test: {:.3f}'.format(\n",
    "        r2_score(y_train_scaled, y_train_pred),\n",
    "        r2_score(y_test_scaled, y_test_pred)))"
   ]
  },
  {
   "cell_type": "markdown",
   "metadata": {},
   "source": [
    "## Заключение\n",
    "\n",
    "Модель линейной регрессии показала наилучшую точность, её можно использовать для предсказаний."
   ]
  }
 ],
 "metadata": {
  "kernelspec": {
   "display_name": "Python 3",
   "language": "python",
   "name": "python3"
  },
  "language_info": {
   "codemirror_mode": {
    "name": "ipython",
    "version": 3
   },
   "file_extension": ".py",
   "mimetype": "text/x-python",
   "name": "python",
   "nbconvert_exporter": "python",
   "pygments_lexer": "ipython3",
   "version": "3.7.4"
  },
  "widgets": {
   "application/vnd.jupyter.widget-state+json": {
    "state": {},
    "version_major": 2,
    "version_minor": 0
   }
  }
 },
 "nbformat": 4,
 "nbformat_minor": 2
}
