{
 "cells": [
  {
   "cell_type": "markdown",
   "metadata": {},
   "source": [
    "# Задание 1\n",
    "\n",
    "Напишите функцию date_range, которая возвращает список дней между датами start_date и end_date. Даты должны вводиться в формате YYYY-MM-DD."
   ]
  },
  {
   "cell_type": "code",
   "execution_count": 76,
   "metadata": {},
   "outputs": [
    {
     "data": {
      "text/plain": [
       "['2018-01-25',\n",
       " '2018-01-26',\n",
       " '2018-01-27',\n",
       " '2018-01-28',\n",
       " '2018-01-29',\n",
       " '2018-01-30',\n",
       " '2018-01-31',\n",
       " '2018-02-01']"
      ]
     },
     "execution_count": 76,
     "metadata": {},
     "output_type": "execute_result"
    }
   ],
   "source": [
    "from datetime import datetime\n",
    "from datetime import timedelta\n",
    "\n",
    "def date_delta(st_d, end_d):\n",
    "\n",
    "    date_range_list = []\n",
    "\n",
    "    start_date_dt = datetime.strptime(st_d, '%Y-%m-%d')\n",
    "    end_date_dt = datetime.strptime(end_d, '%Y-%m-%d')\n",
    "\n",
    "    date_range = start_date_dt\n",
    "\n",
    "    while date_range <= end_date_dt :\n",
    "        date_range_list.append(date_range.strftime('%Y-%m-%d'))\n",
    "        date_range += timedelta(days=1)\n",
    "        \n",
    "    return date_range_list\n",
    "\n",
    "start_date = '2018-01-25'\n",
    "end_date = '2018-02-01'\n",
    "\n",
    "date_delta (start_date, end_date)\n"
   ]
  },
  {
   "cell_type": "markdown",
   "metadata": {},
   "source": [
    "# Задание 2\n",
    "Дополните функцию из первого задания проверкой на корректность дат. В случае неверного формата или если start_date > end_date должен возвращаться пустой список.\n"
   ]
  },
  {
   "cell_type": "code",
   "execution_count": 1,
   "metadata": {},
   "outputs": [
    {
     "data": {
      "text/plain": [
       "['2018-01-25',\n",
       " '2018-01-26',\n",
       " '2018-01-27',\n",
       " '2018-01-28',\n",
       " '2018-01-29',\n",
       " '2018-01-30',\n",
       " '2018-01-31',\n",
       " '2018-02-01']"
      ]
     },
     "execution_count": 1,
     "metadata": {},
     "output_type": "execute_result"
    }
   ],
   "source": [
    "from datetime import datetime\n",
    "from datetime import timedelta\n",
    "\n",
    "def date_delta_checked(st_d, end_d):\n",
    "    date_range_list = []\n",
    "    \n",
    "    #проверка корректости start date (можно засунуть в отдельную функцию, но я поленился)\n",
    "    try:\n",
    "        start_date_dt = datetime.strptime(st_d, '%Y-%m-%d')\n",
    "       \n",
    "    except:\n",
    "        date_range_list = []\n",
    "        print('Incorrect start date')\n",
    "        return date_range_list\n",
    "    \n",
    "    #проверка корректости end date (можно засунуть в отдельную функцию, но я опять же поленился)\n",
    "    try:\n",
    "        end_date_dt = datetime.strptime(end_d, '%Y-%m-%d')\n",
    "      \n",
    "    except:\n",
    "        date_range_list = []\n",
    "        print('Incorrect start date')\n",
    "        return date_range_list\n",
    "    \n",
    "    #проверка следования дат\n",
    "    if start_date_dt > end_date_dt :\n",
    "        print ('ERROR: start data > end date')\n",
    "        date_range_list = []\n",
    "        return date_range_list\n",
    "    \n",
    "    else:\n",
    "        date_range = start_date_dt\n",
    "    \n",
    "    #составление списка\n",
    "        while date_range <= end_date_dt :\n",
    "            date_range_list.append(date_range.strftime('%Y-%m-%d'))\n",
    "            date_range += timedelta(days=1)\n",
    "        \n",
    "    return date_range_list\n",
    "    \n",
    "start_date = '2018-01-25'\n",
    "end_date = '2018-02-01'\n",
    "\n",
    "date_delta_checked(start_date, end_date)"
   ]
  },
  {
   "cell_type": "markdown",
   "metadata": {},
   "source": [
    "# Задание 3\n",
    "Дан поток дат в формате YYYY-MM-DD, в которых встречаются некорректные значения:\n",
    "stream = ['2018-04-02', '2018-02-29', '2018-19-02']\n",
    "Напишите функцию, которая проверяет эти даты на корректность. Т. е. для каждой даты возвращает True (дата корректна) или False (некорректная дата). \n"
   ]
  },
  {
   "cell_type": "code",
   "execution_count": 204,
   "metadata": {},
   "outputs": [
    {
     "data": {
      "text/plain": [
       "{'2018-04-02': 'True', '2018-02-29': 'False', '2018-19-02': 'False'}"
      ]
     },
     "execution_count": 204,
     "metadata": {},
     "output_type": "execute_result"
    }
   ],
   "source": [
    "from datetime import datetime\n",
    "\n",
    "stream = ['2018-04-02', '2018-02-29', '2018-19-02']\n",
    "\n",
    "\n",
    "def validate(date_list):\n",
    "    i=0 #счётчик\n",
    "\n",
    "    #проверяю каждый ключ через datetime, если Ок, то добавляю в занчние ключа \"True\", иначе \"False\"\n",
    "    for key in serv_dict :  \n",
    "        try:\n",
    "            datetime.strptime(list(serv_dict.keys())[i], '%Y-%m-%d')\n",
    "            serv_dict[key] = 'True'\n",
    "                        \n",
    "        except: \n",
    "            serv_dict[key] = 'False'\n",
    "        i+=1\n",
    "    \n",
    "    return serv_dict\n",
    "\n",
    "validate(stream)"
   ]
  },
  {
   "cell_type": "markdown",
   "metadata": {},
   "source": [
    "# Задание 5\n",
    "В последнем примере поиска по словарю мы использовали 3 столбца. Напишите функцию, которая формирует словарь для поиска по n столбцам."
   ]
  },
  {
   "cell_type": "code",
   "execution_count": 233,
   "metadata": {},
   "outputs": [
    {
     "name": "stdout",
     "output_type": "stream",
     "text": [
      "Число стобцов для поиска: 4\n",
      "4 is out of range\n"
     ]
    }
   ],
   "source": [
    "stats_dict = {}\n",
    "\n",
    "n = int(input('Число стобцов для поиска: '))\n",
    "\n",
    "def n_search (n):\n",
    "    if n in range(1, 4):\n",
    "    \n",
    "        with open('stats.csv') as f:\n",
    "            for line in f:\n",
    "                line = line.strip().split(',')\n",
    "                #print (line[n])\n",
    "                stats_dict[tuple(line[:n])] = line[n]\n",
    "         \n",
    "        line_to_find = ('20', '20552', '3')\n",
    "    \n",
    "        for I in line_to_find[:n]:\n",
    "            cost = stats_dict[line_to_find[:n]] \n",
    "    \n",
    "        return print(cost)\n",
    "    else:\n",
    "        print (n, 'is out of range')\n",
    "    \n",
    "n_search (n)"
   ]
  }
 ],
 "metadata": {
  "kernelspec": {
   "display_name": "Python 3",
   "language": "python",
   "name": "python3"
  },
  "language_info": {
   "codemirror_mode": {
    "name": "ipython",
    "version": 3
   },
   "file_extension": ".py",
   "mimetype": "text/x-python",
   "name": "python",
   "nbconvert_exporter": "python",
   "pygments_lexer": "ipython3",
   "version": "3.7.3"
  }
 },
 "nbformat": 4,
 "nbformat_minor": 2
}
