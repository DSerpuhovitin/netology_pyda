{
 "cells": [
  {
   "cell_type": "markdown",
   "metadata": {},
   "source": [
    "## Задание\n",
    "Что делать?\n",
    "\n",
    "1.Датасет ml-latest\n",
    "\n",
    "2.Вспомнить подходы, которые мы разбирали\n",
    "\n",
    "3.Выбрать понравившийся подход к гибридным системам\n",
    "\n",
    "4.Написать свою"
   ]
  },
  {
   "cell_type": "markdown",
   "metadata": {},
   "source": [
    "Я выбрал метод поиска похожих фильмов.\n",
    "Моя рекомендательная система работает по алгоритму:\n",
    "1) создаю список жанров наиболее популярных у пользователя;\n",
    "2) из дата фрейма выбираю фильмы которые пользователь не смотрел и оставляю в нём только фильмы с оценкой 5;\n",
    "3) из этого датафрейма выбираю фильмы которые имеют максимальное совпадение по жанрам пользователя;\n",
    "4) по оставшимся фильмам подбираю похожие из фильмов, которые он не смотрел.\n",
    "\n",
    "PS. За основу взял материал лекции."
   ]
  },
  {
   "cell_type": "code",
   "execution_count": 1,
   "metadata": {
    "ExecuteTime": {
     "end_time": "2020-02-07T16:39:29.489386Z",
     "start_time": "2020-02-07T16:39:29.459852Z"
    }
   },
   "outputs": [],
   "source": [
    "import numpy as np\n",
    "import pandas as pd\n",
    "from tqdm import tqdm_notebook\n",
    "from scipy.spatial.distance import cosine, euclidean, cityblock"
   ]
  },
  {
   "cell_type": "code",
   "execution_count": 2,
   "metadata": {
    "ExecuteTime": {
     "end_time": "2020-02-07T16:39:31.100885Z",
     "start_time": "2020-02-07T16:39:30.976303Z"
    }
   },
   "outputs": [],
   "source": [
    "df_ratings = pd.read_csv('ratings.csv')\n",
    "df_movies = pd.read_csv('movies.csv')"
   ]
  },
  {
   "cell_type": "code",
   "execution_count": 3,
   "metadata": {
    "ExecuteTime": {
     "end_time": "2020-02-07T16:41:45.325899Z",
     "start_time": "2020-02-07T16:41:45.317480Z"
    },
    "scrolled": true
   },
   "outputs": [
    {
     "data": {
      "text/html": [
       "<div>\n",
       "<style scoped>\n",
       "    .dataframe tbody tr th:only-of-type {\n",
       "        vertical-align: middle;\n",
       "    }\n",
       "\n",
       "    .dataframe tbody tr th {\n",
       "        vertical-align: top;\n",
       "    }\n",
       "\n",
       "    .dataframe thead th {\n",
       "        text-align: right;\n",
       "    }\n",
       "</style>\n",
       "<table border=\"1\" class=\"dataframe\">\n",
       "  <thead>\n",
       "    <tr style=\"text-align: right;\">\n",
       "      <th></th>\n",
       "      <th>userId</th>\n",
       "      <th>movieId</th>\n",
       "      <th>rating</th>\n",
       "      <th>timestamp</th>\n",
       "    </tr>\n",
       "  </thead>\n",
       "  <tbody>\n",
       "    <tr>\n",
       "      <td>0</td>\n",
       "      <td>1</td>\n",
       "      <td>1</td>\n",
       "      <td>4.0</td>\n",
       "      <td>964982703</td>\n",
       "    </tr>\n",
       "    <tr>\n",
       "      <td>1</td>\n",
       "      <td>1</td>\n",
       "      <td>3</td>\n",
       "      <td>4.0</td>\n",
       "      <td>964981247</td>\n",
       "    </tr>\n",
       "    <tr>\n",
       "      <td>2</td>\n",
       "      <td>1</td>\n",
       "      <td>6</td>\n",
       "      <td>4.0</td>\n",
       "      <td>964982224</td>\n",
       "    </tr>\n",
       "    <tr>\n",
       "      <td>3</td>\n",
       "      <td>1</td>\n",
       "      <td>47</td>\n",
       "      <td>5.0</td>\n",
       "      <td>964983815</td>\n",
       "    </tr>\n",
       "    <tr>\n",
       "      <td>4</td>\n",
       "      <td>1</td>\n",
       "      <td>50</td>\n",
       "      <td>5.0</td>\n",
       "      <td>964982931</td>\n",
       "    </tr>\n",
       "  </tbody>\n",
       "</table>\n",
       "</div>"
      ],
      "text/plain": [
       "   userId  movieId  rating  timestamp\n",
       "0       1        1     4.0  964982703\n",
       "1       1        3     4.0  964981247\n",
       "2       1        6     4.0  964982224\n",
       "3       1       47     5.0  964983815\n",
       "4       1       50     5.0  964982931"
      ]
     },
     "execution_count": 3,
     "metadata": {},
     "output_type": "execute_result"
    }
   ],
   "source": [
    "df_ratings.head()"
   ]
  },
  {
   "cell_type": "code",
   "execution_count": 4,
   "metadata": {
    "ExecuteTime": {
     "end_time": "2020-02-07T16:41:49.488725Z",
     "start_time": "2020-02-07T16:41:49.480333Z"
    }
   },
   "outputs": [
    {
     "data": {
      "text/html": [
       "<div>\n",
       "<style scoped>\n",
       "    .dataframe tbody tr th:only-of-type {\n",
       "        vertical-align: middle;\n",
       "    }\n",
       "\n",
       "    .dataframe tbody tr th {\n",
       "        vertical-align: top;\n",
       "    }\n",
       "\n",
       "    .dataframe thead th {\n",
       "        text-align: right;\n",
       "    }\n",
       "</style>\n",
       "<table border=\"1\" class=\"dataframe\">\n",
       "  <thead>\n",
       "    <tr style=\"text-align: right;\">\n",
       "      <th></th>\n",
       "      <th>movieId</th>\n",
       "      <th>title</th>\n",
       "      <th>genres</th>\n",
       "    </tr>\n",
       "  </thead>\n",
       "  <tbody>\n",
       "    <tr>\n",
       "      <td>0</td>\n",
       "      <td>1</td>\n",
       "      <td>Toy Story (1995)</td>\n",
       "      <td>Adventure|Animation|Children|Comedy|Fantasy</td>\n",
       "    </tr>\n",
       "    <tr>\n",
       "      <td>1</td>\n",
       "      <td>2</td>\n",
       "      <td>Jumanji (1995)</td>\n",
       "      <td>Adventure|Children|Fantasy</td>\n",
       "    </tr>\n",
       "    <tr>\n",
       "      <td>2</td>\n",
       "      <td>3</td>\n",
       "      <td>Grumpier Old Men (1995)</td>\n",
       "      <td>Comedy|Romance</td>\n",
       "    </tr>\n",
       "    <tr>\n",
       "      <td>3</td>\n",
       "      <td>4</td>\n",
       "      <td>Waiting to Exhale (1995)</td>\n",
       "      <td>Comedy|Drama|Romance</td>\n",
       "    </tr>\n",
       "    <tr>\n",
       "      <td>4</td>\n",
       "      <td>5</td>\n",
       "      <td>Father of the Bride Part II (1995)</td>\n",
       "      <td>Comedy</td>\n",
       "    </tr>\n",
       "  </tbody>\n",
       "</table>\n",
       "</div>"
      ],
      "text/plain": [
       "   movieId                               title  \\\n",
       "0        1                    Toy Story (1995)   \n",
       "1        2                      Jumanji (1995)   \n",
       "2        3             Grumpier Old Men (1995)   \n",
       "3        4            Waiting to Exhale (1995)   \n",
       "4        5  Father of the Bride Part II (1995)   \n",
       "\n",
       "                                        genres  \n",
       "0  Adventure|Animation|Children|Comedy|Fantasy  \n",
       "1                   Adventure|Children|Fantasy  \n",
       "2                               Comedy|Romance  \n",
       "3                         Comedy|Drama|Romance  \n",
       "4                                       Comedy  "
      ]
     },
     "execution_count": 4,
     "metadata": {},
     "output_type": "execute_result"
    }
   ],
   "source": [
    "df_movies.dropna(inplace = True)\n",
    "df_movies.head()"
   ]
  },
  {
   "cell_type": "code",
   "execution_count": 5,
   "metadata": {
    "ExecuteTime": {
     "end_time": "2020-02-07T16:41:55.540888Z",
     "start_time": "2020-02-07T16:41:55.521075Z"
    }
   },
   "outputs": [
    {
     "data": {
      "text/html": [
       "<div>\n",
       "<style scoped>\n",
       "    .dataframe tbody tr th:only-of-type {\n",
       "        vertical-align: middle;\n",
       "    }\n",
       "\n",
       "    .dataframe tbody tr th {\n",
       "        vertical-align: top;\n",
       "    }\n",
       "\n",
       "    .dataframe thead th {\n",
       "        text-align: right;\n",
       "    }\n",
       "</style>\n",
       "<table border=\"1\" class=\"dataframe\">\n",
       "  <thead>\n",
       "    <tr style=\"text-align: right;\">\n",
       "      <th></th>\n",
       "      <th>userId</th>\n",
       "      <th>movieId</th>\n",
       "      <th>rating</th>\n",
       "      <th>title</th>\n",
       "      <th>genres</th>\n",
       "    </tr>\n",
       "  </thead>\n",
       "  <tbody>\n",
       "    <tr>\n",
       "      <td>0</td>\n",
       "      <td>1</td>\n",
       "      <td>1</td>\n",
       "      <td>4.0</td>\n",
       "      <td>Toy Story (1995)</td>\n",
       "      <td>Adventure|Animation|Children|Comedy|Fantasy</td>\n",
       "    </tr>\n",
       "    <tr>\n",
       "      <td>1</td>\n",
       "      <td>5</td>\n",
       "      <td>1</td>\n",
       "      <td>4.0</td>\n",
       "      <td>Toy Story (1995)</td>\n",
       "      <td>Adventure|Animation|Children|Comedy|Fantasy</td>\n",
       "    </tr>\n",
       "    <tr>\n",
       "      <td>2</td>\n",
       "      <td>7</td>\n",
       "      <td>1</td>\n",
       "      <td>4.5</td>\n",
       "      <td>Toy Story (1995)</td>\n",
       "      <td>Adventure|Animation|Children|Comedy|Fantasy</td>\n",
       "    </tr>\n",
       "    <tr>\n",
       "      <td>3</td>\n",
       "      <td>15</td>\n",
       "      <td>1</td>\n",
       "      <td>2.5</td>\n",
       "      <td>Toy Story (1995)</td>\n",
       "      <td>Adventure|Animation|Children|Comedy|Fantasy</td>\n",
       "    </tr>\n",
       "    <tr>\n",
       "      <td>4</td>\n",
       "      <td>17</td>\n",
       "      <td>1</td>\n",
       "      <td>4.5</td>\n",
       "      <td>Toy Story (1995)</td>\n",
       "      <td>Adventure|Animation|Children|Comedy|Fantasy</td>\n",
       "    </tr>\n",
       "  </tbody>\n",
       "</table>\n",
       "</div>"
      ],
      "text/plain": [
       "   userId  movieId  rating             title  \\\n",
       "0       1        1     4.0  Toy Story (1995)   \n",
       "1       5        1     4.0  Toy Story (1995)   \n",
       "2       7        1     4.5  Toy Story (1995)   \n",
       "3      15        1     2.5  Toy Story (1995)   \n",
       "4      17        1     4.5  Toy Story (1995)   \n",
       "\n",
       "                                        genres  \n",
       "0  Adventure|Animation|Children|Comedy|Fantasy  \n",
       "1  Adventure|Animation|Children|Comedy|Fantasy  \n",
       "2  Adventure|Animation|Children|Comedy|Fantasy  \n",
       "3  Adventure|Animation|Children|Comedy|Fantasy  \n",
       "4  Adventure|Animation|Children|Comedy|Fantasy  "
      ]
     },
     "execution_count": 5,
     "metadata": {},
     "output_type": "execute_result"
    }
   ],
   "source": [
    "df = pd.merge(df_ratings, df_movies, on='movieId')\n",
    "del df['timestamp']\n",
    "df.head()"
   ]
  },
  {
   "cell_type": "markdown",
   "metadata": {},
   "source": [
    "### Формируем векторное описание для фильма"
   ]
  },
  {
   "cell_type": "code",
   "execution_count": 6,
   "metadata": {
    "ExecuteTime": {
     "end_time": "2020-02-07T16:42:12.139861Z",
     "start_time": "2020-02-07T16:42:12.122779Z"
    }
   },
   "outputs": [
    {
     "data": {
      "text/plain": [
       "count    100836.000000\n",
       "mean        326.127564\n",
       "std         182.618491\n",
       "min           1.000000\n",
       "25%         177.000000\n",
       "50%         325.000000\n",
       "75%         477.000000\n",
       "max         610.000000\n",
       "Name: userId, dtype: float64"
      ]
     },
     "execution_count": 6,
     "metadata": {},
     "output_type": "execute_result"
    }
   ],
   "source": [
    "df['userId'].describe()"
   ]
  },
  {
   "cell_type": "code",
   "execution_count": 7,
   "metadata": {
    "ExecuteTime": {
     "end_time": "2020-02-07T16:42:27.923645Z",
     "start_time": "2020-02-07T16:42:27.920678Z"
    }
   },
   "outputs": [],
   "source": [
    "MIN_USER_ID = df['userId'].min()\n",
    "MAX_USER_ID = df['userId'].max()"
   ]
  },
  {
   "cell_type": "code",
   "execution_count": 8,
   "metadata": {
    "ExecuteTime": {
     "end_time": "2020-02-07T16:42:33.766120Z",
     "start_time": "2020-02-07T16:42:33.754626Z"
    }
   },
   "outputs": [],
   "source": [
    "movie_names = df['title'].unique()\n",
    "movie_names = movie_names.tolist()\n",
    "#movie_names"
   ]
  },
  {
   "cell_type": "code",
   "execution_count": 9,
   "metadata": {
    "ExecuteTime": {
     "end_time": "2020-02-07T16:46:12.385761Z",
     "start_time": "2020-02-07T16:45:00.127032Z"
    }
   },
   "outputs": [
    {
     "data": {
      "application/vnd.jupyter.widget-view+json": {
       "model_id": "286660030acb4a68886b438dbae54da4",
       "version_major": 2,
       "version_minor": 0
      },
      "text/plain": [
       "HBox(children=(IntProgress(value=0, max=9719), HTML(value='')))"
      ]
     },
     "metadata": {},
     "output_type": "display_data"
    },
    {
     "name": "stdout",
     "output_type": "stream",
     "text": [
      "\n"
     ]
    }
   ],
   "source": [
    "movie_to_vector = {}\n",
    "for movie in tqdm_notebook(movie_names):\n",
    "    movie_to_vector[movie] = np.zeros((MAX_USER_ID,))\n",
    "    for r in df[df['title'] == movie].iterrows():\n",
    "        movie_to_vector[movie][r[1]['userId'] - MIN_USER_ID] = r[1]['rating']"
   ]
  },
  {
   "cell_type": "code",
   "execution_count": 10,
   "metadata": {
    "ExecuteTime": {
     "end_time": "2020-02-07T17:01:06.934515Z",
     "start_time": "2020-02-07T17:01:06.929026Z"
    }
   },
   "outputs": [],
   "source": [
    "# функция ищет похожие фильмы.\n",
    "def find_similar(movie, dist_func, top=10):\n",
    "    distances = {}\n",
    "    target_movie = movie_to_vector[movie]\n",
    "    for m in movie_names:\n",
    "        distances[m] = dist_func(target_movie, movie_to_vector[m])\n",
    "        \n",
    "    distances_with_idx = [(i, distances[m]) for i, m in enumerate(movie_names)]\n",
    "    distances_with_idx = sorted(distances_with_idx, key=lambda t: t[1], reverse=False)\n",
    "    distances_with_idx = distances_with_idx[:top]\n",
    "    \n",
    "    return [(movie_names[i], d) for i, d in distances_with_idx]"
   ]
  },
  {
   "cell_type": "code",
   "execution_count": 11,
   "metadata": {},
   "outputs": [],
   "source": [
    "#Функция принимает на вход индекс юзера.\n",
    "#возвращает датафрейм предпочтений пользователя отсортировынный по убыванию\n",
    "#и индексы просмотренных им фильмов\n",
    "\n",
    "def user_genre (user):\n",
    "\n",
    "    user_movie = df.loc[df['userId'] == user]\n",
    "\n",
    "    # Нахожу жанры всех фильмов пользователя\n",
    "    user_genre_set = set()\n",
    "\n",
    "    for s in user_movie['genres'].str.split('|').values:\n",
    "        user_genre_set = user_genre_set.union(set(s))\n",
    "    user_genre = list(user_genre_set)\n",
    "\n",
    "\n",
    "    # Cчитаю количество вхождений жанров в фильмы пользователя\n",
    "    user_genre_dict = {}\n",
    "\n",
    "    for g in user_genre:\n",
    "        t = 0\n",
    "        for i in user_movie.index:\n",
    "            if g in user_movie.genres[i].split('|'):\n",
    "                t+=1\n",
    "        user_genre_dict.update({g : t})\n",
    "    user_df = pd.DataFrame(data = user_genre_dict.values(), index = user_genre_dict.keys())\n",
    "\n",
    "    #сортирую по возврастанию\n",
    "    user_df.sort_values(by = 0, ascending = False, inplace = True) \n",
    "    return user_df"
   ]
  },
  {
   "cell_type": "markdown",
   "metadata": {},
   "source": [
    "#### В блоке ниже вводим userId для рекомендаций"
   ]
  },
  {
   "cell_type": "code",
   "execution_count": 12,
   "metadata": {},
   "outputs": [
    {
     "name": "stdout",
     "output_type": "stream",
     "text": [
      "            0\n",
      "Action     90\n",
      "Adventure  85\n",
      "Comedy     83 \n",
      " Длина списка жанров: 17\n"
     ]
    }
   ],
   "source": [
    "user = 1\n",
    "user_genre_list = user_genre(user)\n",
    "print(user_genre_list[:3], '\\n', 'Длина списка жанров:', len(user_genre_list))"
   ]
  },
  {
   "cell_type": "code",
   "execution_count": 13,
   "metadata": {},
   "outputs": [
    {
     "name": "stderr",
     "output_type": "stream",
     "text": [
      "D:\\Program_Files\\Anaconda\\lib\\site-packages\\ipykernel_launcher.py:4: SettingWithCopyWarning: \n",
      "A value is trying to be set on a copy of a slice from a DataFrame\n",
      "\n",
      "See the caveats in the documentation: http://pandas.pydata.org/pandas-docs/stable/user_guide/indexing.html#returning-a-view-versus-a-copy\n",
      "  after removing the cwd from sys.path.\n"
     ]
    },
    {
     "data": {
      "text/html": [
       "<div>\n",
       "<style scoped>\n",
       "    .dataframe tbody tr th:only-of-type {\n",
       "        vertical-align: middle;\n",
       "    }\n",
       "\n",
       "    .dataframe tbody tr th {\n",
       "        vertical-align: top;\n",
       "    }\n",
       "\n",
       "    .dataframe thead th {\n",
       "        text-align: right;\n",
       "    }\n",
       "</style>\n",
       "<table border=\"1\" class=\"dataframe\">\n",
       "  <thead>\n",
       "    <tr style=\"text-align: right;\">\n",
       "      <th></th>\n",
       "      <th>userId</th>\n",
       "      <th>movieId</th>\n",
       "      <th>rating</th>\n",
       "      <th>title</th>\n",
       "      <th>genres</th>\n",
       "    </tr>\n",
       "  </thead>\n",
       "  <tbody>\n",
       "    <tr>\n",
       "      <td>9</td>\n",
       "      <td>31</td>\n",
       "      <td>1</td>\n",
       "      <td>5.0</td>\n",
       "      <td>Toy Story (1995)</td>\n",
       "      <td>Adventure|Animation|Children|Comedy|Fantasy</td>\n",
       "    </tr>\n",
       "    <tr>\n",
       "      <td>216</td>\n",
       "      <td>6</td>\n",
       "      <td>3</td>\n",
       "      <td>5.0</td>\n",
       "      <td>Grumpier Old Men (1995)</td>\n",
       "      <td>Comedy|Romance</td>\n",
       "    </tr>\n",
       "    <tr>\n",
       "      <td>269</td>\n",
       "      <td>11</td>\n",
       "      <td>6</td>\n",
       "      <td>5.0</td>\n",
       "      <td>Heat (1995)</td>\n",
       "      <td>Action|Crime|Thriller</td>\n",
       "    </tr>\n",
       "    <tr>\n",
       "      <td>373</td>\n",
       "      <td>13</td>\n",
       "      <td>47</td>\n",
       "      <td>5.0</td>\n",
       "      <td>Seven (a.k.a. Se7en) (1995)</td>\n",
       "      <td>Mystery|Thriller</td>\n",
       "    </tr>\n",
       "    <tr>\n",
       "      <td>576</td>\n",
       "      <td>8</td>\n",
       "      <td>50</td>\n",
       "      <td>5.0</td>\n",
       "      <td>Usual Suspects, The (1995)</td>\n",
       "      <td>Crime|Mystery|Thriller</td>\n",
       "    </tr>\n",
       "  </tbody>\n",
       "</table>\n",
       "</div>"
      ],
      "text/plain": [
       "     userId  movieId  rating                        title  \\\n",
       "9        31        1     5.0             Toy Story (1995)   \n",
       "216       6        3     5.0      Grumpier Old Men (1995)   \n",
       "269      11        6     5.0                  Heat (1995)   \n",
       "373      13       47     5.0  Seven (a.k.a. Se7en) (1995)   \n",
       "576       8       50     5.0   Usual Suspects, The (1995)   \n",
       "\n",
       "                                          genres  \n",
       "9    Adventure|Animation|Children|Comedy|Fantasy  \n",
       "216                               Comedy|Romance  \n",
       "269                        Action|Crime|Thriller  \n",
       "373                             Mystery|Thriller  \n",
       "576                       Crime|Mystery|Thriller  "
      ]
     },
     "execution_count": 13,
     "metadata": {},
     "output_type": "execute_result"
    }
   ],
   "source": [
    "#создаю датафрейм исключая из основного датафрейма фильмы, которые смотрел юзер и оставляя фильмы ретингом < 4.5   \n",
    "\n",
    "df_out_user = df[(df.userId != user) & (df.rating > 4.5)]\n",
    "df_out_user.drop_duplicates(subset = 'title', keep = 'first', inplace = True) \n",
    "\n",
    "df_out_user.head()"
   ]
  },
  {
   "cell_type": "code",
   "execution_count": 14,
   "metadata": {},
   "outputs": [
    {
     "name": "stderr",
     "output_type": "stream",
     "text": [
      "D:\\Program_Files\\Anaconda\\lib\\site-packages\\ipykernel_launcher.py:9: SettingWithCopyWarning: \n",
      "A value is trying to be set on a copy of a slice from a DataFrame\n",
      "\n",
      "See the caveats in the documentation: http://pandas.pydata.org/pandas-docs/stable/user_guide/indexing.html#returning-a-view-versus-a-copy\n",
      "  if __name__ == '__main__':\n",
      "D:\\Program_Files\\Anaconda\\lib\\site-packages\\ipykernel_launcher.py:10: SettingWithCopyWarning: \n",
      "A value is trying to be set on a copy of a slice from a DataFrame\n",
      "\n",
      "See the caveats in the documentation: http://pandas.pydata.org/pandas-docs/stable/user_guide/indexing.html#returning-a-view-versus-a-copy\n",
      "  # Remove the CWD from sys.path while we load stuff.\n"
     ]
    },
    {
     "data": {
      "text/html": [
       "<div>\n",
       "<style scoped>\n",
       "    .dataframe tbody tr th:only-of-type {\n",
       "        vertical-align: middle;\n",
       "    }\n",
       "\n",
       "    .dataframe tbody tr th {\n",
       "        vertical-align: top;\n",
       "    }\n",
       "\n",
       "    .dataframe thead th {\n",
       "        text-align: right;\n",
       "    }\n",
       "</style>\n",
       "<table border=\"1\" class=\"dataframe\">\n",
       "  <thead>\n",
       "    <tr style=\"text-align: right;\">\n",
       "      <th></th>\n",
       "      <th>count_fech</th>\n",
       "      <th>title</th>\n",
       "    </tr>\n",
       "  </thead>\n",
       "  <tbody>\n",
       "    <tr>\n",
       "      <td>9</td>\n",
       "      <td>5</td>\n",
       "      <td>Toy Story (1995)</td>\n",
       "    </tr>\n",
       "    <tr>\n",
       "      <td>216</td>\n",
       "      <td>2</td>\n",
       "      <td>Grumpier Old Men (1995)</td>\n",
       "    </tr>\n",
       "    <tr>\n",
       "      <td>269</td>\n",
       "      <td>3</td>\n",
       "      <td>Heat (1995)</td>\n",
       "    </tr>\n",
       "    <tr>\n",
       "      <td>373</td>\n",
       "      <td>2</td>\n",
       "      <td>Seven (a.k.a. Se7en) (1995)</td>\n",
       "    </tr>\n",
       "    <tr>\n",
       "      <td>576</td>\n",
       "      <td>3</td>\n",
       "      <td>Usual Suspects, The (1995)</td>\n",
       "    </tr>\n",
       "  </tbody>\n",
       "</table>\n",
       "</div>"
      ],
      "text/plain": [
       "     count_fech                        title\n",
       "9             5             Toy Story (1995)\n",
       "216           2      Grumpier Old Men (1995)\n",
       "269           3                  Heat (1995)\n",
       "373           2  Seven (a.k.a. Se7en) (1995)\n",
       "576           3   Usual Suspects, The (1995)"
      ]
     },
     "execution_count": 14,
     "metadata": {},
     "output_type": "execute_result"
    }
   ],
   "source": [
    "# код считает количество совпадений жанров фильма ['count_fech'] с фильмами из user_genre_list.\n",
    "# индексы фильмов помещаю в counter2.index\n",
    "\n",
    "counter2 = pd.DataFrame(data = 0, index = df_out_user.index, columns = ['count_fech', 'title'])\n",
    "\n",
    "for ind in df_out_user.index:\n",
    "    for gen in user_genre_list.index:\n",
    "        if gen in df_out_user['genres'][ind].split('|'):\n",
    "            counter2['count_fech'][ind] +=1\n",
    "            counter2['title'][ind] = df_out_user['title'][ind]\n",
    "\n",
    "counter2.head()"
   ]
  },
  {
   "cell_type": "markdown",
   "metadata": {},
   "source": [
    "# Рекомендации для пользователя"
   ]
  },
  {
   "cell_type": "code",
   "execution_count": 15,
   "metadata": {},
   "outputs": [
    {
     "name": "stdout",
     "output_type": "stream",
     "text": [
      "\n",
      "[('Toy Story (1995)', 0.0), ('Toy Story 2 (1999)', 608.5), (\"Bug's Life, A (1998)\", 698.5), ('Groundhog Day (1993)', 714.0), ('Nutty Professor, The (1996)', 714.0), ('Willy Wonka & the Chocolate Factory (1971)', 718.0), ('Mission: Impossible (1996)', 722.0), ('Babe (1995)', 722.5), ('Monsters, Inc. (2001)', 725.0), ('Toy Story 3 (2010)', 728.0)]\n",
      "\n",
      "[('Grumpier Old Men (1995)', 0.0), ('Juror, The (1996)', 155.5), ('Kazaam (1996)', 155.5), (\"Joe's Apartment (1996)\", 155.5), ('Seventh Sign, The (1988)', 155.5), ('Flipper (1996)', 156.0), ('Tales from the Crypt Presents: Bordello of Blood (1996)', 156.0), ('Son in Law (1993)', 156.5), ('Dead Man on Campus (1998)', 156.5), ('Grumpy Old Men (1993)', 157.0)]\n",
      "\n",
      "[('Heat (1995)', 0.0), ('Rumble in the Bronx (Hont faan kui) (1995)', 354.5), ('Strange Days (1995)', 357.5), ('Executive Decision (1996)', 364.0), ('First Strike (Police Story 4: First Strike) (Ging chaat goo si 4: Ji gaan daan yam mo) (1996)', 371.0), ('City Hall (1996)', 371.5), ('Hard-Boiled (Lat sau san taam) (1992)', 371.5), ('Primal Fear (1996)', 372.0), (\"Carlito's Way (1993)\", 372.5), ('Killer, The (Die xue shuang xiong) (1989)', 372.5)]\n"
     ]
    }
   ],
   "source": [
    "\n",
    "for movie in counter2.title[:3]:\n",
    "    print()\n",
    "    print(find_similar(movie, cityblock))"
   ]
  }
 ],
 "metadata": {
  "kernelspec": {
   "display_name": "Python 3",
   "language": "python",
   "name": "python3"
  },
  "language_info": {
   "codemirror_mode": {
    "name": "ipython",
    "version": 3
   },
   "file_extension": ".py",
   "mimetype": "text/x-python",
   "name": "python",
   "nbconvert_exporter": "python",
   "pygments_lexer": "ipython3",
   "version": "3.7.4"
  }
 },
 "nbformat": 4,
 "nbformat_minor": 2
}
