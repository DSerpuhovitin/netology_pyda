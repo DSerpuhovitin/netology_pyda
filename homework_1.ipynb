{
 "cells": [
  {
   "cell_type": "markdown",
   "metadata": {},
   "source": [
    "## **Задание 1. **\n",
    "Даны 2 строки long_phrase и short_phrase. Напишите код, который проверяет действительно ли длинная фраза long_phrase длиннее короткой short_phrase. И выводит True или False в зависимости от результата сравнения.\n",
    "\n",
    "long_phrase = 'Насколько проще было бы писать программы, если бы не заказчики’\n",
    "short_phrase = ‘640Кб должно хватить для любых задач. Билл Гейтс (по легенде)’"
   ]
  },
  {
   "cell_type": "code",
   "execution_count": 32,
   "metadata": {},
   "outputs": [
    {
     "name": "stdout",
     "output_type": "stream",
     "text": [
      "true\n"
     ]
    }
   ],
   "source": [
    "long_phrase = \"Насколько проще было бы писать программы, если бы не заказчики\"\n",
    "short_phrase = \"640Кб должно хватить для любых задач. Билл Гейтс (по легенде)\"\n",
    "\n",
    "if len(long_phrase) > len(short_phrase) :\n",
    "    print (\"true\")\n",
    "elif len(long_phrase) == len(short_phrase) :\n",
    "    print (\"Строки одинаковой длины\")\n",
    "else: \n",
    "    print (\"false\")    \n",
    "        \n",
    "#print (len(long_phrase))\n",
    "#print (len(short_phrase))"
   ]
  },
  {
   "cell_type": "markdown",
   "metadata": {},
   "source": [
    "## Задание 2. \n",
    "Дано значение объема файла в байтах. Напишите перевод этого значения в мегабайты в формате:\n",
    "‘Объем файла равен 213.68Mb’"
   ]
  },
  {
   "cell_type": "code",
   "execution_count": 48,
   "metadata": {},
   "outputs": [
    {
     "name": "stdout",
     "output_type": "stream",
     "text": [
      "Введите объём файла в байтах 1048576\n",
      "Объем файла равен 1.0Mb\n"
     ]
    }
   ],
   "source": [
    "V_fail_b = int(input(\"Введите объём файла в байтах \"))\n",
    "V_fail_Mb = str(V_fail_b/1048576)\n",
    "\n",
    "print(\"Объем файла равен \" + V_fail_Mb + \"Mb\")"
   ]
  },
  {
   "cell_type": "markdown",
   "metadata": {},
   "source": [
    "# Задание 3. \n",
    "Разработать приложение для определения знака зодиака по дате рождения.\n",
    "Пример:\n",
    "\n",
    "Введите месяц: март\n",
    "Введите число: 6\n",
    "\n",
    "Вывод:\n",
    "Рыбы"
   ]
  },
  {
   "cell_type": "code",
   "execution_count": 89,
   "metadata": {},
   "outputs": [
    {
     "name": "stdout",
     "output_type": "stream",
     "text": [
      "Введите месяц октябрь\n",
      "Введите число 10\n",
      "\n",
      "Вывод:\n",
      "Весы\n"
     ]
    }
   ],
   "source": [
    "#print(\"Введите месяц\")\n",
    "\n",
    "md_real = False\n",
    "\n",
    "while md_real == False :\n",
    "    month = input(\"Введите месяц \")\n",
    "\n",
    "    if month == \"январь\" or month == \"Январь\" :\n",
    "        month_int= 1\n",
    "        md_real = True\n",
    "    elif month == \"февраль\" or month ==  \"Февраль\" :\n",
    "        month_int= 2\n",
    "        md_real = True\n",
    "    elif month == \"март\" or month == \"Март\" :\n",
    "        month_int= 3\n",
    "        md_real = True\n",
    "    elif month == \"апрель\" or month == \"Апрель\" :\n",
    "        month_int= 4\n",
    "        md_real = True\n",
    "    elif month == \"май\" or month == \"Май\" :\n",
    "        month_int= 5\n",
    "        md_real = True\n",
    "    elif month == \"июнь\" or month == \"Июнь\" :\n",
    "        month_int= 6\n",
    "        md_real = True\n",
    "    elif month == \"июль\" or month == \"Июль\" :\n",
    "        month_int= 7\n",
    "        md_real = True\n",
    "    elif month == \"август\" or month == \"Август\" :\n",
    "        month_int= 8\n",
    "        md_real = True\n",
    "    elif month == \"сентябрь\" or month == \"Сентябрь\" :\n",
    "        month_int= 9\n",
    "        md_real = True\n",
    "    elif month == \"октябрь\" or month == \"Октябрь\" :\n",
    "        month_int= 10\n",
    "        md_real = True\n",
    "    elif month == \"ноябрь\" or month == \"Ноябрь\" :\n",
    "        month_int= 11\n",
    "        md_real = True\n",
    "    elif month == \"декабрь\" or month == \"Декабрь\" :\n",
    "        month_int= 12\n",
    "        md_real = True\n",
    "    else :\n",
    "        print (\"Нет такого месяца\")\n",
    "\n",
    "while md_real == True :\n",
    "    date = int(input(\"Введите число \"))\n",
    "    if date <= 0 or date >31 :\n",
    "        print (\"Нет такой даты\")\n",
    "    else :\n",
    "        md_real = False\n",
    "        \n",
    "znak_zolbfrf = { \n",
    "    1: \"Козерог\",\n",
    "    2: \"Володей\",\n",
    "    3: \"Рыбы\",\n",
    "    4: \"Овен\",\n",
    "    5: \"Телец\",\n",
    "    6: \"Бизнецы\",\n",
    "    7: \"Рак\",\n",
    "    8: \"Лев\",\n",
    "    9: \"Дева\",\n",
    "    10: \"Весы\",\n",
    "    11: \"Скорпион\",\n",
    "    12: \"Стрелец\"\n",
    "}\n",
    "\n",
    "if month_int == 1 and date <= 19 :\n",
    "    print()\n",
    "    print(\"Вывод:\")\n",
    "    print (znak_zolbfrf[1])\n",
    "elif month_int == 2 and date <= 18 :\n",
    "    print()\n",
    "    print(\"Вывод:\")\n",
    "    print (znak_zolbfrf[2])\n",
    "elif month_int == 3 and date <= 20 :\n",
    "    print()\n",
    "    print(\"Вывод:\")\n",
    "    print (znak_zolbfrf[3])\n",
    "elif month_int == 4 and date <= 19 :\n",
    "    print()\n",
    "    print(\"Вывод:\")\n",
    "    print (znak_zolbfrf[4])\n",
    "elif month_int == 5 and date <= 20 :\n",
    "    print()\n",
    "    print(\"Вывод:\")\n",
    "    print (znak_zolbfrf[5])\n",
    "elif month_int == 6 and date <= 20 :\n",
    "    print()\n",
    "    print(\"Вывод:\")\n",
    "    print (znak_zolbfrf[6])\n",
    "elif month_int == 7 and date <= 22 :\n",
    "    print()\n",
    "    print(\"Вывод:\")\n",
    "    print (znak_zolbfrf[7])\n",
    "elif month_int == 8 and date <= 22 :\n",
    "    print()\n",
    "    print(\"Вывод:\")\n",
    "    print (znak_zolbfrf[2])\n",
    "elif month_int == 9 and date <= 22 :\n",
    "    print()\n",
    "    print(\"Вывод:\")\n",
    "    print (znak_zolbfrf[9])\n",
    "elif month_int == 10 and date <= 22 :\n",
    "    print()\n",
    "    print(\"Вывод:\")\n",
    "    print (znak_zolbfrf[10])\n",
    "elif month_int == 11 and date <= 21 :\n",
    "    print()\n",
    "    print(\"Вывод:\")\n",
    "    print (znak_zolbfrf[11])\n",
    "elif month_int == 12 and date <= 21 :\n",
    "    print()\n",
    "    print(\"Вывод:\")\n",
    "    print (znak_zolbfrf[12])\n",
    "\n",
    "\n",
    "\n",
    "\n",
    "\n",
    "    "
   ]
  },
  {
   "cell_type": "markdown",
   "metadata": {},
   "source": [
    "# Задание 4. Нужно разработать приложение для финансового планирования.\n",
    "Приложение учитывает сколько уходит на ипотеку, “на жизнь” и сколько нужно отложить на пенсию.\n",
    "Пользователь вводит заработанную плату в месяц.\n",
    "Сколько процентов от зп уходит на ипотеку.\n",
    "Сколько процентов от зп уходит “на жизнь”.\n",
    "Сколько раз приходит премия в год.\n",
    "Остальная часть заработанной платы откладывается на пенсию.\n",
    "Также пользователю приходит премия в размере зарплаты, от которой половина уходит на отпуск, а вторая половина откладывается.\n",
    "Программа должна учитывать сколько премий было в год.\n",
    "Нужно вывести сколько денег тратит пользователь на ипотеку и сколько он накопит за год.\n",
    "Пример:\n",
    "\n",
    "Введите заработанную плату в месяц: 100000\n",
    "Введите сколько процентов уходит на ипотеку: 30\n",
    "Введите сколько процентов уходит на жизнь: 50\n",
    "Введите количество премий за год: 2\n",
    "\n",
    "Вывод:\n",
    "На ипотеку было потрачено: 360000 рублей\n",
    "Было накоплено: 340000 рублей"
   ]
  },
  {
   "cell_type": "code",
   "execution_count": null,
   "metadata": {},
   "outputs": [],
   "source": []
  }
 ],
 "metadata": {
  "kernelspec": {
   "display_name": "Python 3",
   "language": "python",
   "name": "python3"
  },
  "language_info": {
   "codemirror_mode": {
    "name": "ipython",
    "version": 3
   },
   "file_extension": ".py",
   "mimetype": "text/x-python",
   "name": "python",
   "nbconvert_exporter": "python",
   "pygments_lexer": "ipython3",
   "version": "3.7.3"
  }
 },
 "nbformat": 4,
 "nbformat_minor": 2
}
