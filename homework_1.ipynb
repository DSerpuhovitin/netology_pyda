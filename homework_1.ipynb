{
 "cells": [
  {
   "cell_type": "markdown",
   "metadata": {},
   "source": [
    "## **Задание 1. **\n",
    "Даны 2 строки long_phrase и short_phrase. Напишите код, который проверяет действительно ли длинная фраза long_phrase длиннее короткой short_phrase. И выводит True или False в зависимости от результата сравнения.\n",
    "\n",
    "long_phrase = 'Насколько проще было бы писать программы, если бы не заказчики’\n",
    "short_phrase = ‘640Кб должно хватить для любых задач. Билл Гейтс (по легенде)’"
   ]
  },
  {
   "cell_type": "code",
   "execution_count": 32,
   "metadata": {},
   "outputs": [
    {
     "name": "stdout",
     "output_type": "stream",
     "text": [
      "true\n"
     ]
    }
   ],
   "source": [
    "long_phrase = \"Насколько проще было бы писать программы, если бы не заказчики\"\n",
    "short_phrase = \"640Кб должно хватить для любых задач. Билл Гейтс (по легенде)\"\n",
    "\n",
    "if len(long_phrase) > len(short_phrase) :\n",
    "    print (\"true\")\n",
    "elif len(long_phrase) == len(short_phrase) :\n",
    "    print (\"Строки одинаковой длины\")\n",
    "else: \n",
    "    print (\"false\")    \n",
    "        \n",
    "#print (len(long_phrase))\n",
    "#print (len(short_phrase))"
   ]
  },
  {
   "cell_type": "code",
   "execution_count": null,
   "metadata": {},
   "outputs": [],
   "source": []
  }
 ],
 "metadata": {
  "kernelspec": {
   "display_name": "Python 3",
   "language": "python",
   "name": "python3"
  },
  "language_info": {
   "codemirror_mode": {
    "name": "ipython",
    "version": 3
   },
   "file_extension": ".py",
   "mimetype": "text/x-python",
   "name": "python",
   "nbconvert_exporter": "python",
   "pygments_lexer": "ipython3",
   "version": "3.7.3"
  }
 },
 "nbformat": 4,
 "nbformat_minor": 2
}
