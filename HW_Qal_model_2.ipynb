{
 "cells": [
  {
   "cell_type": "markdown",
   "metadata": {},
   "source": [
    "## Домашнее задание\n",
    "Взять boston house-prices datase (sklearn.datasets.load_boston) и сделать тоже самое для задачи регрессии (попробовать разные алгоритмы, поподбирать параметры, вывести итоговое качество)"
   ]
  },
  {
   "cell_type": "code",
   "execution_count": 1,
   "metadata": {},
   "outputs": [
    {
     "name": "stderr",
     "output_type": "stream",
     "text": [
      "C:\\Program Files\\Anaconda3\\lib\\site-packages\\sklearn\\cross_validation.py:41: DeprecationWarning: This module was deprecated in version 0.18 in favor of the model_selection module into which all the refactored classes and functions are moved. Also note that the interface of the new CV iterators are different from that of this module. This module will be removed in 0.20.\n",
      "  \"This module will be removed in 0.20.\", DeprecationWarning)\n"
     ]
    }
   ],
   "source": [
    "import pandas as pd\n",
    "import numpy as np\n",
    "\n",
    "from sklearn.datasets import load_boston\n",
    "\n",
    "from sklearn import cross_validation\n",
    "\n",
    "from sklearn.model_selection import GridSearchCV\n",
    "\n",
    "from sklearn import linear_model\n",
    "\n",
    "from sklearn.metrics import mean_absolute_error, mean_squared_error, median_absolute_error, r2_score\n",
    "\n",
    "from sklearn.preprocessing import StandardScaler\n",
    "\n",
    "#https://scikit-learn.org/stable/modules/model_evaluation.html#scoring-parameter"
   ]
  },
  {
   "cell_type": "code",
   "execution_count": 2,
   "metadata": {},
   "outputs": [],
   "source": [
    "boston = load_boston()\n",
    "X = pd.DataFrame(boston.data, columns=boston.feature_names)\n",
    "y = pd.DataFrame(boston.target, columns=[\"target\"])\n",
    "\n",
    "x_train, x_test, y_train, y_test = train_test_split(X, y, test_size = 0.2)\n"
   ]
  },
  {
   "cell_type": "code",
   "execution_count": 3,
   "metadata": {},
   "outputs": [
    {
     "name": "stdout",
     "output_type": "stream",
     "text": [
      "<class 'pandas.core.frame.DataFrame'>\n",
      "RangeIndex: 506 entries, 0 to 505\n",
      "Data columns (total 13 columns):\n",
      "CRIM       506 non-null float64\n",
      "ZN         506 non-null float64\n",
      "INDUS      506 non-null float64\n",
      "CHAS       506 non-null float64\n",
      "NOX        506 non-null float64\n",
      "RM         506 non-null float64\n",
      "AGE        506 non-null float64\n",
      "DIS        506 non-null float64\n",
      "RAD        506 non-null float64\n",
      "TAX        506 non-null float64\n",
      "PTRATIO    506 non-null float64\n",
      "B          506 non-null float64\n",
      "LSTAT      506 non-null float64\n",
      "dtypes: float64(13)\n",
      "memory usage: 51.5 KB\n",
      "<class 'pandas.core.frame.DataFrame'>\n",
      "RangeIndex: 506 entries, 0 to 505\n",
      "Data columns (total 1 columns):\n",
      "target    506 non-null float64\n",
      "dtypes: float64(1)\n",
      "memory usage: 4.0 KB\n"
     ]
    },
    {
     "data": {
      "text/plain": [
       "(None, None)"
      ]
     },
     "execution_count": 3,
     "metadata": {},
     "output_type": "execute_result"
    }
   ],
   "source": [
    "X.info(), y.info()"
   ]
  },
  {
   "cell_type": "code",
   "execution_count": 4,
   "metadata": {},
   "outputs": [
    {
     "data": {
      "text/plain": [
       "(             CRIM          ZN       INDUS        CHAS         NOX          RM  \\\n",
       " count  506.000000  506.000000  506.000000  506.000000  506.000000  506.000000   \n",
       " mean     3.593761   11.363636   11.136779    0.069170    0.554695    6.284634   \n",
       " std      8.596783   23.322453    6.860353    0.253994    0.115878    0.702617   \n",
       " min      0.006320    0.000000    0.460000    0.000000    0.385000    3.561000   \n",
       " 25%      0.082045    0.000000    5.190000    0.000000    0.449000    5.885500   \n",
       " 50%      0.256510    0.000000    9.690000    0.000000    0.538000    6.208500   \n",
       " 75%      3.647423   12.500000   18.100000    0.000000    0.624000    6.623500   \n",
       " max     88.976200  100.000000   27.740000    1.000000    0.871000    8.780000   \n",
       " \n",
       "               AGE         DIS         RAD         TAX     PTRATIO           B  \\\n",
       " count  506.000000  506.000000  506.000000  506.000000  506.000000  506.000000   \n",
       " mean    68.574901    3.795043    9.549407  408.237154   18.455534  356.674032   \n",
       " std     28.148861    2.105710    8.707259  168.537116    2.164946   91.294864   \n",
       " min      2.900000    1.129600    1.000000  187.000000   12.600000    0.320000   \n",
       " 25%     45.025000    2.100175    4.000000  279.000000   17.400000  375.377500   \n",
       " 50%     77.500000    3.207450    5.000000  330.000000   19.050000  391.440000   \n",
       " 75%     94.075000    5.188425   24.000000  666.000000   20.200000  396.225000   \n",
       " max    100.000000   12.126500   24.000000  711.000000   22.000000  396.900000   \n",
       " \n",
       "             LSTAT  \n",
       " count  506.000000  \n",
       " mean    12.653063  \n",
       " std      7.141062  \n",
       " min      1.730000  \n",
       " 25%      6.950000  \n",
       " 50%     11.360000  \n",
       " 75%     16.955000  \n",
       " max     37.970000  ,            target\n",
       " count  506.000000\n",
       " mean    22.532806\n",
       " std      9.197104\n",
       " min      5.000000\n",
       " 25%     17.025000\n",
       " 50%     21.200000\n",
       " 75%     25.000000\n",
       " max     50.000000)"
      ]
     },
     "execution_count": 4,
     "metadata": {},
     "output_type": "execute_result"
    }
   ],
   "source": [
    "X.describe(), y.describe()"
   ]
  },
  {
   "cell_type": "markdown",
   "metadata": {},
   "source": [
    "### Создаю модели. Сразу задаю, где возможно, параллельные вычисления"
   ]
  },
  {
   "cell_type": "markdown",
   "metadata": {},
   "source": [
    "#### Линейная регрессия"
   ]
  },
  {
   "cell_type": "code",
   "execution_count": 5,
   "metadata": {},
   "outputs": [
    {
     "data": {
      "text/plain": [
       "{'copy_X': True, 'fit_intercept': True, 'n_jobs': -1, 'normalize': False}"
      ]
     },
     "execution_count": 5,
     "metadata": {},
     "output_type": "execute_result"
    }
   ],
   "source": [
    "from sklearn.linear_model import LinearRegression\n",
    "\n",
    "model_LR = LinearRegression(n_jobs = -1)\n",
    "model_LR.get_params()"
   ]
  },
  {
   "cell_type": "code",
   "execution_count": 6,
   "metadata": {},
   "outputs": [],
   "source": [
    "model_LR.fit(x_train, y_train)\n",
    "\n",
    "y_train_pred = model_LR.predict(x_train)\n",
    "y_test_pred = model_LR.predict(x_test)"
   ]
  },
  {
   "cell_type": "code",
   "execution_count": 7,
   "metadata": {},
   "outputs": [
    {
     "name": "stdout",
     "output_type": "stream",
     "text": [
      "[[-5.06231893e-02  4.83255430e-02 -2.68292126e-02  2.68031364e+00\n",
      "  -1.70907879e+01  3.80610717e+00  5.16928598e-03 -1.48514953e+00\n",
      "   2.40420364e-01 -8.95052139e-03 -1.00201805e+00  1.04903456e-02\n",
      "  -5.19851329e-01]]\n",
      "MSE train: 19.982, test: 30.674\n",
      "R^2 train: 0.755, test: 0.680\n"
     ]
    }
   ],
   "source": [
    "#Оченка качества на дефолте\n",
    "print(model_LR.coef_)\n",
    "\n",
    "print('MSE train: {:.3f}, test: {:.3f}'.format(mean_squared_error(y_train, y_train_pred),mean_squared_error(y_test, y_test_pred)))\n",
    "\n",
    "print('R^2 train: {:.3f}, test: {:.3f}'.format(r2_score(y_train, y_train_pred),r2_score(y_test, y_test_pred)))"
   ]
  },
  {
   "cell_type": "code",
   "execution_count": 8,
   "metadata": {},
   "outputs": [
    {
     "data": {
      "text/plain": [
       "{'copy_X': 'True', 'fit_intercept': 'True', 'normalize': 'True'}"
      ]
     },
     "execution_count": 8,
     "metadata": {},
     "output_type": "execute_result"
    }
   ],
   "source": [
    "#Делю данные, создаю словарь параметров и пдбираю лучшие параметры\n",
    "\n",
    "x_train, x_test, y_train, y_test = cross_validation.train_test_split(X, y, test_size = 0.3, random_state = 0)\n",
    "\n",
    "param_grid_LR = {\n",
    "    'copy_X': ['True', 'False'],\n",
    "    'fit_intercept': ['True', 'False'],\n",
    "    'normalize': ['True', 'False']\n",
    "}\n",
    "\n",
    "grid_LR = GridSearchCV(model_LR, param_grid_LR, n_jobs=-1, scoring ='r2', cv = 5)\n",
    "grid_LR.fit(X,y)\n",
    "\n",
    "grid_LR.best_params_"
   ]
  },
  {
   "cell_type": "code",
   "execution_count": 9,
   "metadata": {},
   "outputs": [
    {
     "data": {
      "text/plain": [
       "LinearRegression(copy_X='True', fit_intercept='True', n_jobs=-1,\n",
       "         normalize='True')"
      ]
     },
     "execution_count": 9,
     "metadata": {},
     "output_type": "execute_result"
    }
   ],
   "source": [
    "grid_LR.best_estimator_"
   ]
  },
  {
   "cell_type": "code",
   "execution_count": 10,
   "metadata": {},
   "outputs": [
    {
     "name": "stdout",
     "output_type": "stream",
     "text": [
      "MSE train: 19.966, test: 27.184\n",
      "R^2 train: 0.764, test: 0.674\n"
     ]
    }
   ],
   "source": [
    "#Оцениваю качество на лучших параметрах\n",
    "\n",
    "grid_LR.best_estimator_.fit(x_train, y_train)\n",
    "\n",
    "y_train_pred_best = grid_LR.best_estimator_.predict(x_train)\n",
    "y_test_pred_best = grid_LR.best_estimator_.predict(x_test)\n",
    "\n",
    "#Оченка качества\n",
    "print('MSE train: {:.3f}, test: {:.3f}'.format(mean_squared_error(y_train, y_train_pred_best),mean_squared_error(y_test, y_test_pred_best)))\n",
    "print('R^2 train: {:.3f}, test: {:.3f}'.format(r2_score(y_train, y_train_pred_best),r2_score(y_test, y_test_pred_best)))"
   ]
  },
  {
   "cell_type": "markdown",
   "metadata": {},
   "source": [
    "#### Лассо регрессия"
   ]
  },
  {
   "cell_type": "code",
   "execution_count": 11,
   "metadata": {},
   "outputs": [
    {
     "data": {
      "text/plain": [
       "{'alpha': 0.1,\n",
       " 'copy_X': True,\n",
       " 'fit_intercept': True,\n",
       " 'max_iter': 1000,\n",
       " 'normalize': False,\n",
       " 'positive': False,\n",
       " 'precompute': False,\n",
       " 'random_state': None,\n",
       " 'selection': 'cyclic',\n",
       " 'tol': 0.0001,\n",
       " 'warm_start': False}"
      ]
     },
     "execution_count": 11,
     "metadata": {},
     "output_type": "execute_result"
    }
   ],
   "source": [
    "from sklearn.linear_model import Lasso\n",
    "\n",
    "model_Lasso = Lasso(alpha = 0.1)\n",
    "model_Lasso.get_params()"
   ]
  },
  {
   "cell_type": "code",
   "execution_count": 12,
   "metadata": {},
   "outputs": [
    {
     "data": {
      "text/plain": [
       "(0.9936823753348005, -0.0023455983746008984)"
      ]
     },
     "execution_count": 12,
     "metadata": {},
     "output_type": "execute_result"
    }
   ],
   "source": [
    "#Подготавливаю данные - шкалирую\n",
    "\n",
    "from sklearn.preprocessing import StandardScaler\n",
    "\n",
    "sc_x = StandardScaler()\n",
    "sc_y = StandardScaler()\n",
    "\n",
    "X_std = sc_x.fit_transform(X)\n",
    "y_std = sc_y.fit_transform(y).flatten()\n",
    "\n",
    "x_train_scaled, x_test_scaled, y_train_scaled, y_test_scaled = cross_validation.train_test_split(X_std, y_std, test_size = 0.3, random_state = 0)\n",
    "\n",
    "x_train_scaled.std(), x_train_scaled.mean()"
   ]
  },
  {
   "cell_type": "code",
   "execution_count": 13,
   "metadata": {},
   "outputs": [
    {
     "name": "stdout",
     "output_type": "stream",
     "text": [
      "[-0.00155798  0.         -0.          0.         -0.          0.29618857\n",
      " -0.         -0.         -0.         -0.01976187 -0.19626599  0.\n",
      " -0.37360559]\n",
      "MSE train: 0.305, test: 0.395\n",
      "R^2 train: 0.696, test: 0.600\n"
     ]
    }
   ],
   "source": [
    "#обучаю модель, получаю прогноз и оцениваю качетво на дефолте\n",
    "model_Lasso.fit(x_train_scaled, y_train_scaled)\n",
    "\n",
    "y_train_pred = model_Lasso.predict(x_train_scaled)\n",
    "y_test_pred = model_Lasso.predict(x_test_scaled)\n",
    "\n",
    "print(model_Lasso.coef_)\n",
    "\n",
    "print('MSE train: {:.3f}, test: {:.3f}'.format(mean_squared_error(y_train_scaled, y_train_pred),\n",
    "        mean_squared_error(y_test_scaled, y_test_pred)))\n",
    "\n",
    "print('R^2 train: {:.3f}, test: {:.3f}'.format(r2_score(y_train_scaled, y_train_pred),r2_score(y_test_scaled, y_test_pred)))"
   ]
  },
  {
   "cell_type": "code",
   "execution_count": 14,
   "metadata": {},
   "outputs": [
    {
     "data": {
      "text/plain": [
       "{'alpha': 0.0112,\n",
       " 'fit_intercept': 'True',\n",
       " 'max_iter': 50.0,\n",
       " 'normalize': 'True',\n",
       " 'tol': 0.0012000000000000001}"
      ]
     },
     "execution_count": 14,
     "metadata": {},
     "output_type": "execute_result"
    }
   ],
   "source": [
    "#Делю данные, создаю словарь параметров и подбираю лучшие параметры\n",
    "\n",
    "x_train_scaled, x_test_scaled, y_train_scaled, y_test_scaled = cross_validation.train_test_split(X_std, y_std, test_size = 0.3, random_state = 0)\n",
    "\n",
    "param_grid_Lasso = {\n",
    "    'alpha': np.linspace(0.0001, 0.1, num = 10),\n",
    "    'fit_intercept': ['True', 'False'],\n",
    "    'max_iter': np.linspace(50, 200, num = 10),\n",
    "    'normalize': ['True', 'False'],\n",
    "    'tol': np.linspace(0.0001, 0.01, num = 10)\n",
    "}\n",
    "\n",
    "grid_Lasso = GridSearchCV(model_Lasso, param_grid_Lasso, n_jobs = -1, scoring ='r2', cv = 5)\n",
    "grid_Lasso.fit(X,y)\n",
    "\n",
    "grid_Lasso.best_params_"
   ]
  },
  {
   "cell_type": "code",
   "execution_count": 15,
   "metadata": {},
   "outputs": [
    {
     "name": "stdout",
     "output_type": "stream",
     "text": [
      "MSE train: 0.361, test: 0.423\n",
      "R^2 train: 0.640, test: 0.571\n"
     ]
    }
   ],
   "source": [
    "#Оцениваю качество на лучших параметрах\n",
    "grid_Lasso.best_estimator_.fit(x_train_scaled, y_train_scaled)\n",
    "\n",
    "y_train_pred_best = grid_Lasso.best_estimator_.predict(x_train_scaled)\n",
    "y_test_pred_best = grid_Lasso.best_estimator_.predict(x_test_scaled)\n",
    "\n",
    "#Оченка качества\n",
    "print('MSE train: {:.3f}, test: {:.3f}'.format(mean_squared_error(y_train_scaled, y_train_pred_best),\n",
    "                                               mean_squared_error(y_test_scaled, y_test_pred_best)))\n",
    "\n",
    "print('R^2 train: {:.3f}, test: {:.3f}'.format(r2_score(y_train_scaled, y_train_pred_best),\n",
    "                                               r2_score(y_test_scaled, y_test_pred_best)))"
   ]
  },
  {
   "cell_type": "markdown",
   "metadata": {},
   "source": [
    "#### ElasticNet"
   ]
  },
  {
   "cell_type": "code",
   "execution_count": 16,
   "metadata": {
    "scrolled": true
   },
   "outputs": [
    {
     "data": {
      "text/plain": [
       "{'alpha': 0.1,\n",
       " 'copy_X': True,\n",
       " 'fit_intercept': True,\n",
       " 'l1_ratio': 0.5,\n",
       " 'max_iter': 1000,\n",
       " 'normalize': False,\n",
       " 'positive': False,\n",
       " 'precompute': False,\n",
       " 'random_state': None,\n",
       " 'selection': 'cyclic',\n",
       " 'tol': 0.0001,\n",
       " 'warm_start': False}"
      ]
     },
     "execution_count": 16,
     "metadata": {},
     "output_type": "execute_result"
    }
   ],
   "source": [
    "from sklearn.linear_model import ElasticNet\n",
    "\n",
    "model_EN = ElasticNet(alpha = 0.1)\n",
    "model_EN.get_params()"
   ]
  },
  {
   "cell_type": "code",
   "execution_count": 17,
   "metadata": {},
   "outputs": [
    {
     "data": {
      "text/plain": [
       "(0.9936823753348005, -0.0023455983746008984)"
      ]
     },
     "execution_count": 17,
     "metadata": {},
     "output_type": "execute_result"
    }
   ],
   "source": [
    "#Подготавливаю данные - шкалирую\n",
    "\n",
    "sc_x = StandardScaler()\n",
    "sc_y = StandardScaler()\n",
    "\n",
    "X_std = sc_x.fit_transform(X)\n",
    "y_std = sc_y.fit_transform(y).flatten()\n",
    "\n",
    "x_train_scaled, x_test_scaled, y_train_scaled, y_test_scaled = cross_validation.train_test_split(X_std, y_std, test_size = 0.3, random_state = 0)\n",
    "\n",
    "x_train_scaled.std(), x_train_scaled.mean()"
   ]
  },
  {
   "cell_type": "code",
   "execution_count": 18,
   "metadata": {},
   "outputs": [
    {
     "name": "stdout",
     "output_type": "stream",
     "text": [
      "[-0.03530421  0.         -0.          0.04029752 -0.01646424  0.31846627\n",
      " -0.         -0.02019854 -0.         -0.03136783 -0.21312727  0.03627586\n",
      " -0.35100948]\n",
      "MSE train: 0.280, test: 0.378\n",
      "R^2 train: 0.721, test: 0.617\n"
     ]
    }
   ],
   "source": [
    "#обучаю модель, получаю прогноз и оцениваю качетво на дефолте\n",
    "\n",
    "model_EN.fit(x_train_scaled, y_train_scaled)\n",
    "\n",
    "y_train_pred = model_EN.predict(x_train_scaled)\n",
    "y_test_pred = model_EN.predict(x_test_scaled)\n",
    "\n",
    "print(model_EN.coef_)\n",
    "\n",
    "print('MSE train: {:.3f}, test: {:.3f}'.format(mean_squared_error(y_train_scaled, y_train_pred),\n",
    "        mean_squared_error(y_test_scaled, y_test_pred)))\n",
    "\n",
    "print('R^2 train: {:.3f}, test: {:.3f}'.format(r2_score(y_train_scaled, y_train_pred),r2_score(y_test_scaled, y_test_pred)))"
   ]
  },
  {
   "cell_type": "code",
   "execution_count": 19,
   "metadata": {},
   "outputs": [
    {
     "data": {
      "text/plain": [
       "{'alpha': 0.0007800000000000001,\n",
       " 'fit_intercept': 'True',\n",
       " 'l1_ratio': 1e-06,\n",
       " 'max_iter': 100.0,\n",
       " 'normalize': 'True'}"
      ]
     },
     "execution_count": 19,
     "metadata": {},
     "output_type": "execute_result"
    }
   ],
   "source": [
    "#Делю данные, создаю словарь параметров и подбираю лучшие параметры\n",
    "\n",
    "x_train_scaled, x_test_scaled, y_train_scaled, y_test_scaled = cross_validation.train_test_split(X_std, y_std, test_size = 0.3, random_state = 0)\n",
    "\n",
    "param_grid_EN = {\n",
    "    'alpha': np.linspace(0.00001, 0.001, num = 10),\n",
    "    'fit_intercept': ['True', 'False'],\n",
    "    'l1_ratio': np.linspace(0.000001, 0.00001, num = 10),\n",
    "    'max_iter': np.linspace(100, 200, num = 5),\n",
    "    'normalize': ['True', 'False'],\n",
    "}\n",
    "\n",
    "grid_EN = GridSearchCV(model_EN, param_grid_EN, scoring ='r2', n_jobs = -1, cv = 5)\n",
    "grid_EN.fit(X,y)\n",
    "\n",
    "grid_EN.best_params_"
   ]
  },
  {
   "cell_type": "code",
   "execution_count": 20,
   "metadata": {},
   "outputs": [
    {
     "name": "stdout",
     "output_type": "stream",
     "text": [
      "MSE train: 0.262, test: 0.362\n",
      "R^2 train: 0.739, test: 0.633\n"
     ]
    }
   ],
   "source": [
    "#Оцениваю качество на лучших параметрах\n",
    "grid_EN.best_estimator_.fit(x_train_scaled, y_train_scaled)\n",
    "\n",
    "y_train_pred_best = grid_EN.best_estimator_.predict(x_train_scaled)\n",
    "y_test_pred_best = grid_EN.best_estimator_.predict(x_test_scaled)\n",
    "\n",
    "#Оченка качества\n",
    "print('MSE train: {:.3f}, test: {:.3f}'.format(mean_squared_error(y_train_scaled, y_train_pred_best),\n",
    "                                               mean_squared_error(y_test_scaled, y_test_pred_best)))\n",
    "\n",
    "print('R^2 train: {:.3f}, test: {:.3f}'.format(r2_score(y_train_scaled, y_train_pred_best),\n",
    "                                               r2_score(y_test_scaled, y_test_pred_best)))"
   ]
  },
  {
   "cell_type": "markdown",
   "metadata": {},
   "source": [
    "#### Регрессия Bayesian"
   ]
  },
  {
   "cell_type": "code",
   "execution_count": 21,
   "metadata": {},
   "outputs": [
    {
     "data": {
      "text/plain": [
       "{'alpha_1': 1e-06,\n",
       " 'alpha_2': 1e-06,\n",
       " 'compute_score': False,\n",
       " 'copy_X': True,\n",
       " 'fit_intercept': True,\n",
       " 'lambda_1': 1e-06,\n",
       " 'lambda_2': 1e-06,\n",
       " 'n_iter': 300,\n",
       " 'normalize': False,\n",
       " 'tol': 0.001,\n",
       " 'verbose': False}"
      ]
     },
     "execution_count": 21,
     "metadata": {},
     "output_type": "execute_result"
    }
   ],
   "source": [
    "from sklearn.linear_model import BayesianRidge\n",
    "\n",
    "model_ByR = BayesianRidge()\n",
    "model_ByR.get_params()"
   ]
  },
  {
   "cell_type": "code",
   "execution_count": 22,
   "metadata": {},
   "outputs": [
    {
     "name": "stderr",
     "output_type": "stream",
     "text": [
      "C:\\Program Files\\Anaconda3\\lib\\site-packages\\sklearn\\utils\\validation.py:578: DataConversionWarning: A column-vector y was passed when a 1d array was expected. Please change the shape of y to (n_samples, ), for example using ravel().\n",
      "  y = column_or_1d(y, warn=True)\n"
     ]
    }
   ],
   "source": [
    "#Создаю модель\n",
    "model_ByR.fit(x_train, y_train)\n",
    "\n",
    "y_train_pred = model_ByR.predict(x_train)\n",
    "y_test_pred = model_ByR.predict(x_test)"
   ]
  },
  {
   "cell_type": "code",
   "execution_count": 23,
   "metadata": {},
   "outputs": [
    {
     "name": "stdout",
     "output_type": "stream",
     "text": [
      "[-0.11424918  0.04893541 -0.0479451   1.65085687 -1.24857157  3.52540128\n",
      " -0.02100559 -1.30394739  0.21306009 -0.0128196  -0.87827693  0.00783844\n",
      " -0.53236183]\n",
      "MSE train: 20.740, test: 28.630\n",
      "R^2 train: 0.755, test: 0.656\n"
     ]
    }
   ],
   "source": [
    "#Оченка качества на дефолте\n",
    "print(model_ByR.coef_)\n",
    "\n",
    "print('MSE train: {:.3f}, test: {:.3f}'.format(mean_squared_error(y_train, y_train_pred),mean_squared_error(y_test, y_test_pred)))\n",
    "\n",
    "print('R^2 train: {:.3f}, test: {:.3f}'.format(r2_score(y_train, y_train_pred),r2_score(y_test, y_test_pred)))"
   ]
  },
  {
   "cell_type": "code",
   "execution_count": 24,
   "metadata": {},
   "outputs": [
    {
     "name": "stderr",
     "output_type": "stream",
     "text": [
      "C:\\Program Files\\Anaconda3\\lib\\site-packages\\sklearn\\utils\\validation.py:578: DataConversionWarning: A column-vector y was passed when a 1d array was expected. Please change the shape of y to (n_samples, ), for example using ravel().\n",
      "  y = column_or_1d(y, warn=True)\n"
     ]
    },
    {
     "data": {
      "text/plain": [
       "{'alpha_1': 1e-06, 'lambda_1': 1e-07}"
      ]
     },
     "execution_count": 24,
     "metadata": {},
     "output_type": "execute_result"
    }
   ],
   "source": [
    "#Делю данные, создаю словарь параметров и пдбираю лучшие параметры\n",
    "\n",
    "x_train, x_test, y_train, y_test = cross_validation.train_test_split(X, y, test_size = 0.3, random_state = 0)\n",
    "\n",
    "param_grid_ByR = {\n",
    "    'alpha_1': np.linspace(1e-07, 1e-06, num = 10),\n",
    "    'lambda_1': np.linspace(1e-07, 1e-06, num = 10),\n",
    "    }\n",
    "\n",
    "grid_ByR = GridSearchCV(model_ByR, param_grid_ByR, n_jobs=-1, scoring ='r2',  cv = 5)\n",
    "grid_ByR.fit(X,y)\n",
    "\n",
    "grid_ByR.best_params_"
   ]
  },
  {
   "cell_type": "code",
   "execution_count": 25,
   "metadata": {},
   "outputs": [
    {
     "name": "stdout",
     "output_type": "stream",
     "text": [
      "MSE train: 0.237, test: 0.326\n",
      "R^2 train: 0.764, test: 0.670\n"
     ]
    }
   ],
   "source": [
    "#Оцениваю качество на лучших параметрах\n",
    "grid_ByR.best_estimator_.fit(x_train_scaled, y_train_scaled)\n",
    "\n",
    "y_train_pred_best = grid_ByR.best_estimator_.predict(x_train_scaled)\n",
    "y_test_pred_best = grid_ByR.best_estimator_.predict(x_test_scaled)\n",
    "\n",
    "#Оченка качества\n",
    "print('MSE train: {:.3f}, test: {:.3f}'.format(mean_squared_error(y_train_scaled, y_train_pred_best),\n",
    "                                               mean_squared_error(y_test_scaled, y_test_pred_best)))\n",
    "\n",
    "print('R^2 train: {:.3f}, test: {:.3f}'.format(r2_score(y_train_scaled, y_train_pred_best),\n",
    "                                               r2_score(y_test_scaled, y_test_pred_best)))"
   ]
  }
 ],
 "metadata": {
  "kernelspec": {
   "display_name": "Python 3",
   "language": "python",
   "name": "python3"
  },
  "language_info": {
   "codemirror_mode": {
    "name": "ipython",
    "version": 3
   },
   "file_extension": ".py",
   "mimetype": "text/x-python",
   "name": "python",
   "nbconvert_exporter": "python",
   "pygments_lexer": "ipython3",
   "version": "3.7.3"
  }
 },
 "nbformat": 4,
 "nbformat_minor": 2
}
