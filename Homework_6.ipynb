{
 "cells": [
  {
   "cell_type": "markdown",
   "metadata": {},
   "source": [
    "## Задание 1\n",
    "\n",
    "Скачайте с сайта https://grouplens.org/datasets/movielens/ датасет любого размера. Определите какому фильму было выставлено больше всего оценок 5.0."
   ]
  },
  {
   "cell_type": "code",
   "execution_count": 100,
   "metadata": {},
   "outputs": [
    {
     "data": {
      "text/html": [
       "<div>\n",
       "<style scoped>\n",
       "    .dataframe tbody tr th:only-of-type {\n",
       "        vertical-align: middle;\n",
       "    }\n",
       "\n",
       "    .dataframe tbody tr th {\n",
       "        vertical-align: top;\n",
       "    }\n",
       "\n",
       "    .dataframe thead th {\n",
       "        text-align: right;\n",
       "    }\n",
       "</style>\n",
       "<table border=\"1\" class=\"dataframe\">\n",
       "  <thead>\n",
       "    <tr style=\"text-align: right;\">\n",
       "      <th></th>\n",
       "      <th>movieId</th>\n",
       "      <th>title</th>\n",
       "      <th>genres</th>\n",
       "    </tr>\n",
       "  </thead>\n",
       "  <tbody>\n",
       "    <tr>\n",
       "      <th>293</th>\n",
       "      <td>296</td>\n",
       "      <td>Pulp Fiction (1994)</td>\n",
       "      <td>Comedy|Crime|Drama|Thriller</td>\n",
       "    </tr>\n",
       "  </tbody>\n",
       "</table>\n",
       "</div>"
      ],
      "text/plain": [
       "     movieId                title                       genres\n",
       "293      296  Pulp Fiction (1994)  Comedy|Crime|Drama|Thriller"
      ]
     },
     "execution_count": 100,
     "metadata": {},
     "output_type": "execute_result"
    }
   ],
   "source": [
    "import pandas as pd\n",
    "\n",
    "#создаю df \n",
    "movies = pd.read_csv(\"movies.csv\")\n",
    "data = pd.read_csv(\"ratings.csv\")\n",
    "\n",
    "#фильтрую по рейтингу \"5\"\n",
    "data.query(\"rating == 5\")\n",
    "\n",
    "#сортирую по столбцу \"movieId\": наиболе частое вхождение \n",
    "movie_id_data = data[\"movieId\"].value_counts()\n",
    "\n",
    "# получаю из ва \"movies\" название и атрибуты фильма\n",
    "movies[ (movies[\"movieId\"] == movie_id_data.index[0]) ]\n",
    "\n",
    "#Фильм, в российском прокате: \"Криминальное чтиво\""
   ]
  },
  {
   "cell_type": "markdown",
   "metadata": {},
   "source": [
    "## Задание 2\n",
    "\n",
    "По данным файла power.csv посчитайте суммарное потребление стран Прибалтики (Латвия, Литва и Эстония) категорий 4, 12 и 21 за период с 2005 по 2010 года. Не учитывайте в расчетах отрицательные значения quantity."
   ]
  },
  {
   "cell_type": "code",
   "execution_count": 58,
   "metadata": {},
   "outputs": [
    {
     "name": "stdout",
     "output_type": "stream",
     "text": [
      "Суммарное потребление стран Прибалтики:  81148.0\n"
     ]
    },
    {
     "name": "stderr",
     "output_type": "stream",
     "text": [
      "C:\\Program Files\\Anaconda3\\lib\\site-packages\\ipykernel_launcher.py:6: UserWarning: Pandas doesn't allow columns to be created via a new attribute name - see https://pandas.pydata.org/pandas-docs/stable/indexing.html#attribute-access\n",
      "  \n"
     ]
    }
   ],
   "source": [
    "import pandas as pd\n",
    "\n",
    "data = pd.read_csv('power.csv')\n",
    "\n",
    "#Создаю df для фильтрации\n",
    "data.search = pd.DataFrame( {'country':['Estonia', 'Latvia', 'Lithuania'],'category':[4,12,21]} )\n",
    "#data.search\n",
    "\n",
    "#Искал точные названия стран Прибалтики (Латвия, Литва и Эстония)\n",
    "#data[ data['country'].str.contains('ia', case=False) ]['country'].unique()\n",
    "# Estonia Latvia Lithuania\n",
    "\n",
    "#Фильтрую data по data.search, остаются только совпадающие знчения\n",
    "data_filtered = pd.merge(data, data.search, how='inner')\n",
    "\n",
    "#Фильтрую по условиям  2005< год < 2010 и потреблвание > 0\n",
    "data_result = data_filtered [ (data_filtered ['year'] > 2005) & (data_filtered ['year'] < 2010) & (data_filtered ['quantity'] > 0)]\n",
    "\n",
    "result = data_result['quantity'].sum()\n",
    "\n",
    "print (\"Суммарное потребление стран Прибалтики: \", result)"
   ]
  },
  {
   "cell_type": "markdown",
   "metadata": {},
   "source": [
    "## Задание 3\n",
    "\n",
    "Выберите страницу любого сайта с табличными данными. Импортируйте таблицы в pandas dataframe.\n",
    "\n",
    "Примеры страниц (необязательно брать именно эти):\n",
    "\n",
    "https://fortrader.org/quotes\n",
    "\n",
    "https://www.finanz.ru/valyuty/v-realnom-vremeni\n"
   ]
  },
  {
   "cell_type": "code",
   "execution_count": 92,
   "metadata": {},
   "outputs": [],
   "source": [
    "import pandas as pd\n",
    "\n",
    "fotrader = pd.read_html(\"https://fortrader.org/quotes\")\n",
    "\n",
    "finanz = pd.read_html(\"https://www.finanz.ru/valyuty/v-realnom-vremeni\")\n",
    "\n",
    "cbr = pd.read_html(\"http://cbr.ru\")"
   ]
  }
 ],
 "metadata": {
  "kernelspec": {
   "display_name": "Python 3",
   "language": "python",
   "name": "python3"
  },
  "language_info": {
   "codemirror_mode": {
    "name": "ipython",
    "version": 3
   },
   "file_extension": ".py",
   "mimetype": "text/x-python",
   "name": "python",
   "nbconvert_exporter": "python",
   "pygments_lexer": "ipython3",
   "version": "3.7.3"
  }
 },
 "nbformat": 4,
 "nbformat_minor": 2
}
