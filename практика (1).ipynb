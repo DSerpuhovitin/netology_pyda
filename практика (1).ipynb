{
 "cells": [
  {
   "cell_type": "code",
   "execution_count": 39,
   "metadata": {},
   "outputs": [],
   "source": [
    "import numpy as np\n",
    "import pandas as pd\n",
    "import matplotlib.pyplot as plt\n",
    "\n",
    "from sklearn.linear_model import LinearRegression"
   ]
  },
  {
   "cell_type": "code",
   "execution_count": 40,
   "metadata": {},
   "outputs": [
    {
     "data": {
      "text/html": [
       "<div>\n",
       "<style scoped>\n",
       "    .dataframe tbody tr th:only-of-type {\n",
       "        vertical-align: middle;\n",
       "    }\n",
       "\n",
       "    .dataframe tbody tr th {\n",
       "        vertical-align: top;\n",
       "    }\n",
       "\n",
       "    .dataframe thead th {\n",
       "        text-align: right;\n",
       "    }\n",
       "</style>\n",
       "<table border=\"1\" class=\"dataframe\">\n",
       "  <thead>\n",
       "    <tr style=\"text-align: right;\">\n",
       "      <th></th>\n",
       "      <th>age_owner</th>\n",
       "      <th>age_house</th>\n",
       "      <th>length</th>\n",
       "      <th>width</th>\n",
       "      <th>other_space</th>\n",
       "      <th>k_residential</th>\n",
       "      <th>k_other</th>\n",
       "      <th>price</th>\n",
       "    </tr>\n",
       "  </thead>\n",
       "  <tbody>\n",
       "    <tr>\n",
       "      <th>0</th>\n",
       "      <td>30</td>\n",
       "      <td>94</td>\n",
       "      <td>13</td>\n",
       "      <td>14</td>\n",
       "      <td>16.75</td>\n",
       "      <td>0.70</td>\n",
       "      <td>0.2100</td>\n",
       "      <td>130917.50</td>\n",
       "    </tr>\n",
       "    <tr>\n",
       "      <th>1</th>\n",
       "      <td>69</td>\n",
       "      <td>79</td>\n",
       "      <td>11</td>\n",
       "      <td>13</td>\n",
       "      <td>12.40</td>\n",
       "      <td>0.31</td>\n",
       "      <td>0.2139</td>\n",
       "      <td>46982.36</td>\n",
       "    </tr>\n",
       "    <tr>\n",
       "      <th>2</th>\n",
       "      <td>24</td>\n",
       "      <td>64</td>\n",
       "      <td>14</td>\n",
       "      <td>13</td>\n",
       "      <td>9.80</td>\n",
       "      <td>0.76</td>\n",
       "      <td>0.1824</td>\n",
       "      <td>140107.52</td>\n",
       "    </tr>\n",
       "    <tr>\n",
       "      <th>3</th>\n",
       "      <td>36</td>\n",
       "      <td>119</td>\n",
       "      <td>14</td>\n",
       "      <td>14</td>\n",
       "      <td>11.40</td>\n",
       "      <td>0.64</td>\n",
       "      <td>0.2304</td>\n",
       "      <td>128066.56</td>\n",
       "    </tr>\n",
       "    <tr>\n",
       "      <th>4</th>\n",
       "      <td>42</td>\n",
       "      <td>70</td>\n",
       "      <td>16</td>\n",
       "      <td>10</td>\n",
       "      <td>10.20</td>\n",
       "      <td>0.58</td>\n",
       "      <td>0.2436</td>\n",
       "      <td>95284.72</td>\n",
       "    </tr>\n",
       "  </tbody>\n",
       "</table>\n",
       "</div>"
      ],
      "text/plain": [
       "   age_owner  age_house  length  width  other_space  k_residential  k_other  \\\n",
       "0         30         94      13     14        16.75           0.70   0.2100   \n",
       "1         69         79      11     13        12.40           0.31   0.2139   \n",
       "2         24         64      14     13         9.80           0.76   0.1824   \n",
       "3         36        119      14     14        11.40           0.64   0.2304   \n",
       "4         42         70      16     10        10.20           0.58   0.2436   \n",
       "\n",
       "       price  \n",
       "0  130917.50  \n",
       "1   46982.36  \n",
       "2  140107.52  \n",
       "3  128066.56  \n",
       "4   95284.72  "
      ]
     },
     "execution_count": 40,
     "metadata": {},
     "output_type": "execute_result"
    }
   ],
   "source": [
    "# Создаём сэмпл\n",
    "n_samples = 500\n",
    "\n",
    "age_owner = np.random.choice(70, n_samples) + 18\n",
    "age_house = np.random.choice(120, n_samples) + 1\n",
    "\n",
    "#размеры жилого помещения в м\n",
    "length = np.random.choice(10, n_samples) + 7\n",
    "width = np.random.choice(8, n_samples) + 7\n",
    "\n",
    "#площадь не жилого помещения в м*м\n",
    "other_space = np.random.choice(length * width/20, n_samples) + 7\n",
    "\n",
    "#коэф. стоимости\n",
    "k_residential = 1 - (age_owner/100)\n",
    "k_other = k_residential * (age_owner/100)\n",
    "\n",
    "\n",
    "price = (k_residential * (length * width) + k_other * other_space) * 1000\n",
    "\n",
    "data = pd.DataFrame({'age_owner': age_owner, 'age_house': age_house, 'length': length, 'width': width,\n",
    "                     'other_space': other_space, 'k_residential': k_residential, 'k_other': k_other, 'price': price})\n",
    "data.head(5)"
   ]
  },
  {
   "cell_type": "code",
   "execution_count": 41,
   "metadata": {},
   "outputs": [
    {
     "name": "stdout",
     "output_type": "stream",
     "text": [
      "Weights: [-1.21314748e+03  2.31570573e+00  5.00669825e+03  5.38898464e+03\n",
      "  2.37390672e+02]\n",
      "Bias: 6038.0342362388255\n",
      "Error: 6233.558655713808\n"
     ]
    }
   ],
   "source": [
    "from sklearn.metrics import mean_absolute_error\n",
    "\n",
    "X = data[['age_owner', 'age_house', 'length', 'width', 'other_space']]\n",
    "y = data['price']\n",
    "reg = LinearRegression().fit(X, y)\n",
    "print('Weights: {}'.format(reg.coef_))\n",
    "print('Bias: {}'.format(reg.intercept_))\n",
    "\n",
    "pred_values = reg.predict(data[['age_owner', 'age_house', 'length', 'width', 'other_space']])\n",
    "print('Error: {}'.format(mean_absolute_error(pred_values, y)))"
   ]
  },
  {
   "cell_type": "code",
   "execution_count": 47,
   "metadata": {},
   "outputs": [
    {
     "data": {
      "text/plain": [
       "array([[<matplotlib.axes._subplots.AxesSubplot object at 0x000000000CC8F630>]],\n",
       "      dtype=object)"
      ]
     },
     "execution_count": 47,
     "metadata": {},
     "output_type": "execute_result"
    },
    {
     "data": {
      "image/png": "[encoded data removed]",
      "text/plain": [
       "<Figure size 432x288 with 1 Axes>"
      ]
     },
     "metadata": {
      "needs_background": "light"
     },
     "output_type": "display_data"
    }
   ],
   "source": [
    "#посмотрим распределение\n",
    "pd.DataFrame(pred_values).hist()"
   ]
  },
  {
   "cell_type": "code",
   "execution_count": 50,
   "metadata": {},
   "outputs": [
    {
     "name": "stdout",
     "output_type": "stream",
     "text": [
      "Weights: [   8.52537523 4668.9171272  5420.06772972]\n",
      "Bias: -52412.93188950982\n",
      "Error: 20447.406635952295\n"
     ]
    }
   ],
   "source": [
    "#посмотрим линейную регресию на 'age_house', 'length', 'width'\n",
    "X = data[['age_house', 'length', 'width']]\n",
    "y = data['price']\n",
    "reg = LinearRegression().fit(X, y)\n",
    "print('Weights: {}'.format(reg.coef_))\n",
    "print('Bias: {}'.format(reg.intercept_))\n",
    "\n",
    "pred_values = reg.predict(data[['age_house', 'length', 'width',]])\n",
    "print('Error: {}'.format(mean_absolute_error(pred_values, y)))"
   ]
  },
  {
   "cell_type": "markdown",
   "metadata": {},
   "source": [
    "Ошибка стала больше :)"
   ]
  },
  {
   "cell_type": "code",
   "execution_count": 59,
   "metadata": {},
   "outputs": [
    {
     "data": {
      "text/html": [
       "<div>\n",
       "<style scoped>\n",
       "    .dataframe tbody tr th:only-of-type {\n",
       "        vertical-align: middle;\n",
       "    }\n",
       "\n",
       "    .dataframe tbody tr th {\n",
       "        vertical-align: top;\n",
       "    }\n",
       "\n",
       "    .dataframe thead th {\n",
       "        text-align: right;\n",
       "    }\n",
       "</style>\n",
       "<table border=\"1\" class=\"dataframe\">\n",
       "  <thead>\n",
       "    <tr style=\"text-align: right;\">\n",
       "      <th></th>\n",
       "      <th>age_owner</th>\n",
       "      <th>age_house</th>\n",
       "      <th>length</th>\n",
       "      <th>width</th>\n",
       "      <th>other_space</th>\n",
       "      <th>k_residential</th>\n",
       "      <th>k_other</th>\n",
       "      <th>price</th>\n",
       "      <th>mult_age</th>\n",
       "    </tr>\n",
       "  </thead>\n",
       "  <tbody>\n",
       "    <tr>\n",
       "      <th>0</th>\n",
       "      <td>30</td>\n",
       "      <td>94</td>\n",
       "      <td>13</td>\n",
       "      <td>14</td>\n",
       "      <td>16.75</td>\n",
       "      <td>0.70</td>\n",
       "      <td>0.2100</td>\n",
       "      <td>130917.50</td>\n",
       "      <td>3.133333</td>\n",
       "    </tr>\n",
       "    <tr>\n",
       "      <th>1</th>\n",
       "      <td>69</td>\n",
       "      <td>79</td>\n",
       "      <td>11</td>\n",
       "      <td>13</td>\n",
       "      <td>12.40</td>\n",
       "      <td>0.31</td>\n",
       "      <td>0.2139</td>\n",
       "      <td>46982.36</td>\n",
       "      <td>1.144928</td>\n",
       "    </tr>\n",
       "    <tr>\n",
       "      <th>2</th>\n",
       "      <td>24</td>\n",
       "      <td>64</td>\n",
       "      <td>14</td>\n",
       "      <td>13</td>\n",
       "      <td>9.80</td>\n",
       "      <td>0.76</td>\n",
       "      <td>0.1824</td>\n",
       "      <td>140107.52</td>\n",
       "      <td>2.666667</td>\n",
       "    </tr>\n",
       "    <tr>\n",
       "      <th>3</th>\n",
       "      <td>36</td>\n",
       "      <td>119</td>\n",
       "      <td>14</td>\n",
       "      <td>14</td>\n",
       "      <td>11.40</td>\n",
       "      <td>0.64</td>\n",
       "      <td>0.2304</td>\n",
       "      <td>128066.56</td>\n",
       "      <td>3.305556</td>\n",
       "    </tr>\n",
       "    <tr>\n",
       "      <th>4</th>\n",
       "      <td>42</td>\n",
       "      <td>70</td>\n",
       "      <td>16</td>\n",
       "      <td>10</td>\n",
       "      <td>10.20</td>\n",
       "      <td>0.58</td>\n",
       "      <td>0.2436</td>\n",
       "      <td>95284.72</td>\n",
       "      <td>1.666667</td>\n",
       "    </tr>\n",
       "  </tbody>\n",
       "</table>\n",
       "</div>"
      ],
      "text/plain": [
       "   age_owner  age_house  length  width  other_space  k_residential  k_other  \\\n",
       "0         30         94      13     14        16.75           0.70   0.2100   \n",
       "1         69         79      11     13        12.40           0.31   0.2139   \n",
       "2         24         64      14     13         9.80           0.76   0.1824   \n",
       "3         36        119      14     14        11.40           0.64   0.2304   \n",
       "4         42         70      16     10        10.20           0.58   0.2436   \n",
       "\n",
       "       price  mult_age  \n",
       "0  130917.50  3.133333  \n",
       "1   46982.36  1.144928  \n",
       "2  140107.52  2.666667  \n",
       "3  128066.56  3.305556  \n",
       "4   95284.72  1.666667  "
      ]
     },
     "execution_count": 59,
     "metadata": {},
     "output_type": "execute_result"
    }
   ],
   "source": [
    "# Создаем новый признак\n",
    "data['mult_age'] = data['age_house'] / data['age_owner']\n",
    "data.head(5)"
   ]
  },
  {
   "cell_type": "code",
   "execution_count": 58,
   "metadata": {},
   "outputs": [
    {
     "name": "stdout",
     "output_type": "stream",
     "text": [
      "Weights: [-562.09648894]\n",
      "Bias: 59720.929809674686\n",
      "Error: 24257.43470261546\n"
     ]
    }
   ],
   "source": [
    "X = data[['mult_age']]\n",
    "y = data['price']\n",
    "reg = LinearRegression().fit(X, y)\n",
    "print('Weights: {}'.format(reg.coef_))\n",
    "print('Bias: {}'.format(reg.intercept_))\n",
    "\n",
    "pred_values = reg.predict(data[['mult_age']])\n",
    "print('Error: {}'.format(mean_absolute_error(pred_values, y)))"
   ]
  },
  {
   "cell_type": "markdown",
   "metadata": {},
   "source": [
    "Ошибка стала ещё больше. По видимому, добавление призанков наугад не продуктивна :)"
   ]
  }
 ],
 "metadata": {
  "kernelspec": {
   "display_name": "Python 3",
   "language": "python",
   "name": "python3"
  },
  "language_info": {
   "codemirror_mode": {
    "name": "ipython",
    "version": 3
   },
   "file_extension": ".py",
   "mimetype": "text/x-python",
   "name": "python",
   "nbconvert_exporter": "python",
   "pygments_lexer": "ipython3",
   "version": "3.7.3"
  }
 },
 "nbformat": 4,
 "nbformat_minor": 2
}
