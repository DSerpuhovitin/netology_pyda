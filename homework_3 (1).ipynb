{
 "cells": [
  {
   "cell_type": "markdown",
   "metadata": {},
   "source": [
    "## Задание 1"
   ]
  },
  {
   "cell_type": "markdown",
   "metadata": {},
   "source": [
    "Дан список вида:"
   ]
  },
  {
   "cell_type": "code",
   "execution_count": 1,
   "metadata": {},
   "outputs": [
    {
     "data": {
      "text/plain": [
       "103"
      ]
     },
     "execution_count": 1,
     "metadata": {},
     "output_type": "execute_result"
    }
   ],
   "source": [
    "data = [\n",
    "    [13, 25, 23, 34],\n",
    "    [45, 32, 44, 47],\n",
    "    [12, 33, 23, 95],\n",
    "    [13, 53, 34, 35]\n",
    "]\n",
    "\n",
    "def summ_diag(array):\n",
    "    import numpy\n",
    "    \n",
    "    diagonal = 0\n",
    "    diagonal = numpy.diag(array)\n",
    "    sum_diag_serv = sum(diagonal)\n",
    "    \n",
    "    return sum_diag_serv\n",
    "\n",
    "summ_diag(data)"
   ]
  },
  {
   "cell_type": "markdown",
   "metadata": {},
   "source": [
    "Напишите функцию, которая возвращает сумму элементов на диагонали. Т. е. 13+32+23+35."
   ]
  },
  {
   "cell_type": "markdown",
   "metadata": {},
   "source": [
    "## Задание 2"
   ]
  },
  {
   "cell_type": "markdown",
   "metadata": {},
   "source": [
    "Дан список чисел, часть из которых имеют строковый тип или содержат буквы. Напишите функцию, которая возвращает сумму квадратов элементов, которые могут быть числами."
   ]
  },
  {
   "cell_type": "code",
   "execution_count": 2,
   "metadata": {},
   "outputs": [
    {
     "data": {
      "text/plain": [
       "430"
      ]
     },
     "execution_count": 2,
     "metadata": {},
     "output_type": "execute_result"
    }
   ],
   "source": [
    "data = [1, '5', 'abc', 20, '2']\n",
    "\n",
    "def sum_square(array):\n",
    "    sum_square = 0\n",
    "\n",
    "    for serv_var in array:\n",
    "        try: \n",
    "            sum_square += int(serv_var)**2\n",
    "        except: \n",
    "            pass\n",
    "     \n",
    "    return sum_square\n",
    "\n",
    "sum_square(data)"
   ]
  },
  {
   "cell_type": "markdown",
   "metadata": {},
   "source": [
    "## Задание 3"
   ]
  },
  {
   "cell_type": "markdown",
   "metadata": {},
   "source": [
    "Напишите функцию, возвращающую сумму первых n чисел Фибоначчи."
   ]
  },
  {
   "cell_type": "code",
   "execution_count": 24,
   "metadata": {},
   "outputs": [
    {
     "name": "stdout",
     "output_type": "stream",
     "text": [
      "Число 5\n",
      "Сумма первых 5 чисел ряда Фибоначчи:  12\n"
     ]
    }
   ],
   "source": [
    "#Вариант 1\n",
    "def fibo(n):\n",
    "    res1 = 0\n",
    "    if n in [1,2]:\n",
    "        return 1\n",
    "    else:\n",
    "        res1 = fibo(n-1) + fibo(n-2)\n",
    "    return res1\n",
    "\n",
    "def sum_fibo(n):\n",
    "    res=[]\n",
    "    res = [fibo(i) for i in range(1, n+1)]\n",
    "       \n",
    "    return sum(res)\n",
    "\n",
    "number = int(input(\"Число \"))\n",
    "print (\"Сумма первых\", number, \"чисел ряда Фибоначчи: \", sum_fibo(number))"
   ]
  },
  {
   "cell_type": "code",
   "execution_count": 25,
   "metadata": {},
   "outputs": [
    {
     "name": "stdout",
     "output_type": "stream",
     "text": [
      "Введите колличество суммируемых элементов ряда Фибоначчи: 5\n",
      "Сумма 12\n"
     ]
    }
   ],
   "source": [
    "#Вариант 2\n",
    "def fibo_2(n):\n",
    "    if n < 2:\n",
    "        return 1\n",
    "    else:\n",
    "        return fibo_2(n-1) + fibo_2(n-2)\n",
    "     \n",
    "n_2 = int(input(\"Введите колличество суммируемых элементов ряда Фибоначчи: \"))\n",
    "\n",
    "sum = 1\n",
    "for i in range(1, n_2):\n",
    "    sum +=  fibo_2(i)\n",
    "   \n",
    "print(\"Сумма\", sum)"
   ]
  },
  {
   "cell_type": "markdown",
   "metadata": {},
   "source": [
    "## Задание 4"
   ]
  },
  {
   "cell_type": "markdown",
   "metadata": {},
   "source": [
    "Дан набор данных об обучении студентов на курсе программирования, который содержит: \n",
    "1) имя\n",
    "2) фамилию \n",
    "3) пол \n",
    "4) наличие у студента опыта в программировании \n",
    "5) набор оценок за домашние работы \n",
    "6) оценку за итоговую работу.\n",
    "\n",
    "Напишите программу, которая будет принимать команду от пользователя и возвращать соотвествующий результат.\n",
    "Список команд: \n",
    "1 - вывести на экран среднюю оценку за все ДЗ по группе и вывести на экран среднюю оценку за экзамен по группе;\n",
    "2 - вывести среднюю оценку за ДЗ и за экзамен по группе в разрезе пола студентов\n",
    "3 - вывести среднюю оценку за ДЗ и за экзамен в разрезе наличия опыта в программировании у студентов.\n",
    "\n",
    "Прогрмма должна быть полностью декомпозирована на функции (кроме объявления функций и вызова итоговой функции в реализации ничего быть не должно)."
   ]
  },
  {
   "cell_type": "code",
   "execution_count": null,
   "metadata": {},
   "outputs": [],
   "source": [
    "students_list = [\n",
    "    {'name': 'Василий', 'surname': 'Теркин', 'sex': 'м', 'program_exp': True, 'grade': [8, 8, 9, 10, 9], 'exam': 9},\n",
    "    {'name': 'Мария', 'surname': 'Павлова', 'sex': 'ж', 'program_exp': True, 'grade': [7, 8, 9, 7, 9], 'exam': 8},\n",
    "    {'name': 'Ирина', 'surname': 'Андреева', 'sex': 'ж', 'program_exp': True, 'grade': [10, 9, 8, 10, 10], 'exam': 10},\n",
    "    {'name': 'Татьяна', 'surname': 'Сидорова', 'sex': 'ж', 'program_exp': True, 'grade': [7, 8, 8, 9, 8], 'exam': 8},\n",
    "    {'name': 'Иван', 'surname': 'Васильев', 'sex': 'ж', 'program_exp': True, 'grade': [9, 8, 9, 6, 9], 'exam': 10},\n",
    "    {'name': 'Роман', 'surname': 'Золотарев', 'sex': 'ж', 'program_exp': False, 'grade': [8, 9, 9, 6, 9], 'exam': 10}\n",
    "]"
   ]
  },
  {
   "cell_type": "code",
   "execution_count": null,
   "metadata": {},
   "outputs": [],
   "source": [
    "students_list = [\n",
    "    {'name': 'Василий', 'surname': 'Теркин', 'sex': 'м', 'program_exp': True, 'grade': [8, 8, 9, 10, 9], 'exam': 9},\n",
    "    {'name': 'Мария', 'surname': 'Павлова', 'sex': 'ж', 'program_exp': True, 'grade': [7, 8, 9, 7, 9], 'exam': 8},\n",
    "    {'name': 'Ирина', 'surname': 'Андреева', 'sex': 'ж', 'program_exp': True, 'grade': [10, 9, 8, 10, 10], 'exam': 10},\n",
    "    {'name': 'Татьяна', 'surname': 'Сидорова', 'sex': 'ж', 'program_exp': True, 'grade': [7, 8, 8, 9, 8], 'exam': 8},\n",
    "    {'name': 'Иван', 'surname': 'Васильев', 'sex': 'ж', 'program_exp': True, 'grade': [9, 8, 9, 6, 9], 'exam': 10},\n",
    "    {'name': 'Роман', 'surname': 'Золотарев', 'sex': 'ж', 'program_exp': False, 'grade': [8, 9, 9, 6, 9], 'exam': 10}\n",
    "] \n",
    "\n",
    "#Вывод\n",
    "def output(base_text, avarage_grade, avarage_exam):\n",
    "    #Создание строки вывода    \n",
    "    output_text =  base_text + \" за ДЗ - %s за экзамен - %s\" % (avarage_grade, avarage_exam)\n",
    "    print(output_text)\n",
    "\n",
    "#Вычисление среднего значения по ключу из списка студентов\n",
    "def get_avarage_by_key(students: list, key: str) -> float:\n",
    "    subtotal = 0\n",
    "    num_grades = 0\n",
    "    \n",
    "    for student in students:\n",
    "        if type(student[key]) == list:\n",
    "            subtotal += sum(student[key])\n",
    "            num_grades += len(student[key])\n",
    "        else:\n",
    "            subtotal += student[key]\n",
    "            num_grades += 1\n",
    "    return subtotal / num_grades\n",
    "\n",
    "#Cчитает среднюю оценку за дз и экзамен по списку\n",
    "def get_avarage_pair(students_list: list) -> tuple:\n",
    "    avarage_grade = get_avarage_by_key(students_list, \"grade\")\n",
    "    avarage_exam = get_avarage_by_key(students_list, \"exam\")\n",
    "    return (avarage_grade, avarage_exam)\n",
    "    \n",
    "#1 - Среднее для всей группы\n",
    "def avarage_whole_group(students_list: list) -> None:\n",
    "    avarage_grade, avarage_exam = get_avarage_pair(students_list)\n",
    "    output(\"Среднее по группе\", avarage_grade, avarage_exam)\n",
    "    \n",
    "#2 - среднее по группе в разрезе пола\n",
    "def avarage_gender(students_list: list) -> None:\n",
    "    students_man_list = list(item for item in students_list if item[\"sex\"] == \"м\")\n",
    "    students_woman_list = list(item for item in students_list if item[\"sex\"] == \"ж\")\n",
    "    \n",
    "    avarage_man_grade, avarage_man_exam = get_avarage_pair(students_man_list)\n",
    "    avarage_woman_grade, avarage_woman_exam = get_avarage_pair(students_woman_list)\n",
    "    \n",
    "    output(\"Для мужчин\", avarage_man_grade, avarage_man_exam)\n",
    "    output(\"Для женщин\", avarage_woman_grade, avarage_woman_exam)\n",
    "    \n",
    "def avarage_experience(students_list: list) -> None:\n",
    "    students_exp_list = list(item for item in students_list if item[\"program_exp\"])\n",
    "    students_no_exp_list = list(item for item in students_list if not item[\"program_exp\"])\n",
    "    \n",
    "    avarage_exp_grade, avarage_exp_exam = get_avarage_pair(students_exp_list)   \n",
    "    avarage_no_exp_grade, avarage_no_exp_exam = get_avarage_pair(students_no_exp_list)\n",
    "    \n",
    "    output(\"С опытом программирования\", avarage_exp_grade, avarage_exp_exam)\n",
    "    output(\"Без опыта\", avarage_no_exp_grade, avarage_no_exp_exam)\n",
    "    \n",
    "def group_stats():\n",
    "    print(\"1 - вывести среднюю оценку за ДЗ и экзамен по группе\")\n",
    "    print(\"2 - вывести среднюю оценку за ДЗ и экзамен по группе в разрезе пола студентов\")\n",
    "    print(\"3 - вывести среднюю оценку за ДЗ и экзамен по группе в разрезе наличия опыта программирования студентов\")\n",
    "    \n",
    "    answer = input()\n",
    "    if answer == \"1\":\n",
    "        avarage_whole_group(students_list)\n",
    "    elif answer == \"2\":\n",
    "        avarage_gender(students_list)\n",
    "    elif answer == \"3\":\n",
    "        avarage_experience(students_list)\n",
    "    else:\n",
    "        return \"ERROR\"\n",
    "    \n",
    "group_stats()"
   ]
  }
 ],
 "metadata": {
  "kernelspec": {
   "display_name": "Python 3",
   "language": "python",
   "name": "python3"
  },
  "language_info": {
   "codemirror_mode": {
    "name": "ipython",
    "version": 3
   },
   "file_extension": ".py",
   "mimetype": "text/x-python",
   "name": "python",
   "nbconvert_exporter": "python",
   "pygments_lexer": "ipython3",
   "version": "3.7.3"
  }
 },
 "nbformat": 4,
 "nbformat_minor": 2
}
